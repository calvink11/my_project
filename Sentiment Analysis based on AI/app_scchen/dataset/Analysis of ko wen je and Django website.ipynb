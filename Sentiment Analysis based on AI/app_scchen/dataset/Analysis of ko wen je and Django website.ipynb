{
 "cells": [
  {
   "cell_type": "markdown",
   "metadata": {},
   "source": [
    "# 時中指數"
   ]
  },
  {
   "cell_type": "markdown",
   "metadata": {},
   "source": [
    "# Load Data "
   ]
  },
  {
   "cell_type": "code",
   "execution_count": 5,
   "metadata": {},
   "outputs": [],
   "source": [
    "import pandas as pd\n",
    "from datetime import datetime, timedelta\n",
    "\n",
    "df = pd.read_csv('./now_news_preprocessed.csv',sep='|')"
   ]
  },
  {
   "cell_type": "code",
   "execution_count": 6,
   "metadata": {},
   "outputs": [
    {
     "data": {
      "text/html": [
       "<div>\n",
       "<style scoped>\n",
       "    .dataframe tbody tr th:only-of-type {\n",
       "        vertical-align: middle;\n",
       "    }\n",
       "\n",
       "    .dataframe tbody tr th {\n",
       "        vertical-align: top;\n",
       "    }\n",
       "\n",
       "    .dataframe thead th {\n",
       "        text-align: right;\n",
       "    }\n",
       "</style>\n",
       "<table border=\"1\" class=\"dataframe\">\n",
       "  <thead>\n",
       "    <tr style=\"text-align: right;\">\n",
       "      <th></th>\n",
       "      <th>item_id</th>\n",
       "      <th>date</th>\n",
       "      <th>category</th>\n",
       "      <th>title</th>\n",
       "      <th>content</th>\n",
       "      <th>sentiment</th>\n",
       "      <th>summary</th>\n",
       "      <th>top_key_freq</th>\n",
       "      <th>tokens</th>\n",
       "      <th>tokens_v2</th>\n",
       "      <th>entities</th>\n",
       "      <th>token_pos</th>\n",
       "      <th>link</th>\n",
       "      <th>photo_link</th>\n",
       "    </tr>\n",
       "  </thead>\n",
       "  <tbody>\n",
       "    <tr>\n",
       "      <th>0</th>\n",
       "      <td>column/_20220505_1001</td>\n",
       "      <td>2022-05-05</td>\n",
       "      <td>焦點</td>\n",
       "      <td>配發率32%！富邦金每股配4元股利、現金股利歷史新高</td>\n",
       "      <td>富邦金控今（5）日公告，董事會決議通過擬配發普通股每股現金股利3.5元及股票股利0.5元，合...</td>\n",
       "      <td>0.0</td>\n",
       "      <td>['富邦金這次同時配發股票股利每股0.5元', '包含富邦人壽上繳155.78億元、台北富邦...</td>\n",
       "      <td>[('股利', 18), ('富邦', 12), ('現金', 9), ('股票', 5),...</td>\n",
       "      <td>['富邦', '金控', '今', '（5', '）', '日', '公告', '，', '...</td>\n",
       "      <td>['富邦', '金控', '董事會', '通過', '普通股', '現金', '股利', '...</td>\n",
       "      <td>[NerToken(word='富邦金控', ner='ORG', idx=(0, 4)),...</td>\n",
       "      <td>[('富邦', 'Nb'), ('金控', 'Na'), ('今', 'Nd'), ('（5...</td>\n",
       "      <td>https://www.nownews.com/news/5796259</td>\n",
       "      <td>https://media.nownews.com/nn_media/thumbnail/2...</td>\n",
       "    </tr>\n",
       "  </tbody>\n",
       "</table>\n",
       "</div>"
      ],
      "text/plain": [
       "                 item_id        date category                       title  \\\n",
       "0  column/_20220505_1001  2022-05-05       焦點  配發率32%！富邦金每股配4元股利、現金股利歷史新高   \n",
       "\n",
       "                                             content  sentiment  \\\n",
       "0  富邦金控今（5）日公告，董事會決議通過擬配發普通股每股現金股利3.5元及股票股利0.5元，合...        0.0   \n",
       "\n",
       "                                             summary  \\\n",
       "0  ['富邦金這次同時配發股票股利每股0.5元', '包含富邦人壽上繳155.78億元、台北富邦...   \n",
       "\n",
       "                                        top_key_freq  \\\n",
       "0  [('股利', 18), ('富邦', 12), ('現金', 9), ('股票', 5),...   \n",
       "\n",
       "                                              tokens  \\\n",
       "0  ['富邦', '金控', '今', '（5', '）', '日', '公告', '，', '...   \n",
       "\n",
       "                                           tokens_v2  \\\n",
       "0  ['富邦', '金控', '董事會', '通過', '普通股', '現金', '股利', '...   \n",
       "\n",
       "                                            entities  \\\n",
       "0  [NerToken(word='富邦金控', ner='ORG', idx=(0, 4)),...   \n",
       "\n",
       "                                           token_pos  \\\n",
       "0  [('富邦', 'Nb'), ('金控', 'Na'), ('今', 'Nd'), ('（5...   \n",
       "\n",
       "                                   link  \\\n",
       "0  https://www.nownews.com/news/5796259   \n",
       "\n",
       "                                          photo_link  \n",
       "0  https://media.nownews.com/nn_media/thumbnail/2...  "
      ]
     },
     "execution_count": 6,
     "metadata": {},
     "output_type": "execute_result"
    }
   ],
   "source": [
    "df.head(1)"
   ]
  },
  {
   "cell_type": "code",
   "execution_count": 7,
   "metadata": {},
   "outputs": [
    {
     "data": {
      "text/plain": [
       "(3671, 14)"
      ]
     },
     "execution_count": 7,
     "metadata": {},
     "output_type": "execute_result"
    }
   ],
   "source": [
    "df.shape"
   ]
  },
  {
   "cell_type": "markdown",
   "metadata": {},
   "source": [
    "# Filter news for selected keywords"
   ]
  },
  {
   "cell_type": "code",
   "execution_count": 8,
   "metadata": {},
   "outputs": [],
   "source": [
    "# end date: the date of the last record of news\n",
    "end_date = df.iloc[-1].date\n",
    "end_date = df.date.max()\n",
    "\n",
    "# start date\n",
    "weeks = 4 # week duration for analysis\n",
    "start_date = (datetime.strptime(end_date, '%Y-%m-%d').date() - timedelta(weeks=weeks)).strftime('%Y-%m-%d')"
   ]
  },
  {
   "cell_type": "code",
   "execution_count": 9,
   "metadata": {},
   "outputs": [
    {
     "data": {
      "text/plain": [
       "'2022-06-05'"
      ]
     },
     "execution_count": 9,
     "metadata": {},
     "output_type": "execute_result"
    }
   ],
   "source": [
    "df.iloc[-1].date"
   ]
  },
  {
   "cell_type": "code",
   "execution_count": 10,
   "metadata": {},
   "outputs": [
    {
     "data": {
      "text/plain": [
       "'2022-06-08'"
      ]
     },
     "execution_count": 10,
     "metadata": {},
     "output_type": "execute_result"
    }
   ],
   "source": [
    "df.date.max()"
   ]
  },
  {
   "cell_type": "code",
   "execution_count": 11,
   "metadata": {},
   "outputs": [],
   "source": [
    "keyword = ['柯文哲','文哲']"
   ]
  },
  {
   "cell_type": "code",
   "execution_count": 12,
   "metadata": {},
   "outputs": [],
   "source": [
    "query_df = df[\n",
    "    (df['date'] >= start_date) & (df['date'] <= end_date) & df['tokens_v2'].str.contains('|'.join(keyword))]"
   ]
  },
  {
   "cell_type": "code",
   "execution_count": 13,
   "metadata": {},
   "outputs": [
    {
     "data": {
      "text/plain": [
       "92"
      ]
     },
     "execution_count": 13,
     "metadata": {},
     "output_type": "execute_result"
    }
   ],
   "source": [
    "len(query_df)"
   ]
  },
  {
   "cell_type": "markdown",
   "metadata": {},
   "source": [
    "# Count how many pieces of news containing these keywords計算各類別多少篇文章提到該關鍵字\n",
    "\n",
    "# Count how many times these keywords were mentioned in each category計算各類別出現關鍵字次數"
   ]
  },
  {
   "cell_type": "code",
   "execution_count": 14,
   "metadata": {},
   "outputs": [],
   "source": [
    "# **計算各類別多少篇文章提到該關鍵字\n",
    "# **計算各類別出現關鍵字次數\n",
    "\n",
    "news_categories = ['焦點', '要聞', '即時', '娛樂', '新奇', '生活', '財經', '專題', '全球', '運動', '全部']\n",
    "\n",
    "\n",
    "def count_keyword(query_df, keyword):\n",
    "    cate_occurrence = {}\n",
    "    cate_freq = {}\n",
    "\n",
    "    for cate in news_categories:\n",
    "        cate_occurrence[cate] = 0\n",
    "        cate_freq[cate] = 0\n",
    "\n",
    "    for idx, row in query_df.iterrows():\n",
    "        # count number of news\n",
    "        cate_occurrence[row.category] += 1\n",
    "        cate_occurrence['全部'] += 1\n",
    "        # count keyword frequency\n",
    "        tokens = eval(row.tokens_v2)\n",
    "        freq = len([word for word in tokens if (word in keyword)])\n",
    "        cate_freq[row.category] += freq\n",
    "        cate_freq['全部'] += freq\n",
    "    return cate_freq, cate_occurrence"
   ]
  },
  {
   "cell_type": "code",
   "execution_count": 15,
   "metadata": {},
   "outputs": [
    {
     "data": {
      "text/plain": [
       "({'焦點': 83,\n",
       "  '要聞': 148,\n",
       "  '即時': 25,\n",
       "  '娛樂': 0,\n",
       "  '新奇': 0,\n",
       "  '生活': 98,\n",
       "  '財經': 0,\n",
       "  '專題': 0,\n",
       "  '全球': 1,\n",
       "  '運動': 14,\n",
       "  '全部': 369},\n",
       " {'焦點': 22,\n",
       "  '要聞': 38,\n",
       "  '即時': 10,\n",
       "  '娛樂': 0,\n",
       "  '新奇': 0,\n",
       "  '生活': 19,\n",
       "  '財經': 0,\n",
       "  '專題': 0,\n",
       "  '全球': 1,\n",
       "  '運動': 2,\n",
       "  '全部': 92})"
      ]
     },
     "execution_count": 15,
     "metadata": {},
     "output_type": "execute_result"
    }
   ],
   "source": [
    "count_keyword(query_df, keyword)"
   ]
  },
  {
   "cell_type": "code",
   "execution_count": null,
   "metadata": {},
   "outputs": [],
   "source": []
  },
  {
   "cell_type": "markdown",
   "metadata": {},
   "source": [
    "# Caclulate date-based reported frequency of these keywords計算被報導的次數以時間為基礎"
   ]
  },
  {
   "cell_type": "code",
   "execution_count": 16,
   "metadata": {},
   "outputs": [],
   "source": [
    "def get_key_time_freq(query_df, keyword):\n",
    "    date_samples = query_df.date\n",
    "    query_freq = pd.DataFrame({'date_index': pd.to_datetime(date_samples), 'freq': [1 for _ in range(len(query_df))]})\n",
    "    data = query_freq.groupby(pd.Grouper(key='date_index', freq='D')).sum()\n",
    "    time_data = []\n",
    "    for i, idx in enumerate(data.index):\n",
    "        row = {'x': idx.strftime('%Y-%m-%d'), 'y': int(data.iloc[i].freq)}\n",
    "        time_data.append(row)\n",
    "    return time_data"
   ]
  },
  {
   "cell_type": "code",
   "execution_count": 17,
   "metadata": {},
   "outputs": [
    {
     "data": {
      "text/plain": [
       "[{'x': '2022-05-11', 'y': 3},\n",
       " {'x': '2022-05-12', 'y': 6},\n",
       " {'x': '2022-05-13', 'y': 0},\n",
       " {'x': '2022-05-14', 'y': 7},\n",
       " {'x': '2022-05-15', 'y': 0},\n",
       " {'x': '2022-05-16', 'y': 0},\n",
       " {'x': '2022-05-17', 'y': 0},\n",
       " {'x': '2022-05-18', 'y': 0},\n",
       " {'x': '2022-05-19', 'y': 0},\n",
       " {'x': '2022-05-20', 'y': 0},\n",
       " {'x': '2022-05-21', 'y': 0},\n",
       " {'x': '2022-05-22', 'y': 0},\n",
       " {'x': '2022-05-23', 'y': 5},\n",
       " {'x': '2022-05-24', 'y': 12},\n",
       " {'x': '2022-05-25', 'y': 6},\n",
       " {'x': '2022-05-26', 'y': 0},\n",
       " {'x': '2022-05-27', 'y': 0},\n",
       " {'x': '2022-05-28', 'y': 0},\n",
       " {'x': '2022-05-29', 'y': 0},\n",
       " {'x': '2022-05-30', 'y': 7},\n",
       " {'x': '2022-05-31', 'y': 6},\n",
       " {'x': '2022-06-01', 'y': 6},\n",
       " {'x': '2022-06-02', 'y': 10},\n",
       " {'x': '2022-06-03', 'y': 10},\n",
       " {'x': '2022-06-04', 'y': 0},\n",
       " {'x': '2022-06-05', 'y': 1},\n",
       " {'x': '2022-06-06', 'y': 0},\n",
       " {'x': '2022-06-07', 'y': 8},\n",
       " {'x': '2022-06-08', 'y': 5}]"
      ]
     },
     "execution_count": 17,
     "metadata": {},
     "output_type": "execute_result"
    }
   ],
   "source": [
    "get_key_time_freq(query_df, keyword)"
   ]
  },
  {
   "cell_type": "code",
   "execution_count": 18,
   "metadata": {},
   "outputs": [],
   "source": [
    "keyword = ['柯文哲','文哲']\n",
    "\n",
    "end_date = df.date.max()\n",
    "# start date\n",
    "weeks = 4 # week duration for analysis\n",
    "start_date = (datetime.strptime(end_date, '%Y-%m-%d').date() - timedelta(weeks=weeks)).strftime('%Y-%m-%d')\n",
    "\n",
    "query_df = df[\n",
    "    (df['date'] >= start_date) & (df['date'] <= end_date) & df['tokens_v2'].str.contains('|'.join(keyword))]\n",
    "# query_df = df[df['tokens_v2'].str.contains('|'.join(keyword))]\n",
    "# print(len(query_df))\n",
    "freqByDate = get_key_time_freq(query_df, keyword)\n",
    "\n",
    "cate_freq, cate_occurrence = count_keyword(query_df, keyword)\n",
    "\n",
    "selectedCategories = ['全部', '焦點', '要聞', '即時', '生活']\n",
    "# selectedCategories = ['政治', '產經', '生活', '國際', '社會', '兩岸','全部']\n",
    "\n",
    "freqByCate = [cate_occurrence[k] for k in selectedCategories]\n",
    "\n",
    "response =  {'freqByDate': freqByDate,\n",
    "           'freqByCate': freqByCate,\n",
    "           'category': selectedCategories,\n",
    "           'num_frequency': cate_freq['全部'], # 這關鍵字被提多少次\n",
    "           'num_occurrence': cate_occurrence['全部'] #多少篇提到這關鍵字\n",
    "           }"
   ]
  },
  {
   "cell_type": "code",
   "execution_count": 19,
   "metadata": {},
   "outputs": [
    {
     "data": {
      "text/plain": [
       "[92, 22, 38, 10, 19]"
      ]
     },
     "execution_count": 19,
     "metadata": {},
     "output_type": "execute_result"
    }
   ],
   "source": [
    "freqByCate"
   ]
  },
  {
   "cell_type": "code",
   "execution_count": 20,
   "metadata": {},
   "outputs": [
    {
     "data": {
      "text/plain": [
       "{'焦點': 83,\n",
       " '要聞': 148,\n",
       " '即時': 25,\n",
       " '娛樂': 0,\n",
       " '新奇': 0,\n",
       " '生活': 98,\n",
       " '財經': 0,\n",
       " '專題': 0,\n",
       " '全球': 1,\n",
       " '運動': 14,\n",
       " '全部': 369}"
      ]
     },
     "execution_count": 20,
     "metadata": {},
     "output_type": "execute_result"
    }
   ],
   "source": [
    "cate_freq"
   ]
  },
  {
   "cell_type": "code",
   "execution_count": 21,
   "metadata": {},
   "outputs": [
    {
     "data": {
      "text/plain": [
       "{'焦點': 22,\n",
       " '要聞': 38,\n",
       " '即時': 10,\n",
       " '娛樂': 0,\n",
       " '新奇': 0,\n",
       " '生活': 19,\n",
       " '財經': 0,\n",
       " '專題': 0,\n",
       " '全球': 1,\n",
       " '運動': 2,\n",
       " '全部': 92}"
      ]
     },
     "execution_count": 21,
     "metadata": {},
     "output_type": "execute_result"
    }
   ],
   "source": [
    "cate_occurrence"
   ]
  },
  {
   "cell_type": "code",
   "execution_count": 22,
   "metadata": {},
   "outputs": [
    {
     "data": {
      "text/plain": [
       "[{'x': '2022-05-11', 'y': 3},\n",
       " {'x': '2022-05-12', 'y': 6},\n",
       " {'x': '2022-05-13', 'y': 0},\n",
       " {'x': '2022-05-14', 'y': 7},\n",
       " {'x': '2022-05-15', 'y': 0},\n",
       " {'x': '2022-05-16', 'y': 0},\n",
       " {'x': '2022-05-17', 'y': 0},\n",
       " {'x': '2022-05-18', 'y': 0},\n",
       " {'x': '2022-05-19', 'y': 0},\n",
       " {'x': '2022-05-20', 'y': 0},\n",
       " {'x': '2022-05-21', 'y': 0},\n",
       " {'x': '2022-05-22', 'y': 0},\n",
       " {'x': '2022-05-23', 'y': 5},\n",
       " {'x': '2022-05-24', 'y': 12},\n",
       " {'x': '2022-05-25', 'y': 6},\n",
       " {'x': '2022-05-26', 'y': 0},\n",
       " {'x': '2022-05-27', 'y': 0},\n",
       " {'x': '2022-05-28', 'y': 0},\n",
       " {'x': '2022-05-29', 'y': 0},\n",
       " {'x': '2022-05-30', 'y': 7},\n",
       " {'x': '2022-05-31', 'y': 6},\n",
       " {'x': '2022-06-01', 'y': 6},\n",
       " {'x': '2022-06-02', 'y': 10},\n",
       " {'x': '2022-06-03', 'y': 10},\n",
       " {'x': '2022-06-04', 'y': 0},\n",
       " {'x': '2022-06-05', 'y': 1},\n",
       " {'x': '2022-06-06', 'y': 0},\n",
       " {'x': '2022-06-07', 'y': 8},\n",
       " {'x': '2022-06-08', 'y': 5}]"
      ]
     },
     "execution_count": 22,
     "metadata": {},
     "output_type": "execute_result"
    }
   ],
   "source": [
    "freqByDate"
   ]
  },
  {
   "cell_type": "code",
   "execution_count": 23,
   "metadata": {},
   "outputs": [
    {
     "data": {
      "text/plain": [
       "{'freqByDate': [{'x': '2022-05-11', 'y': 3},\n",
       "  {'x': '2022-05-12', 'y': 6},\n",
       "  {'x': '2022-05-13', 'y': 0},\n",
       "  {'x': '2022-05-14', 'y': 7},\n",
       "  {'x': '2022-05-15', 'y': 0},\n",
       "  {'x': '2022-05-16', 'y': 0},\n",
       "  {'x': '2022-05-17', 'y': 0},\n",
       "  {'x': '2022-05-18', 'y': 0},\n",
       "  {'x': '2022-05-19', 'y': 0},\n",
       "  {'x': '2022-05-20', 'y': 0},\n",
       "  {'x': '2022-05-21', 'y': 0},\n",
       "  {'x': '2022-05-22', 'y': 0},\n",
       "  {'x': '2022-05-23', 'y': 5},\n",
       "  {'x': '2022-05-24', 'y': 12},\n",
       "  {'x': '2022-05-25', 'y': 6},\n",
       "  {'x': '2022-05-26', 'y': 0},\n",
       "  {'x': '2022-05-27', 'y': 0},\n",
       "  {'x': '2022-05-28', 'y': 0},\n",
       "  {'x': '2022-05-29', 'y': 0},\n",
       "  {'x': '2022-05-30', 'y': 7},\n",
       "  {'x': '2022-05-31', 'y': 6},\n",
       "  {'x': '2022-06-01', 'y': 6},\n",
       "  {'x': '2022-06-02', 'y': 10},\n",
       "  {'x': '2022-06-03', 'y': 10},\n",
       "  {'x': '2022-06-04', 'y': 0},\n",
       "  {'x': '2022-06-05', 'y': 1},\n",
       "  {'x': '2022-06-06', 'y': 0},\n",
       "  {'x': '2022-06-07', 'y': 8},\n",
       "  {'x': '2022-06-08', 'y': 5}],\n",
       " 'freqByCate': [92, 22, 38, 10, 19],\n",
       " 'category': ['全部', '焦點', '要聞', '即時', '生活'],\n",
       " 'num_frequency': 369,\n",
       " 'num_occurrence': 92}"
      ]
     },
     "execution_count": 23,
     "metadata": {},
     "output_type": "execute_result"
    }
   ],
   "source": [
    "response"
   ]
  },
  {
   "cell_type": "markdown",
   "metadata": {},
   "source": [
    "## Save data to csv file"
   ]
  },
  {
   "cell_type": "code",
   "execution_count": 24,
   "metadata": {},
   "outputs": [],
   "source": [
    "df_data = pd.DataFrame(list(response.items()),columns=['name','value'])"
   ]
  },
  {
   "cell_type": "code",
   "execution_count": 25,
   "metadata": {},
   "outputs": [
    {
     "data": {
      "text/html": [
       "<div>\n",
       "<style scoped>\n",
       "    .dataframe tbody tr th:only-of-type {\n",
       "        vertical-align: middle;\n",
       "    }\n",
       "\n",
       "    .dataframe tbody tr th {\n",
       "        vertical-align: top;\n",
       "    }\n",
       "\n",
       "    .dataframe thead th {\n",
       "        text-align: right;\n",
       "    }\n",
       "</style>\n",
       "<table border=\"1\" class=\"dataframe\">\n",
       "  <thead>\n",
       "    <tr style=\"text-align: right;\">\n",
       "      <th></th>\n",
       "      <th>name</th>\n",
       "      <th>value</th>\n",
       "    </tr>\n",
       "  </thead>\n",
       "  <tbody>\n",
       "    <tr>\n",
       "      <th>0</th>\n",
       "      <td>freqByDate</td>\n",
       "      <td>[{'x': '2022-05-11', 'y': 3}, {'x': '2022-05-1...</td>\n",
       "    </tr>\n",
       "    <tr>\n",
       "      <th>1</th>\n",
       "      <td>freqByCate</td>\n",
       "      <td>[92, 22, 38, 10, 19]</td>\n",
       "    </tr>\n",
       "    <tr>\n",
       "      <th>2</th>\n",
       "      <td>category</td>\n",
       "      <td>[全部, 焦點, 要聞, 即時, 生活]</td>\n",
       "    </tr>\n",
       "    <tr>\n",
       "      <th>3</th>\n",
       "      <td>num_frequency</td>\n",
       "      <td>369</td>\n",
       "    </tr>\n",
       "    <tr>\n",
       "      <th>4</th>\n",
       "      <td>num_occurrence</td>\n",
       "      <td>92</td>\n",
       "    </tr>\n",
       "  </tbody>\n",
       "</table>\n",
       "</div>"
      ],
      "text/plain": [
       "             name                                              value\n",
       "0      freqByDate  [{'x': '2022-05-11', 'y': 3}, {'x': '2022-05-1...\n",
       "1      freqByCate                               [92, 22, 38, 10, 19]\n",
       "2        category                               [全部, 焦點, 要聞, 即時, 生活]\n",
       "3   num_frequency                                                369\n",
       "4  num_occurrence                                                 92"
      ]
     },
     "execution_count": 25,
     "metadata": {},
     "output_type": "execute_result"
    }
   ],
   "source": [
    "df_data"
   ]
  },
  {
   "cell_type": "code",
   "execution_count": null,
   "metadata": {},
   "outputs": [],
   "source": []
  },
  {
   "cell_type": "code",
   "execution_count": 23,
   "metadata": {},
   "outputs": [],
   "source": [
    "## 存成csv格式檔案\n",
    "df_data.to_csv('ko_wen_je_data.csv',sep=',', index=None)"
   ]
  },
  {
   "cell_type": "code",
   "execution_count": null,
   "metadata": {},
   "outputs": [],
   "source": []
  },
  {
   "cell_type": "markdown",
   "metadata": {},
   "source": [
    "### Alternative way: using zip"
   ]
  },
  {
   "cell_type": "code",
   "execution_count": 24,
   "metadata": {},
   "outputs": [],
   "source": [
    "k=list(response.keys())\n",
    "v=list(response.values())"
   ]
  },
  {
   "cell_type": "code",
   "execution_count": 25,
   "metadata": {},
   "outputs": [],
   "source": [
    "#list(zip(k,v))"
   ]
  },
  {
   "cell_type": "code",
   "execution_count": 26,
   "metadata": {
    "scrolled": true
   },
   "outputs": [
    {
     "data": {
      "text/html": [
       "<div>\n",
       "<style scoped>\n",
       "    .dataframe tbody tr th:only-of-type {\n",
       "        vertical-align: middle;\n",
       "    }\n",
       "\n",
       "    .dataframe tbody tr th {\n",
       "        vertical-align: top;\n",
       "    }\n",
       "\n",
       "    .dataframe thead th {\n",
       "        text-align: right;\n",
       "    }\n",
       "</style>\n",
       "<table border=\"1\" class=\"dataframe\">\n",
       "  <thead>\n",
       "    <tr style=\"text-align: right;\">\n",
       "      <th></th>\n",
       "      <th>name</th>\n",
       "      <th>value</th>\n",
       "    </tr>\n",
       "  </thead>\n",
       "  <tbody>\n",
       "    <tr>\n",
       "      <th>0</th>\n",
       "      <td>freqByDate</td>\n",
       "      <td>[{'x': '2022-03-26', 'y': 6}, {'x': '2022-03-2...</td>\n",
       "    </tr>\n",
       "    <tr>\n",
       "      <th>1</th>\n",
       "      <td>freqByCate</td>\n",
       "      <td>[368, 49, 3, 294, 0]</td>\n",
       "    </tr>\n",
       "    <tr>\n",
       "      <th>2</th>\n",
       "      <td>category</td>\n",
       "      <td>[全部, 政治, 產經, 生活, 社會]</td>\n",
       "    </tr>\n",
       "    <tr>\n",
       "      <th>3</th>\n",
       "      <td>num_frequency</td>\n",
       "      <td>1306</td>\n",
       "    </tr>\n",
       "    <tr>\n",
       "      <th>4</th>\n",
       "      <td>num_occurrence</td>\n",
       "      <td>368</td>\n",
       "    </tr>\n",
       "  </tbody>\n",
       "</table>\n",
       "</div>"
      ],
      "text/plain": [
       "             name                                              value\n",
       "0      freqByDate  [{'x': '2022-03-26', 'y': 6}, {'x': '2022-03-2...\n",
       "1      freqByCate                               [368, 49, 3, 294, 0]\n",
       "2        category                               [全部, 政治, 產經, 生活, 社會]\n",
       "3   num_frequency                                               1306\n",
       "4  num_occurrence                                                368"
      ]
     },
     "execution_count": 26,
     "metadata": {},
     "output_type": "execute_result"
    }
   ],
   "source": [
    "df_data = pd.DataFrame(list(zip(k,v)),columns=['name','value'])\n",
    "df_data"
   ]
  },
  {
   "cell_type": "code",
   "execution_count": null,
   "metadata": {},
   "outputs": [],
   "source": []
  },
  {
   "cell_type": "markdown",
   "metadata": {},
   "source": [
    "## Read csv file and convert to dict format"
   ]
  },
  {
   "cell_type": "code",
   "execution_count": 27,
   "metadata": {},
   "outputs": [],
   "source": [
    "df_data = pd.read_csv('chen_shih_chung_data.csv')"
   ]
  },
  {
   "cell_type": "code",
   "execution_count": 28,
   "metadata": {},
   "outputs": [
    {
     "data": {
      "text/html": [
       "<div>\n",
       "<style scoped>\n",
       "    .dataframe tbody tr th:only-of-type {\n",
       "        vertical-align: middle;\n",
       "    }\n",
       "\n",
       "    .dataframe tbody tr th {\n",
       "        vertical-align: top;\n",
       "    }\n",
       "\n",
       "    .dataframe thead th {\n",
       "        text-align: right;\n",
       "    }\n",
       "</style>\n",
       "<table border=\"1\" class=\"dataframe\">\n",
       "  <thead>\n",
       "    <tr style=\"text-align: right;\">\n",
       "      <th></th>\n",
       "      <th>name</th>\n",
       "      <th>value</th>\n",
       "    </tr>\n",
       "  </thead>\n",
       "  <tbody>\n",
       "    <tr>\n",
       "      <th>0</th>\n",
       "      <td>freqByDate</td>\n",
       "      <td>[{'x': '2022-03-26', 'y': 6}, {'x': '2022-03-2...</td>\n",
       "    </tr>\n",
       "    <tr>\n",
       "      <th>1</th>\n",
       "      <td>freqByCate</td>\n",
       "      <td>[368, 49, 3, 294, 0]</td>\n",
       "    </tr>\n",
       "    <tr>\n",
       "      <th>2</th>\n",
       "      <td>category</td>\n",
       "      <td>['全部', '政治', '產經', '生活', '社會']</td>\n",
       "    </tr>\n",
       "    <tr>\n",
       "      <th>3</th>\n",
       "      <td>num_frequency</td>\n",
       "      <td>1306</td>\n",
       "    </tr>\n",
       "    <tr>\n",
       "      <th>4</th>\n",
       "      <td>num_occurrence</td>\n",
       "      <td>368</td>\n",
       "    </tr>\n",
       "  </tbody>\n",
       "</table>\n",
       "</div>"
      ],
      "text/plain": [
       "             name                                              value\n",
       "0      freqByDate  [{'x': '2022-03-26', 'y': 6}, {'x': '2022-03-2...\n",
       "1      freqByCate                               [368, 49, 3, 294, 0]\n",
       "2        category                     ['全部', '政治', '產經', '生活', '社會']\n",
       "3   num_frequency                                               1306\n",
       "4  num_occurrence                                                368"
      ]
     },
     "execution_count": 28,
     "metadata": {},
     "output_type": "execute_result"
    }
   ],
   "source": [
    "df_data "
   ]
  },
  {
   "cell_type": "code",
   "execution_count": 29,
   "metadata": {},
   "outputs": [
    {
     "data": {
      "text/plain": [
       "{'freqByDate': \"[{'x': '2022-03-26', 'y': 6}, {'x': '2022-03-27', 'y': 11}, {'x': '2022-03-28', 'y': 10}, {'x': '2022-03-29', 'y': 7}, {'x': '2022-03-30', 'y': 15}, {'x': '2022-03-31', 'y': 9}, {'x': '2022-04-01', 'y': 10}, {'x': '2022-04-02', 'y': 11}, {'x': '2022-04-03', 'y': 8}, {'x': '2022-04-04', 'y': 10}, {'x': '2022-04-05', 'y': 12}, {'x': '2022-04-06', 'y': 13}, {'x': '2022-04-07', 'y': 19}, {'x': '2022-04-08', 'y': 13}, {'x': '2022-04-09', 'y': 14}, {'x': '2022-04-10', 'y': 7}, {'x': '2022-04-11', 'y': 8}, {'x': '2022-04-12', 'y': 16}, {'x': '2022-04-13', 'y': 19}, {'x': '2022-04-14', 'y': 18}, {'x': '2022-04-15', 'y': 15}, {'x': '2022-04-16', 'y': 12}, {'x': '2022-04-17', 'y': 12}, {'x': '2022-04-18', 'y': 17}, {'x': '2022-04-19', 'y': 14}, {'x': '2022-04-20', 'y': 12}, {'x': '2022-04-21', 'y': 15}, {'x': '2022-04-22', 'y': 17}, {'x': '2022-04-23', 'y': 18}]\",\n",
       " 'freqByCate': '[368, 49, 3, 294, 0]',\n",
       " 'category': \"['全部', '政治', '產經', '生活', '社會']\",\n",
       " 'num_frequency': '1306',\n",
       " 'num_occurrence': '368'}"
      ]
     },
     "execution_count": 29,
     "metadata": {},
     "output_type": "execute_result"
    }
   ],
   "source": [
    "# Convert to dictionary format\n",
    "dict(list(df_data.values))"
   ]
  },
  {
   "cell_type": "code",
   "execution_count": 30,
   "metadata": {},
   "outputs": [
    {
     "data": {
      "text/plain": [
       "[array(['freqByDate',\n",
       "        \"[{'x': '2022-03-26', 'y': 6}, {'x': '2022-03-27', 'y': 11}, {'x': '2022-03-28', 'y': 10}, {'x': '2022-03-29', 'y': 7}, {'x': '2022-03-30', 'y': 15}, {'x': '2022-03-31', 'y': 9}, {'x': '2022-04-01', 'y': 10}, {'x': '2022-04-02', 'y': 11}, {'x': '2022-04-03', 'y': 8}, {'x': '2022-04-04', 'y': 10}, {'x': '2022-04-05', 'y': 12}, {'x': '2022-04-06', 'y': 13}, {'x': '2022-04-07', 'y': 19}, {'x': '2022-04-08', 'y': 13}, {'x': '2022-04-09', 'y': 14}, {'x': '2022-04-10', 'y': 7}, {'x': '2022-04-11', 'y': 8}, {'x': '2022-04-12', 'y': 16}, {'x': '2022-04-13', 'y': 19}, {'x': '2022-04-14', 'y': 18}, {'x': '2022-04-15', 'y': 15}, {'x': '2022-04-16', 'y': 12}, {'x': '2022-04-17', 'y': 12}, {'x': '2022-04-18', 'y': 17}, {'x': '2022-04-19', 'y': 14}, {'x': '2022-04-20', 'y': 12}, {'x': '2022-04-21', 'y': 15}, {'x': '2022-04-22', 'y': 17}, {'x': '2022-04-23', 'y': 18}]\"],\n",
       "       dtype=object),\n",
       " array(['freqByCate', '[368, 49, 3, 294, 0]'], dtype=object),\n",
       " array(['category', \"['全部', '政治', '產經', '生活', '社會']\"], dtype=object),\n",
       " array(['num_frequency', '1306'], dtype=object),\n",
       " array(['num_occurrence', '368'], dtype=object)]"
      ]
     },
     "execution_count": 30,
     "metadata": {},
     "output_type": "execute_result"
    }
   ],
   "source": [
    "list(df_data.values)"
   ]
  },
  {
   "cell_type": "code",
   "execution_count": 31,
   "metadata": {},
   "outputs": [],
   "source": [
    "response = dict(list(df_data.values))\n"
   ]
  },
  {
   "cell_type": "code",
   "execution_count": 32,
   "metadata": {},
   "outputs": [
    {
     "data": {
      "text/plain": [
       "'368'"
      ]
     },
     "execution_count": 32,
     "metadata": {},
     "output_type": "execute_result"
    }
   ],
   "source": [
    "response['num_occurrence']"
   ]
  },
  {
   "cell_type": "code",
   "execution_count": 33,
   "metadata": {},
   "outputs": [
    {
     "data": {
      "text/plain": [
       "str"
      ]
     },
     "execution_count": 33,
     "metadata": {},
     "output_type": "execute_result"
    }
   ],
   "source": [
    "type(response['num_occurrence'])\n"
   ]
  },
  {
   "cell_type": "code",
   "execution_count": 34,
   "metadata": {},
   "outputs": [
    {
     "data": {
      "text/plain": [
       "str"
      ]
     },
     "execution_count": 34,
     "metadata": {},
     "output_type": "execute_result"
    }
   ],
   "source": [
    "type(response['freqByCate'])\n"
   ]
  },
  {
   "cell_type": "code",
   "execution_count": 45,
   "metadata": {},
   "outputs": [],
   "source": [
    "response['freqByCate'] = eval(response['freqByCate'])\n"
   ]
  },
  {
   "cell_type": "code",
   "execution_count": 46,
   "metadata": {},
   "outputs": [
    {
     "data": {
      "text/plain": [
       "{'freqByDate': \"[{'x': '2022-03-26', 'y': 6}, {'x': '2022-03-27', 'y': 11}, {'x': '2022-03-28', 'y': 10}, {'x': '2022-03-29', 'y': 7}, {'x': '2022-03-30', 'y': 15}, {'x': '2022-03-31', 'y': 9}, {'x': '2022-04-01', 'y': 10}, {'x': '2022-04-02', 'y': 11}, {'x': '2022-04-03', 'y': 8}, {'x': '2022-04-04', 'y': 10}, {'x': '2022-04-05', 'y': 12}, {'x': '2022-04-06', 'y': 13}, {'x': '2022-04-07', 'y': 19}, {'x': '2022-04-08', 'y': 13}, {'x': '2022-04-09', 'y': 14}, {'x': '2022-04-10', 'y': 7}, {'x': '2022-04-11', 'y': 8}, {'x': '2022-04-12', 'y': 16}, {'x': '2022-04-13', 'y': 19}, {'x': '2022-04-14', 'y': 18}, {'x': '2022-04-15', 'y': 15}, {'x': '2022-04-16', 'y': 12}, {'x': '2022-04-17', 'y': 12}, {'x': '2022-04-18', 'y': 17}, {'x': '2022-04-19', 'y': 14}, {'x': '2022-04-20', 'y': 12}, {'x': '2022-04-21', 'y': 15}, {'x': '2022-04-22', 'y': 17}, {'x': '2022-04-23', 'y': 18}]\",\n",
       " 'freqByCate': [368, 49, 3, 294, 0],\n",
       " 'category': \"['全部', '政治', '產經', '生活', '社會']\",\n",
       " 'num_frequency': '1306',\n",
       " 'num_occurrence': '368'}"
      ]
     },
     "execution_count": 46,
     "metadata": {},
     "output_type": "execute_result"
    }
   ],
   "source": [
    "response\n"
   ]
  },
  {
   "cell_type": "markdown",
   "metadata": {},
   "source": [
    "### # How to convert a list into a dict?"
   ]
  },
  {
   "cell_type": "code",
   "execution_count": 35,
   "metadata": {},
   "outputs": [
    {
     "data": {
      "text/plain": [
       "[['one', [1, 2, 3]], ['two', 2]]"
      ]
     },
     "execution_count": 35,
     "metadata": {},
     "output_type": "execute_result"
    }
   ],
   "source": [
    "# How to convert a list into a dict?\n",
    "[['one',[1,2,3]], ['two',2]]"
   ]
  },
  {
   "cell_type": "code",
   "execution_count": 36,
   "metadata": {},
   "outputs": [
    {
     "data": {
      "text/plain": [
       "[['one', [1, 2, 3]], ['two', 2]]"
      ]
     },
     "execution_count": 36,
     "metadata": {},
     "output_type": "execute_result"
    }
   ],
   "source": [
    "# How to convert a list into a dict?\n",
    "[['one',[1,2,3]], ['two',2]]"
   ]
  },
  {
   "cell_type": "code",
   "execution_count": 37,
   "metadata": {},
   "outputs": [
    {
     "data": {
      "text/plain": [
       "{'one': [1, 2, 3], 'two': 2}"
      ]
     },
     "execution_count": 37,
     "metadata": {},
     "output_type": "execute_result"
    }
   ],
   "source": [
    "dict([['one',[1,2,3]], ['two',2]])"
   ]
  },
  {
   "cell_type": "markdown",
   "metadata": {},
   "source": [
    "## All-in-one function"
   ]
  },
  {
   "cell_type": "code",
   "execution_count": 38,
   "metadata": {},
   "outputs": [],
   "source": [
    "# Load Data \n",
    "import pandas as pd\n",
    "from datetime import datetime, timedelta\n",
    "\n",
    "df = pd.read_csv('./news_dataset_preprocessed_for_django.csv',sep='|')"
   ]
  },
  {
   "cell_type": "code",
   "execution_count": 39,
   "metadata": {},
   "outputs": [],
   "source": [
    "\n",
    "def process_data(keyword, weeks=4):\n",
    "    end_date = df.date.max()\n",
    "    # start date\n",
    "    weeks = 4 # week duration for analysis\n",
    "    start_date = (datetime.strptime(end_date, '%Y-%m-%d').date() - timedelta(weeks=weeks)).strftime('%Y-%m-%d')\n",
    "\n",
    "    query_df = df[\n",
    "        (df['date'] >= start_date) & (df['date'] <= end_date) & df['tokens_v2'].str.contains('|'.join(keyword))]\n",
    "    # query_df = df[df['tokens_v2'].str.contains('|'.join(keyword))]\n",
    "    # print(len(query_df))\n",
    "    freqByDate = get_key_time_freq(query_df, keyword)\n",
    "\n",
    "    cate_freq, cate_occurrence = count_keyword(query_df, keyword)\n",
    "\n",
    "    selectedCategories = ['全部', '政治', '生活', '社會']\n",
    "    #selectedCategories = ['全部', '政治', '兩岸', '產經', '生活', '社會']\n",
    "    # selectedCategories = ['政治', '產經', '生活', '國際', '社會', '兩岸','全部']\n",
    "\n",
    "    freqByCate = [cate_occurrence[k] for k in selectedCategories]\n",
    "\n",
    "    response =  {'freqByDate': freqByDate,\n",
    "            'freqByCate': freqByCate,\n",
    "            'category': selectedCategories,\n",
    "            'num_frequency': int(cate_freq['全部']), # 這關鍵字被提多少次\n",
    "            'num_occurrence': int(cate_occurrence['全部']) #多少篇提到這關鍵字\n",
    "            }\n",
    "\n",
    "    return response"
   ]
  },
  {
   "cell_type": "code",
   "execution_count": 40,
   "metadata": {},
   "outputs": [],
   "source": [
    "keyword = ['陳時中','時中']\n",
    "weeks=4\n",
    "data_response = process_data(keyword, weeks)"
   ]
  },
  {
   "cell_type": "code",
   "execution_count": 41,
   "metadata": {},
   "outputs": [],
   "source": [
    "df_data = pd.DataFrame(list(data_response.items()),columns=['name','value'])\n",
    "## 存成csv格式檔案\n",
    "df_data.to_csv('chen_shih_chung_data.csv',sep=',', index=None)"
   ]
  },
  {
   "cell_type": "code",
   "execution_count": 42,
   "metadata": {},
   "outputs": [],
   "source": [
    "df_data = pd.read_csv('chen_shih_chung_data.csv')"
   ]
  },
  {
   "cell_type": "code",
   "execution_count": 43,
   "metadata": {},
   "outputs": [
    {
     "data": {
      "text/html": [
       "<div>\n",
       "<style scoped>\n",
       "    .dataframe tbody tr th:only-of-type {\n",
       "        vertical-align: middle;\n",
       "    }\n",
       "\n",
       "    .dataframe tbody tr th {\n",
       "        vertical-align: top;\n",
       "    }\n",
       "\n",
       "    .dataframe thead th {\n",
       "        text-align: right;\n",
       "    }\n",
       "</style>\n",
       "<table border=\"1\" class=\"dataframe\">\n",
       "  <thead>\n",
       "    <tr style=\"text-align: right;\">\n",
       "      <th></th>\n",
       "      <th>name</th>\n",
       "      <th>value</th>\n",
       "    </tr>\n",
       "  </thead>\n",
       "  <tbody>\n",
       "    <tr>\n",
       "      <th>0</th>\n",
       "      <td>freqByDate</td>\n",
       "      <td>[{'x': '2022-03-26', 'y': 6}, {'x': '2022-03-2...</td>\n",
       "    </tr>\n",
       "    <tr>\n",
       "      <th>1</th>\n",
       "      <td>freqByCate</td>\n",
       "      <td>[368, 49, 294, 0]</td>\n",
       "    </tr>\n",
       "    <tr>\n",
       "      <th>2</th>\n",
       "      <td>category</td>\n",
       "      <td>['全部', '政治', '生活', '社會']</td>\n",
       "    </tr>\n",
       "    <tr>\n",
       "      <th>3</th>\n",
       "      <td>num_frequency</td>\n",
       "      <td>1306</td>\n",
       "    </tr>\n",
       "    <tr>\n",
       "      <th>4</th>\n",
       "      <td>num_occurrence</td>\n",
       "      <td>368</td>\n",
       "    </tr>\n",
       "  </tbody>\n",
       "</table>\n",
       "</div>"
      ],
      "text/plain": [
       "             name                                              value\n",
       "0      freqByDate  [{'x': '2022-03-26', 'y': 6}, {'x': '2022-03-2...\n",
       "1      freqByCate                                  [368, 49, 294, 0]\n",
       "2        category                           ['全部', '政治', '生活', '社會']\n",
       "3   num_frequency                                               1306\n",
       "4  num_occurrence                                                368"
      ]
     },
     "execution_count": 43,
     "metadata": {},
     "output_type": "execute_result"
    }
   ],
   "source": [
    "df_data "
   ]
  },
  {
   "cell_type": "code",
   "execution_count": null,
   "metadata": {},
   "outputs": [],
   "source": []
  },
  {
   "cell_type": "markdown",
   "metadata": {},
   "source": [
    "# views.py in Django"
   ]
  },
  {
   "cell_type": "code",
   "execution_count": 44,
   "metadata": {},
   "outputs": [
    {
     "ename": "FileNotFoundError",
     "evalue": "[Errno 2] No such file or directory: 'app_scchen/dataset/chen_shih_chung_data.csv'",
     "output_type": "error",
     "traceback": [
      "\u001b[1;31m---------------------------------------------------------------------------\u001b[0m",
      "\u001b[1;31mFileNotFoundError\u001b[0m                         Traceback (most recent call last)",
      "\u001b[1;32m<ipython-input-44-4f2124be29a1>\u001b[0m in \u001b[0;36m<module>\u001b[1;34m\u001b[0m\n\u001b[0;32m     11\u001b[0m \u001b[1;33m\u001b[0m\u001b[0m\n\u001b[0;32m     12\u001b[0m \u001b[1;31m# load pk data\u001b[0m\u001b[1;33m\u001b[0m\u001b[1;33m\u001b[0m\u001b[1;33m\u001b[0m\u001b[0m\n\u001b[1;32m---> 13\u001b[1;33m \u001b[0mload_data_scchen\u001b[0m\u001b[1;33m(\u001b[0m\u001b[1;33m)\u001b[0m\u001b[1;33m\u001b[0m\u001b[1;33m\u001b[0m\u001b[0m\n\u001b[0m\u001b[0;32m     14\u001b[0m \u001b[1;33m\u001b[0m\u001b[0m\n\u001b[0;32m     15\u001b[0m \u001b[1;32mdef\u001b[0m \u001b[0mhome\u001b[0m\u001b[1;33m(\u001b[0m\u001b[0mrequest\u001b[0m\u001b[1;33m)\u001b[0m\u001b[1;33m:\u001b[0m\u001b[1;33m\u001b[0m\u001b[1;33m\u001b[0m\u001b[0m\n",
      "\u001b[1;32m<ipython-input-44-4f2124be29a1>\u001b[0m in \u001b[0;36mload_data_scchen\u001b[1;34m()\u001b[0m\n\u001b[0;32m      5\u001b[0m \u001b[1;32mdef\u001b[0m \u001b[0mload_data_scchen\u001b[0m\u001b[1;33m(\u001b[0m\u001b[1;33m)\u001b[0m\u001b[1;33m:\u001b[0m\u001b[1;33m\u001b[0m\u001b[1;33m\u001b[0m\u001b[0m\n\u001b[0;32m      6\u001b[0m     \u001b[1;31m# Read data from csv file\u001b[0m\u001b[1;33m\u001b[0m\u001b[1;33m\u001b[0m\u001b[1;33m\u001b[0m\u001b[0m\n\u001b[1;32m----> 7\u001b[1;33m     \u001b[0mdf_data\u001b[0m \u001b[1;33m=\u001b[0m \u001b[0mpd\u001b[0m\u001b[1;33m.\u001b[0m\u001b[0mread_csv\u001b[0m\u001b[1;33m(\u001b[0m\u001b[1;34m'app_scchen/dataset/chen_shih_chung_data.csv'\u001b[0m\u001b[1;33m,\u001b[0m\u001b[0msep\u001b[0m\u001b[1;33m=\u001b[0m\u001b[1;34m','\u001b[0m\u001b[1;33m)\u001b[0m\u001b[1;33m\u001b[0m\u001b[1;33m\u001b[0m\u001b[0m\n\u001b[0m\u001b[0;32m      8\u001b[0m     \u001b[1;32mglobal\u001b[0m \u001b[0mresponse\u001b[0m\u001b[1;33m\u001b[0m\u001b[1;33m\u001b[0m\u001b[0m\n\u001b[0;32m      9\u001b[0m     \u001b[0mresponse\u001b[0m \u001b[1;33m=\u001b[0m \u001b[0mdict\u001b[0m\u001b[1;33m(\u001b[0m\u001b[0mlist\u001b[0m\u001b[1;33m(\u001b[0m\u001b[0mdf_data\u001b[0m\u001b[1;33m.\u001b[0m\u001b[0mvalues\u001b[0m\u001b[1;33m)\u001b[0m\u001b[1;33m)\u001b[0m\u001b[1;33m\u001b[0m\u001b[1;33m\u001b[0m\u001b[0m\n",
      "\u001b[1;32m~\\miniconda3\\envs\\ai23\\lib\\site-packages\\pandas\\io\\parsers.py\u001b[0m in \u001b[0;36mread_csv\u001b[1;34m(filepath_or_buffer, sep, delimiter, header, names, index_col, usecols, squeeze, prefix, mangle_dupe_cols, dtype, engine, converters, true_values, false_values, skipinitialspace, skiprows, skipfooter, nrows, na_values, keep_default_na, na_filter, verbose, skip_blank_lines, parse_dates, infer_datetime_format, keep_date_col, date_parser, dayfirst, cache_dates, iterator, chunksize, compression, thousands, decimal, lineterminator, quotechar, quoting, doublequote, escapechar, comment, encoding, dialect, error_bad_lines, warn_bad_lines, delim_whitespace, low_memory, memory_map, float_precision)\u001b[0m\n\u001b[0;32m    686\u001b[0m     )\n\u001b[0;32m    687\u001b[0m \u001b[1;33m\u001b[0m\u001b[0m\n\u001b[1;32m--> 688\u001b[1;33m     \u001b[1;32mreturn\u001b[0m \u001b[0m_read\u001b[0m\u001b[1;33m(\u001b[0m\u001b[0mfilepath_or_buffer\u001b[0m\u001b[1;33m,\u001b[0m \u001b[0mkwds\u001b[0m\u001b[1;33m)\u001b[0m\u001b[1;33m\u001b[0m\u001b[1;33m\u001b[0m\u001b[0m\n\u001b[0m\u001b[0;32m    689\u001b[0m \u001b[1;33m\u001b[0m\u001b[0m\n\u001b[0;32m    690\u001b[0m \u001b[1;33m\u001b[0m\u001b[0m\n",
      "\u001b[1;32m~\\miniconda3\\envs\\ai23\\lib\\site-packages\\pandas\\io\\parsers.py\u001b[0m in \u001b[0;36m_read\u001b[1;34m(filepath_or_buffer, kwds)\u001b[0m\n\u001b[0;32m    452\u001b[0m \u001b[1;33m\u001b[0m\u001b[0m\n\u001b[0;32m    453\u001b[0m     \u001b[1;31m# Create the parser.\u001b[0m\u001b[1;33m\u001b[0m\u001b[1;33m\u001b[0m\u001b[1;33m\u001b[0m\u001b[0m\n\u001b[1;32m--> 454\u001b[1;33m     \u001b[0mparser\u001b[0m \u001b[1;33m=\u001b[0m \u001b[0mTextFileReader\u001b[0m\u001b[1;33m(\u001b[0m\u001b[0mfp_or_buf\u001b[0m\u001b[1;33m,\u001b[0m \u001b[1;33m**\u001b[0m\u001b[0mkwds\u001b[0m\u001b[1;33m)\u001b[0m\u001b[1;33m\u001b[0m\u001b[1;33m\u001b[0m\u001b[0m\n\u001b[0m\u001b[0;32m    455\u001b[0m \u001b[1;33m\u001b[0m\u001b[0m\n\u001b[0;32m    456\u001b[0m     \u001b[1;32mif\u001b[0m \u001b[0mchunksize\u001b[0m \u001b[1;32mor\u001b[0m \u001b[0miterator\u001b[0m\u001b[1;33m:\u001b[0m\u001b[1;33m\u001b[0m\u001b[1;33m\u001b[0m\u001b[0m\n",
      "\u001b[1;32m~\\miniconda3\\envs\\ai23\\lib\\site-packages\\pandas\\io\\parsers.py\u001b[0m in \u001b[0;36m__init__\u001b[1;34m(self, f, engine, **kwds)\u001b[0m\n\u001b[0;32m    946\u001b[0m             \u001b[0mself\u001b[0m\u001b[1;33m.\u001b[0m\u001b[0moptions\u001b[0m\u001b[1;33m[\u001b[0m\u001b[1;34m\"has_index_names\"\u001b[0m\u001b[1;33m]\u001b[0m \u001b[1;33m=\u001b[0m \u001b[0mkwds\u001b[0m\u001b[1;33m[\u001b[0m\u001b[1;34m\"has_index_names\"\u001b[0m\u001b[1;33m]\u001b[0m\u001b[1;33m\u001b[0m\u001b[1;33m\u001b[0m\u001b[0m\n\u001b[0;32m    947\u001b[0m \u001b[1;33m\u001b[0m\u001b[0m\n\u001b[1;32m--> 948\u001b[1;33m         \u001b[0mself\u001b[0m\u001b[1;33m.\u001b[0m\u001b[0m_make_engine\u001b[0m\u001b[1;33m(\u001b[0m\u001b[0mself\u001b[0m\u001b[1;33m.\u001b[0m\u001b[0mengine\u001b[0m\u001b[1;33m)\u001b[0m\u001b[1;33m\u001b[0m\u001b[1;33m\u001b[0m\u001b[0m\n\u001b[0m\u001b[0;32m    949\u001b[0m \u001b[1;33m\u001b[0m\u001b[0m\n\u001b[0;32m    950\u001b[0m     \u001b[1;32mdef\u001b[0m \u001b[0mclose\u001b[0m\u001b[1;33m(\u001b[0m\u001b[0mself\u001b[0m\u001b[1;33m)\u001b[0m\u001b[1;33m:\u001b[0m\u001b[1;33m\u001b[0m\u001b[1;33m\u001b[0m\u001b[0m\n",
      "\u001b[1;32m~\\miniconda3\\envs\\ai23\\lib\\site-packages\\pandas\\io\\parsers.py\u001b[0m in \u001b[0;36m_make_engine\u001b[1;34m(self, engine)\u001b[0m\n\u001b[0;32m   1178\u001b[0m     \u001b[1;32mdef\u001b[0m \u001b[0m_make_engine\u001b[0m\u001b[1;33m(\u001b[0m\u001b[0mself\u001b[0m\u001b[1;33m,\u001b[0m \u001b[0mengine\u001b[0m\u001b[1;33m=\u001b[0m\u001b[1;34m\"c\"\u001b[0m\u001b[1;33m)\u001b[0m\u001b[1;33m:\u001b[0m\u001b[1;33m\u001b[0m\u001b[1;33m\u001b[0m\u001b[0m\n\u001b[0;32m   1179\u001b[0m         \u001b[1;32mif\u001b[0m \u001b[0mengine\u001b[0m \u001b[1;33m==\u001b[0m \u001b[1;34m\"c\"\u001b[0m\u001b[1;33m:\u001b[0m\u001b[1;33m\u001b[0m\u001b[1;33m\u001b[0m\u001b[0m\n\u001b[1;32m-> 1180\u001b[1;33m             \u001b[0mself\u001b[0m\u001b[1;33m.\u001b[0m\u001b[0m_engine\u001b[0m \u001b[1;33m=\u001b[0m \u001b[0mCParserWrapper\u001b[0m\u001b[1;33m(\u001b[0m\u001b[0mself\u001b[0m\u001b[1;33m.\u001b[0m\u001b[0mf\u001b[0m\u001b[1;33m,\u001b[0m \u001b[1;33m**\u001b[0m\u001b[0mself\u001b[0m\u001b[1;33m.\u001b[0m\u001b[0moptions\u001b[0m\u001b[1;33m)\u001b[0m\u001b[1;33m\u001b[0m\u001b[1;33m\u001b[0m\u001b[0m\n\u001b[0m\u001b[0;32m   1181\u001b[0m         \u001b[1;32melse\u001b[0m\u001b[1;33m:\u001b[0m\u001b[1;33m\u001b[0m\u001b[1;33m\u001b[0m\u001b[0m\n\u001b[0;32m   1182\u001b[0m             \u001b[1;32mif\u001b[0m \u001b[0mengine\u001b[0m \u001b[1;33m==\u001b[0m \u001b[1;34m\"python\"\u001b[0m\u001b[1;33m:\u001b[0m\u001b[1;33m\u001b[0m\u001b[1;33m\u001b[0m\u001b[0m\n",
      "\u001b[1;32m~\\miniconda3\\envs\\ai23\\lib\\site-packages\\pandas\\io\\parsers.py\u001b[0m in \u001b[0;36m__init__\u001b[1;34m(self, src, **kwds)\u001b[0m\n\u001b[0;32m   2008\u001b[0m         \u001b[0mkwds\u001b[0m\u001b[1;33m[\u001b[0m\u001b[1;34m\"usecols\"\u001b[0m\u001b[1;33m]\u001b[0m \u001b[1;33m=\u001b[0m \u001b[0mself\u001b[0m\u001b[1;33m.\u001b[0m\u001b[0musecols\u001b[0m\u001b[1;33m\u001b[0m\u001b[1;33m\u001b[0m\u001b[0m\n\u001b[0;32m   2009\u001b[0m \u001b[1;33m\u001b[0m\u001b[0m\n\u001b[1;32m-> 2010\u001b[1;33m         \u001b[0mself\u001b[0m\u001b[1;33m.\u001b[0m\u001b[0m_reader\u001b[0m \u001b[1;33m=\u001b[0m \u001b[0mparsers\u001b[0m\u001b[1;33m.\u001b[0m\u001b[0mTextReader\u001b[0m\u001b[1;33m(\u001b[0m\u001b[0msrc\u001b[0m\u001b[1;33m,\u001b[0m \u001b[1;33m**\u001b[0m\u001b[0mkwds\u001b[0m\u001b[1;33m)\u001b[0m\u001b[1;33m\u001b[0m\u001b[1;33m\u001b[0m\u001b[0m\n\u001b[0m\u001b[0;32m   2011\u001b[0m         \u001b[0mself\u001b[0m\u001b[1;33m.\u001b[0m\u001b[0munnamed_cols\u001b[0m \u001b[1;33m=\u001b[0m \u001b[0mself\u001b[0m\u001b[1;33m.\u001b[0m\u001b[0m_reader\u001b[0m\u001b[1;33m.\u001b[0m\u001b[0munnamed_cols\u001b[0m\u001b[1;33m\u001b[0m\u001b[1;33m\u001b[0m\u001b[0m\n\u001b[0;32m   2012\u001b[0m \u001b[1;33m\u001b[0m\u001b[0m\n",
      "\u001b[1;32mpandas\\_libs\\parsers.pyx\u001b[0m in \u001b[0;36mpandas._libs.parsers.TextReader.__cinit__\u001b[1;34m()\u001b[0m\n",
      "\u001b[1;32mpandas\\_libs\\parsers.pyx\u001b[0m in \u001b[0;36mpandas._libs.parsers.TextReader._setup_parser_source\u001b[1;34m()\u001b[0m\n",
      "\u001b[1;31mFileNotFoundError\u001b[0m: [Errno 2] No such file or directory: 'app_scchen/dataset/chen_shih_chung_data.csv'"
     ]
    }
   ],
   "source": [
    "from django.http import JsonResponse\n",
    "from django.shortcuts import render\n",
    "import pandas as pd\n",
    "\n",
    "def load_data_scchen():\n",
    "    # Read data from csv file\n",
    "    df_data = pd.read_csv('app_scchen/dataset/chen_shih_chung_data.csv',sep=',')\n",
    "    global response\n",
    "    response = dict(list(df_data.values))\n",
    "    del df_data\n",
    "\n",
    "# load pk data\n",
    "load_data_scchen()\n",
    "\n",
    "def home(request):\n",
    "    return render(request,'app_scchen/home.html', response)\n",
    "\n",
    "print('app_scchen was loaded!')"
   ]
  },
  {
   "cell_type": "code",
   "execution_count": null,
   "metadata": {},
   "outputs": [],
   "source": []
  },
  {
   "cell_type": "markdown",
   "metadata": {},
   "source": [
    "        # Saving data with other file format\n",
    "\n",
    "        ## Save to text file\n",
    "        # Save data\n",
    "        f = open('pk_politician.txt','w')\n",
    "        f.write(str(data_pk))\n",
    "        f.close()\n",
    "\n",
    "        # Load data\n",
    "        f = open('pk_politician.txt','r')\n",
    "        data_pk = f.read()\n",
    "\n",
    "        # dictionary format\n",
    "        eval(data_pk)\n",
    "        ## Save to json file\n",
    "        import json\n",
    "\n",
    "        # Save data\n",
    "        with open('pk_politician.txt', 'w') as file:\n",
    "            json.dump( data_pk, file)\n",
    "\n",
    "        # Load data\n",
    "        with open('pk_politician.txt', 'r') as file:\n",
    "            data_pk = json.load(file)\n",
    "\n",
    "        # dictionary format\n",
    "        data_pk\n",
    "\n",
    "        ## save to mongoDb (A famous NoneSQL)\n",
    "        from pymongo import MongoClient\n",
    "\n",
    "        # Save data\n",
    "        client = MongoClient()\n",
    "        database = client[\"cnaNews\"]  # SQL: Database Name\n",
    "        table_KTH = database[\"pk_politicianTsaiHan\"]   # SQL: Table Name\n",
    "\n",
    "        table_KTH.drop()\n",
    "        table_KTH.insert_one(data)\n",
    "\n",
    "\n",
    "        # Load data\n",
    "        from pymongo import MongoClient\n",
    "        client = MongoClient()\n",
    "        database = client[\"cnaNews\"]  # SQL: Database Name\n",
    "        table_KTH  = database[\"pkData\"]   # SQL: Table Name\n",
    "\n",
    "        for x in table_KTH.find():\n",
    "            print(x)\n",
    "\n",
    "        list(table_KTH.find({}, {'_id': False}))\n"
   ]
  },
  {
   "cell_type": "code",
   "execution_count": null,
   "metadata": {},
   "outputs": [],
   "source": []
  }
 ],
 "metadata": {
  "kernelspec": {
   "display_name": "Python 3.8.12",
   "language": "python",
   "name": "python3"
  },
  "language_info": {
   "codemirror_mode": {
    "name": "ipython",
    "version": 3
   },
   "file_extension": ".py",
   "mimetype": "text/x-python",
   "name": "python",
   "nbconvert_exporter": "python",
   "pygments_lexer": "ipython3",
   "version": "3.8.12"
  },
  "toc-autonumbering": true,
  "vscode": {
   "interpreter": {
    "hash": "95387c88e04adf36f63eed6a357d1c83759ff8c7223693aba0869ad2f8015cbb"
   }
  }
 },
 "nbformat": 4,
 "nbformat_minor": 4
}
