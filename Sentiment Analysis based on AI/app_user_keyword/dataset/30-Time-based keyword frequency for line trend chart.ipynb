{
 "cells": [
  {
   "cell_type": "markdown",
   "metadata": {},
   "source": [
    "# Count time-based keyword frequency\n",
    "\n",
    "To draw daily line chart on a web page, we need to count date-based frequency.\n",
    "\n",
    "    The data format for the line chart is as follows.\n",
    "\n",
    "    [{'x': '2020-03-05', 'y': 1},\n",
    "    {'x': '2020-03-06', 'y': 0},\n",
    "    {'x': '2020-03-07', 'y': 0},\n",
    "    {'x': '2020-03-08', 'y': 0},\n",
    "    {'x': '2020-03-09', 'y': 0},\n",
    "    {'x': '2020-03-10', 'y': 5},\n",
    "    {'x': '2020-03-11', 'y': 5},\n",
    "    {'x': '2020-03-12', 'y': 7},\n",
    "    {'x': '2020-03-13', 'y': 62},\n",
    "    {'x': '2020-03-14', 'y': 29}]"
   ]
  },
  {
   "cell_type": "markdown",
   "metadata": {},
   "source": [
    "# Load data"
   ]
  },
  {
   "cell_type": "code",
   "execution_count": 1,
   "metadata": {},
   "outputs": [],
   "source": [
    "import pandas as pd\n",
    "from datetime import datetime,timedelta"
   ]
  },
  {
   "cell_type": "code",
   "execution_count": 2,
   "metadata": {},
   "outputs": [
    {
     "ename": "ValueError",
     "evalue": "time data '2022-05-05' does not match format '%Y-%m-%d %H:%M'",
     "output_type": "error",
     "traceback": [
      "\u001b[1;31m---------------------------------------------------------------------------\u001b[0m",
      "\u001b[1;31mValueError\u001b[0m                                Traceback (most recent call last)",
      "\u001b[1;32mc:\\Users\\Calvin\\OneDrive - 國立高雄科技大學\\大數據分析實務\\B110118302_江浩賢\\app_user_keyword\\dataset\\30-Time-based keyword frequency for line trend chart.ipynb Cell 4'\u001b[0m in \u001b[0;36m<module>\u001b[1;34m\u001b[0m\n\u001b[0;32m      <a href='vscode-notebook-cell:/c%3A/Users/Calvin/OneDrive%20-%20%E5%9C%8B%E7%AB%8B%E9%AB%98%E9%9B%84%E7%A7%91%E6%8A%80%E5%A4%A7%E5%AD%B8/%E5%A4%A7%E6%95%B8%E6%93%9A%E5%88%86%E6%9E%90%E5%AF%A6%E5%8B%99/B110118302_%E6%B1%9F%E6%B5%A9%E8%B3%A2/app_user_keyword/dataset/30-Time-based%20keyword%20frequency%20for%20line%20trend%20chart.ipynb#ch0000003?line=0'>1</a>\u001b[0m \u001b[39m#df = pd.read_csv('./cna_news_200_preprocessed.csv',sep='|')\u001b[39;00m\n\u001b[0;32m      <a href='vscode-notebook-cell:/c%3A/Users/Calvin/OneDrive%20-%20%E5%9C%8B%E7%AB%8B%E9%AB%98%E9%9B%84%E7%A7%91%E6%8A%80%E5%A4%A7%E5%AD%B8/%E5%A4%A7%E6%95%B8%E6%93%9A%E5%88%86%E6%9E%90%E5%AF%A6%E5%8B%99/B110118302_%E6%B1%9F%E6%B5%A9%E8%B3%A2/app_user_keyword/dataset/30-Time-based%20keyword%20frequency%20for%20line%20trend%20chart.ipynb#ch0000003?line=1'>2</a>\u001b[0m df \u001b[39m=\u001b[39m pd\u001b[39m.\u001b[39mread_csv(\u001b[39m'\u001b[39m\u001b[39m./now_news_preprocessed.csv\u001b[39m\u001b[39m'\u001b[39m,sep\u001b[39m=\u001b[39m\u001b[39m'\u001b[39m\u001b[39m|\u001b[39m\u001b[39m'\u001b[39m)\n\u001b[1;32m----> <a href='vscode-notebook-cell:/c%3A/Users/Calvin/OneDrive%20-%20%E5%9C%8B%E7%AB%8B%E9%AB%98%E9%9B%84%E7%A7%91%E6%8A%80%E5%A4%A7%E5%AD%B8/%E5%A4%A7%E6%95%B8%E6%93%9A%E5%88%86%E6%9E%90%E5%AF%A6%E5%8B%99/B110118302_%E6%B1%9F%E6%B5%A9%E8%B3%A2/app_user_keyword/dataset/30-Time-based%20keyword%20frequency%20for%20line%20trend%20chart.ipynb#ch0000003?line=2'>3</a>\u001b[0m df[\u001b[39m'\u001b[39m\u001b[39mdate\u001b[39m\u001b[39m'\u001b[39m] \u001b[39m=\u001b[39m df\u001b[39m.\u001b[39;49mdate\u001b[39m.\u001b[39;49mapply(\u001b[39mlambda\u001b[39;49;00m date: datetime\u001b[39m.\u001b[39;49mstrptime(date,\u001b[39m'\u001b[39;49m\u001b[39m%\u001b[39;49m\u001b[39mY-\u001b[39;49m\u001b[39m%\u001b[39;49m\u001b[39mm-\u001b[39;49m\u001b[39m%d\u001b[39;49;00m\u001b[39m \u001b[39;49m\u001b[39m%\u001b[39;49m\u001b[39mH:\u001b[39;49m\u001b[39m%\u001b[39;49m\u001b[39mM\u001b[39;49m\u001b[39m'\u001b[39;49m)\u001b[39m.\u001b[39;49mstrftime(\u001b[39m'\u001b[39;49m\u001b[39m%\u001b[39;49m\u001b[39mY-\u001b[39;49m\u001b[39m%\u001b[39;49m\u001b[39mm-\u001b[39;49m\u001b[39m%d\u001b[39;49;00m\u001b[39m'\u001b[39;49m))\n",
      "File \u001b[1;32md:\\anaconda3\\envs\\ai23\\lib\\site-packages\\pandas\\core\\series.py:4433\u001b[0m, in \u001b[0;36mSeries.apply\u001b[1;34m(self, func, convert_dtype, args, **kwargs)\u001b[0m\n\u001b[0;32m   4323\u001b[0m \u001b[39mdef\u001b[39;00m \u001b[39mapply\u001b[39m(\n\u001b[0;32m   4324\u001b[0m     \u001b[39mself\u001b[39m,\n\u001b[0;32m   4325\u001b[0m     func: AggFuncType,\n\u001b[1;32m   (...)\u001b[0m\n\u001b[0;32m   4328\u001b[0m     \u001b[39m*\u001b[39m\u001b[39m*\u001b[39mkwargs,\n\u001b[0;32m   4329\u001b[0m ) \u001b[39m-\u001b[39m\u001b[39m>\u001b[39m DataFrame \u001b[39m|\u001b[39m Series:\n\u001b[0;32m   4330\u001b[0m     \u001b[39m\"\"\"\u001b[39;00m\n\u001b[0;32m   4331\u001b[0m \u001b[39m    Invoke function on values of Series.\u001b[39;00m\n\u001b[0;32m   4332\u001b[0m \n\u001b[1;32m   (...)\u001b[0m\n\u001b[0;32m   4431\u001b[0m \u001b[39m    dtype: float64\u001b[39;00m\n\u001b[0;32m   4432\u001b[0m \u001b[39m    \"\"\"\u001b[39;00m\n\u001b[1;32m-> 4433\u001b[0m     \u001b[39mreturn\u001b[39;00m SeriesApply(\u001b[39mself\u001b[39;49m, func, convert_dtype, args, kwargs)\u001b[39m.\u001b[39;49mapply()\n",
      "File \u001b[1;32md:\\anaconda3\\envs\\ai23\\lib\\site-packages\\pandas\\core\\apply.py:1082\u001b[0m, in \u001b[0;36mSeriesApply.apply\u001b[1;34m(self)\u001b[0m\n\u001b[0;32m   1078\u001b[0m \u001b[39mif\u001b[39;00m \u001b[39misinstance\u001b[39m(\u001b[39mself\u001b[39m\u001b[39m.\u001b[39mf, \u001b[39mstr\u001b[39m):\n\u001b[0;32m   1079\u001b[0m     \u001b[39m# if we are a string, try to dispatch\u001b[39;00m\n\u001b[0;32m   1080\u001b[0m     \u001b[39mreturn\u001b[39;00m \u001b[39mself\u001b[39m\u001b[39m.\u001b[39mapply_str()\n\u001b[1;32m-> 1082\u001b[0m \u001b[39mreturn\u001b[39;00m \u001b[39mself\u001b[39;49m\u001b[39m.\u001b[39;49mapply_standard()\n",
      "File \u001b[1;32md:\\anaconda3\\envs\\ai23\\lib\\site-packages\\pandas\\core\\apply.py:1137\u001b[0m, in \u001b[0;36mSeriesApply.apply_standard\u001b[1;34m(self)\u001b[0m\n\u001b[0;32m   1131\u001b[0m         values \u001b[39m=\u001b[39m obj\u001b[39m.\u001b[39mastype(\u001b[39mobject\u001b[39m)\u001b[39m.\u001b[39m_values\n\u001b[0;32m   1132\u001b[0m         \u001b[39m# error: Argument 2 to \"map_infer\" has incompatible type\u001b[39;00m\n\u001b[0;32m   1133\u001b[0m         \u001b[39m# \"Union[Callable[..., Any], str, List[Union[Callable[..., Any], str]],\u001b[39;00m\n\u001b[0;32m   1134\u001b[0m         \u001b[39m# Dict[Hashable, Union[Union[Callable[..., Any], str],\u001b[39;00m\n\u001b[0;32m   1135\u001b[0m         \u001b[39m# List[Union[Callable[..., Any], str]]]]]\"; expected\u001b[39;00m\n\u001b[0;32m   1136\u001b[0m         \u001b[39m# \"Callable[[Any], Any]\"\u001b[39;00m\n\u001b[1;32m-> 1137\u001b[0m         mapped \u001b[39m=\u001b[39m lib\u001b[39m.\u001b[39;49mmap_infer(\n\u001b[0;32m   1138\u001b[0m             values,\n\u001b[0;32m   1139\u001b[0m             f,  \u001b[39m# type: ignore[arg-type]\u001b[39;49;00m\n\u001b[0;32m   1140\u001b[0m             convert\u001b[39m=\u001b[39;49m\u001b[39mself\u001b[39;49m\u001b[39m.\u001b[39;49mconvert_dtype,\n\u001b[0;32m   1141\u001b[0m         )\n\u001b[0;32m   1143\u001b[0m \u001b[39mif\u001b[39;00m \u001b[39mlen\u001b[39m(mapped) \u001b[39mand\u001b[39;00m \u001b[39misinstance\u001b[39m(mapped[\u001b[39m0\u001b[39m], ABCSeries):\n\u001b[0;32m   1144\u001b[0m     \u001b[39m# GH#43986 Need to do list(mapped) in order to get treated as nested\u001b[39;00m\n\u001b[0;32m   1145\u001b[0m     \u001b[39m#  See also GH#25959 regarding EA support\u001b[39;00m\n\u001b[0;32m   1146\u001b[0m     \u001b[39mreturn\u001b[39;00m obj\u001b[39m.\u001b[39m_constructor_expanddim(\u001b[39mlist\u001b[39m(mapped), index\u001b[39m=\u001b[39mobj\u001b[39m.\u001b[39mindex)\n",
      "File \u001b[1;32md:\\anaconda3\\envs\\ai23\\lib\\site-packages\\pandas\\_libs\\lib.pyx:2870\u001b[0m, in \u001b[0;36mpandas._libs.lib.map_infer\u001b[1;34m()\u001b[0m\n",
      "\u001b[1;32mc:\\Users\\Calvin\\OneDrive - 國立高雄科技大學\\大數據分析實務\\B110118302_江浩賢\\app_user_keyword\\dataset\\30-Time-based keyword frequency for line trend chart.ipynb Cell 4'\u001b[0m in \u001b[0;36m<lambda>\u001b[1;34m(date)\u001b[0m\n\u001b[0;32m      <a href='vscode-notebook-cell:/c%3A/Users/Calvin/OneDrive%20-%20%E5%9C%8B%E7%AB%8B%E9%AB%98%E9%9B%84%E7%A7%91%E6%8A%80%E5%A4%A7%E5%AD%B8/%E5%A4%A7%E6%95%B8%E6%93%9A%E5%88%86%E6%9E%90%E5%AF%A6%E5%8B%99/B110118302_%E6%B1%9F%E6%B5%A9%E8%B3%A2/app_user_keyword/dataset/30-Time-based%20keyword%20frequency%20for%20line%20trend%20chart.ipynb#ch0000003?line=0'>1</a>\u001b[0m \u001b[39m#df = pd.read_csv('./cna_news_200_preprocessed.csv',sep='|')\u001b[39;00m\n\u001b[0;32m      <a href='vscode-notebook-cell:/c%3A/Users/Calvin/OneDrive%20-%20%E5%9C%8B%E7%AB%8B%E9%AB%98%E9%9B%84%E7%A7%91%E6%8A%80%E5%A4%A7%E5%AD%B8/%E5%A4%A7%E6%95%B8%E6%93%9A%E5%88%86%E6%9E%90%E5%AF%A6%E5%8B%99/B110118302_%E6%B1%9F%E6%B5%A9%E8%B3%A2/app_user_keyword/dataset/30-Time-based%20keyword%20frequency%20for%20line%20trend%20chart.ipynb#ch0000003?line=1'>2</a>\u001b[0m df \u001b[39m=\u001b[39m pd\u001b[39m.\u001b[39mread_csv(\u001b[39m'\u001b[39m\u001b[39m./now_news_preprocessed.csv\u001b[39m\u001b[39m'\u001b[39m,sep\u001b[39m=\u001b[39m\u001b[39m'\u001b[39m\u001b[39m|\u001b[39m\u001b[39m'\u001b[39m)\n\u001b[1;32m----> <a href='vscode-notebook-cell:/c%3A/Users/Calvin/OneDrive%20-%20%E5%9C%8B%E7%AB%8B%E9%AB%98%E9%9B%84%E7%A7%91%E6%8A%80%E5%A4%A7%E5%AD%B8/%E5%A4%A7%E6%95%B8%E6%93%9A%E5%88%86%E6%9E%90%E5%AF%A6%E5%8B%99/B110118302_%E6%B1%9F%E6%B5%A9%E8%B3%A2/app_user_keyword/dataset/30-Time-based%20keyword%20frequency%20for%20line%20trend%20chart.ipynb#ch0000003?line=2'>3</a>\u001b[0m df[\u001b[39m'\u001b[39m\u001b[39mdate\u001b[39m\u001b[39m'\u001b[39m] \u001b[39m=\u001b[39m df\u001b[39m.\u001b[39mdate\u001b[39m.\u001b[39mapply(\u001b[39mlambda\u001b[39;00m date: datetime\u001b[39m.\u001b[39;49mstrptime(date,\u001b[39m'\u001b[39;49m\u001b[39m%\u001b[39;49m\u001b[39mY-\u001b[39;49m\u001b[39m%\u001b[39;49m\u001b[39mm-\u001b[39;49m\u001b[39m%d\u001b[39;49;00m\u001b[39m \u001b[39;49m\u001b[39m%\u001b[39;49m\u001b[39mH:\u001b[39;49m\u001b[39m%\u001b[39;49m\u001b[39mM\u001b[39;49m\u001b[39m'\u001b[39;49m)\u001b[39m.\u001b[39mstrftime(\u001b[39m'\u001b[39m\u001b[39m%\u001b[39m\u001b[39mY-\u001b[39m\u001b[39m%\u001b[39m\u001b[39mm-\u001b[39m\u001b[39m%d\u001b[39;00m\u001b[39m'\u001b[39m))\n",
      "File \u001b[1;32md:\\anaconda3\\envs\\ai23\\lib\\_strptime.py:568\u001b[0m, in \u001b[0;36m_strptime_datetime\u001b[1;34m(cls, data_string, format)\u001b[0m\n\u001b[0;32m    565\u001b[0m \u001b[39mdef\u001b[39;00m \u001b[39m_strptime_datetime\u001b[39m(\u001b[39mcls\u001b[39m, data_string, \u001b[39mformat\u001b[39m\u001b[39m=\u001b[39m\u001b[39m\"\u001b[39m\u001b[39m%a\u001b[39;00m\u001b[39m \u001b[39m\u001b[39m%\u001b[39m\u001b[39mb \u001b[39m\u001b[39m%d\u001b[39;00m\u001b[39m \u001b[39m\u001b[39m%\u001b[39m\u001b[39mH:\u001b[39m\u001b[39m%\u001b[39m\u001b[39mM:\u001b[39m\u001b[39m%\u001b[39m\u001b[39mS \u001b[39m\u001b[39m%\u001b[39m\u001b[39mY\u001b[39m\u001b[39m\"\u001b[39m):\n\u001b[0;32m    566\u001b[0m     \u001b[39m\"\"\"Return a class cls instance based on the input string and the\u001b[39;00m\n\u001b[0;32m    567\u001b[0m \u001b[39m    format string.\"\"\"\u001b[39;00m\n\u001b[1;32m--> 568\u001b[0m     tt, fraction, gmtoff_fraction \u001b[39m=\u001b[39m _strptime(data_string, \u001b[39mformat\u001b[39;49m)\n\u001b[0;32m    569\u001b[0m     tzname, gmtoff \u001b[39m=\u001b[39m tt[\u001b[39m-\u001b[39m\u001b[39m2\u001b[39m:]\n\u001b[0;32m    570\u001b[0m     args \u001b[39m=\u001b[39m tt[:\u001b[39m6\u001b[39m] \u001b[39m+\u001b[39m (fraction,)\n",
      "File \u001b[1;32md:\\anaconda3\\envs\\ai23\\lib\\_strptime.py:349\u001b[0m, in \u001b[0;36m_strptime\u001b[1;34m(data_string, format)\u001b[0m\n\u001b[0;32m    347\u001b[0m found \u001b[39m=\u001b[39m format_regex\u001b[39m.\u001b[39mmatch(data_string)\n\u001b[0;32m    348\u001b[0m \u001b[39mif\u001b[39;00m \u001b[39mnot\u001b[39;00m found:\n\u001b[1;32m--> 349\u001b[0m     \u001b[39mraise\u001b[39;00m \u001b[39mValueError\u001b[39;00m(\u001b[39m\"\u001b[39m\u001b[39mtime data \u001b[39m\u001b[39m%r\u001b[39;00m\u001b[39m does not match format \u001b[39m\u001b[39m%r\u001b[39;00m\u001b[39m\"\u001b[39m \u001b[39m%\u001b[39m\n\u001b[0;32m    350\u001b[0m                      (data_string, \u001b[39mformat\u001b[39m))\n\u001b[0;32m    351\u001b[0m \u001b[39mif\u001b[39;00m \u001b[39mlen\u001b[39m(data_string) \u001b[39m!=\u001b[39m found\u001b[39m.\u001b[39mend():\n\u001b[0;32m    352\u001b[0m     \u001b[39mraise\u001b[39;00m \u001b[39mValueError\u001b[39;00m(\u001b[39m\"\u001b[39m\u001b[39munconverted data remains: \u001b[39m\u001b[39m%s\u001b[39;00m\u001b[39m\"\u001b[39m \u001b[39m%\u001b[39m\n\u001b[0;32m    353\u001b[0m                       data_string[found\u001b[39m.\u001b[39mend():])\n",
      "\u001b[1;31mValueError\u001b[0m: time data '2022-05-05' does not match format '%Y-%m-%d %H:%M'"
     ]
    }
   ],
   "source": [
    "#df = pd.read_csv('./cna_news_200_preprocessed.csv',sep='|')\n",
    "df = pd.read_csv('./now_news_preprocessed.csv',sep='|')\n",
    "df['date'] = df.date.apply(lambda date: datetime.strptime(date,'%Y-%m-%d %H:%M').strftime('%Y-%m-%d'))"
   ]
  },
  {
   "cell_type": "code",
   "execution_count": null,
   "metadata": {},
   "outputs": [
    {
     "data": {
      "text/html": [
       "<div>\n",
       "<style scoped>\n",
       "    .dataframe tbody tr th:only-of-type {\n",
       "        vertical-align: middle;\n",
       "    }\n",
       "\n",
       "    .dataframe tbody tr th {\n",
       "        vertical-align: top;\n",
       "    }\n",
       "\n",
       "    .dataframe thead th {\n",
       "        text-align: right;\n",
       "    }\n",
       "</style>\n",
       "<table border=\"1\" class=\"dataframe\">\n",
       "  <thead>\n",
       "    <tr style=\"text-align: right;\">\n",
       "      <th></th>\n",
       "      <th>item_id</th>\n",
       "      <th>date</th>\n",
       "      <th>category</th>\n",
       "      <th>title</th>\n",
       "      <th>content</th>\n",
       "      <th>sentiment</th>\n",
       "      <th>summary</th>\n",
       "      <th>top_key_freq</th>\n",
       "      <th>tokens</th>\n",
       "      <th>tokens_v2</th>\n",
       "      <th>entities</th>\n",
       "      <th>token_pos</th>\n",
       "      <th>link</th>\n",
       "      <th>photo_link</th>\n",
       "    </tr>\n",
       "  </thead>\n",
       "  <tbody>\n",
       "    <tr>\n",
       "      <th>0</th>\n",
       "      <td>aipl_20220314_1</td>\n",
       "      <td>2022-03-14</td>\n",
       "      <td>政治</td>\n",
       "      <td>外交部援烏物資已募4000箱 吳釗燮感謝捐贈民眾</td>\n",
       "      <td>民眾捐贈烏克蘭的愛心物資持續湧入外交部，截至今天傍晚累計已收到約4000箱，外交部長吳釗燮中...</td>\n",
       "      <td>0.01</td>\n",
       "      <td>['外交部除感謝熱心民眾踴躍捐贈援助烏克蘭人道物資外', '親赴外交部捐贈物資的民眾約173...</td>\n",
       "      <td>[('外交部', 14), ('民眾', 7), ('物資', 7), ('烏克蘭', 5)...</td>\n",
       "      <td>['民眾', '捐贈', '烏克蘭', '的', '愛心', '物資', '持續', '湧入...</td>\n",
       "      <td>['民眾', '烏克蘭', '愛心', '物資', '外交部', '收到', '外交部長',...</td>\n",
       "      <td>[NerToken(word='烏克蘭', ner='GPE', idx=(4, 7)), ...</td>\n",
       "      <td>[('民眾', 'Na'), ('捐贈', 'VD'), ('烏克蘭', 'Nc'), ('...</td>\n",
       "      <td>https://www.cna.com.tw/news/aipl/202203140364....</td>\n",
       "      <td>https://imgcdn.cna.com.tw/www/WebPhotos/200/20...</td>\n",
       "    </tr>\n",
       "  </tbody>\n",
       "</table>\n",
       "</div>"
      ],
      "text/plain": [
       "           item_id        date category                     title  \\\n",
       "0  aipl_20220314_1  2022-03-14       政治  外交部援烏物資已募4000箱 吳釗燮感謝捐贈民眾   \n",
       "\n",
       "                                             content  sentiment  \\\n",
       "0  民眾捐贈烏克蘭的愛心物資持續湧入外交部，截至今天傍晚累計已收到約4000箱，外交部長吳釗燮中...       0.01   \n",
       "\n",
       "                                             summary  \\\n",
       "0  ['外交部除感謝熱心民眾踴躍捐贈援助烏克蘭人道物資外', '親赴外交部捐贈物資的民眾約173...   \n",
       "\n",
       "                                        top_key_freq  \\\n",
       "0  [('外交部', 14), ('民眾', 7), ('物資', 7), ('烏克蘭', 5)...   \n",
       "\n",
       "                                              tokens  \\\n",
       "0  ['民眾', '捐贈', '烏克蘭', '的', '愛心', '物資', '持續', '湧入...   \n",
       "\n",
       "                                           tokens_v2  \\\n",
       "0  ['民眾', '烏克蘭', '愛心', '物資', '外交部', '收到', '外交部長',...   \n",
       "\n",
       "                                            entities  \\\n",
       "0  [NerToken(word='烏克蘭', ner='GPE', idx=(4, 7)), ...   \n",
       "\n",
       "                                           token_pos  \\\n",
       "0  [('民眾', 'Na'), ('捐贈', 'VD'), ('烏克蘭', 'Nc'), ('...   \n",
       "\n",
       "                                                link  \\\n",
       "0  https://www.cna.com.tw/news/aipl/202203140364....   \n",
       "\n",
       "                                          photo_link  \n",
       "0  https://imgcdn.cna.com.tw/www/WebPhotos/200/20...  "
      ]
     },
     "execution_count": 3,
     "metadata": {},
     "output_type": "execute_result"
    }
   ],
   "source": [
    "df.head(1)"
   ]
  },
  {
   "cell_type": "markdown",
   "metadata": {},
   "source": [
    "# Filter data using token_v2 or content column"
   ]
  },
  {
   "cell_type": "code",
   "execution_count": null,
   "metadata": {},
   "outputs": [],
   "source": [
    "def filter_dataFrame(user_keywords, cond, cate, weeks):\n",
    "\n",
    "    # end date: the date of the latest record of news\n",
    "    end_date = df.date.max()\n",
    "    \n",
    "    # start date\n",
    "    start_date = (datetime.strptime(end_date, '%Y-%m-%d').date() - timedelta(weeks=weeks)).strftime('%Y-%m-%d')\n",
    "\n",
    "    # proceed filtering\n",
    "    if (cate == \"全部\") & (cond == 'and'):\n",
    "        query_df = df[(df.date >= start_date) & (df.date <= end_date) \n",
    "            & df.tokens_v2.apply(lambda text: all((qk in text) for qk in user_keywords))]\n",
    "    elif (cate == \"全部\") & (cond == 'or'):\n",
    "        query_df = df[(df['date'] >= start_date) & (df['date'] <= end_date) \n",
    "            & df.tokens_v2.apply(lambda text: any((qk in text) for qk in user_keywords))]\n",
    "    elif (cond == 'and'):\n",
    "        query_df = df[(df.category == cate) \n",
    "            & (df.date >= start_date) & (df.date <= end_date) \n",
    "            & df.tokens_v2.apply(lambda text: all((qk in text) for qk in user_keywords))]\n",
    "    elif (cond == 'or'):\n",
    "        query_df = df[(df.category == cate) \n",
    "            & (df['date'] >= start_date) & (df['date'] <= end_date) \n",
    "            & df.tokens_v2.apply(lambda text: any((qk in text) for qk in user_keywords))]\n",
    "    return query_df"
   ]
  },
  {
   "cell_type": "markdown",
   "metadata": {},
   "source": [
    "### Now we do filtering news"
   ]
  },
  {
   "cell_type": "code",
   "execution_count": null,
   "metadata": {},
   "outputs": [],
   "source": [
    "# user_keywords=['肺炎','冠狀','疫情']\n",
    "# cond='and'\n",
    "# cate='全部'\n",
    "# weeks=4\n",
    "# df_query = filter_dataFrame(user_keywords, cond, cate, weeks)"
   ]
  },
  {
   "cell_type": "code",
   "execution_count": null,
   "metadata": {},
   "outputs": [
    {
     "data": {
      "text/plain": [
       "26"
      ]
     },
     "execution_count": 6,
     "metadata": {},
     "output_type": "execute_result"
    }
   ],
   "source": [
    "user_keywords=['烏克蘭','俄羅斯']\n",
    "cond='or'\n",
    "cate='全部'\n",
    "weeks=4\n",
    "df_query = filter_dataFrame(user_keywords, cond, cate, weeks)\n",
    "len(df_query)"
   ]
  },
  {
   "cell_type": "code",
   "execution_count": null,
   "metadata": {},
   "outputs": [
    {
     "data": {
      "text/html": [
       "<div>\n",
       "<style scoped>\n",
       "    .dataframe tbody tr th:only-of-type {\n",
       "        vertical-align: middle;\n",
       "    }\n",
       "\n",
       "    .dataframe tbody tr th {\n",
       "        vertical-align: top;\n",
       "    }\n",
       "\n",
       "    .dataframe thead th {\n",
       "        text-align: right;\n",
       "    }\n",
       "</style>\n",
       "<table border=\"1\" class=\"dataframe\">\n",
       "  <thead>\n",
       "    <tr style=\"text-align: right;\">\n",
       "      <th></th>\n",
       "      <th>item_id</th>\n",
       "      <th>date</th>\n",
       "      <th>category</th>\n",
       "      <th>title</th>\n",
       "      <th>content</th>\n",
       "      <th>sentiment</th>\n",
       "      <th>summary</th>\n",
       "      <th>top_key_freq</th>\n",
       "      <th>tokens</th>\n",
       "      <th>tokens_v2</th>\n",
       "      <th>entities</th>\n",
       "      <th>token_pos</th>\n",
       "      <th>link</th>\n",
       "      <th>photo_link</th>\n",
       "    </tr>\n",
       "  </thead>\n",
       "  <tbody>\n",
       "    <tr>\n",
       "      <th>0</th>\n",
       "      <td>aipl_20220314_1</td>\n",
       "      <td>2022-03-14</td>\n",
       "      <td>政治</td>\n",
       "      <td>外交部援烏物資已募4000箱 吳釗燮感謝捐贈民眾</td>\n",
       "      <td>民眾捐贈烏克蘭的愛心物資持續湧入外交部，截至今天傍晚累計已收到約4000箱，外交部長吳釗燮中...</td>\n",
       "      <td>0.01</td>\n",
       "      <td>['外交部除感謝熱心民眾踴躍捐贈援助烏克蘭人道物資外', '親赴外交部捐贈物資的民眾約173...</td>\n",
       "      <td>[('外交部', 14), ('民眾', 7), ('物資', 7), ('烏克蘭', 5)...</td>\n",
       "      <td>['民眾', '捐贈', '烏克蘭', '的', '愛心', '物資', '持續', '湧入...</td>\n",
       "      <td>['民眾', '烏克蘭', '愛心', '物資', '外交部', '收到', '外交部長',...</td>\n",
       "      <td>[NerToken(word='烏克蘭', ner='GPE', idx=(4, 7)), ...</td>\n",
       "      <td>[('民眾', 'Na'), ('捐贈', 'VD'), ('烏克蘭', 'Nc'), ('...</td>\n",
       "      <td>https://www.cna.com.tw/news/aipl/202203140364....</td>\n",
       "      <td>https://imgcdn.cna.com.tw/www/WebPhotos/200/20...</td>\n",
       "    </tr>\n",
       "  </tbody>\n",
       "</table>\n",
       "</div>"
      ],
      "text/plain": [
       "           item_id        date category                     title  \\\n",
       "0  aipl_20220314_1  2022-03-14       政治  外交部援烏物資已募4000箱 吳釗燮感謝捐贈民眾   \n",
       "\n",
       "                                             content  sentiment  \\\n",
       "0  民眾捐贈烏克蘭的愛心物資持續湧入外交部，截至今天傍晚累計已收到約4000箱，外交部長吳釗燮中...       0.01   \n",
       "\n",
       "                                             summary  \\\n",
       "0  ['外交部除感謝熱心民眾踴躍捐贈援助烏克蘭人道物資外', '親赴外交部捐贈物資的民眾約173...   \n",
       "\n",
       "                                        top_key_freq  \\\n",
       "0  [('外交部', 14), ('民眾', 7), ('物資', 7), ('烏克蘭', 5)...   \n",
       "\n",
       "                                              tokens  \\\n",
       "0  ['民眾', '捐贈', '烏克蘭', '的', '愛心', '物資', '持續', '湧入...   \n",
       "\n",
       "                                           tokens_v2  \\\n",
       "0  ['民眾', '烏克蘭', '愛心', '物資', '外交部', '收到', '外交部長',...   \n",
       "\n",
       "                                            entities  \\\n",
       "0  [NerToken(word='烏克蘭', ner='GPE', idx=(4, 7)), ...   \n",
       "\n",
       "                                           token_pos  \\\n",
       "0  [('民眾', 'Na'), ('捐贈', 'VD'), ('烏克蘭', 'Nc'), ('...   \n",
       "\n",
       "                                                link  \\\n",
       "0  https://www.cna.com.tw/news/aipl/202203140364....   \n",
       "\n",
       "                                          photo_link  \n",
       "0  https://imgcdn.cna.com.tw/www/WebPhotos/200/20...  "
      ]
     },
     "execution_count": 7,
     "metadata": {},
     "output_type": "execute_result"
    }
   ],
   "source": [
    "df_query.head(1)"
   ]
  },
  {
   "cell_type": "markdown",
   "metadata": {},
   "source": [
    "# All-in-one function: Get time-based keyword frequency"
   ]
  },
  {
   "cell_type": "code",
   "execution_count": null,
   "metadata": {},
   "outputs": [],
   "source": [
    "def get_keyword_time_based_freq(df_query):\n",
    "    date_samples = df_query.date\n",
    "    query_freq = pd.DataFrame({'date_index':pd.to_datetime( date_samples ),'freq':[1 for _ in range(len(df_query))]})\n",
    "    data = query_freq.groupby(pd.Grouper(key='date_index',freq='D')).sum()\n",
    "    time_data=[]\n",
    "    for i, date_idx in enumerate(data.index):\n",
    "        row = {'x':date_idx.strftime('%Y-%m-%d'),'y':int(data.iloc[i].freq)}\n",
    "        time_data.append(row)\n",
    "    return time_data"
   ]
  },
  {
   "cell_type": "code",
   "execution_count": null,
   "metadata": {},
   "outputs": [
    {
     "data": {
      "text/plain": [
       "26"
      ]
     },
     "execution_count": 9,
     "metadata": {},
     "output_type": "execute_result"
    }
   ],
   "source": [
    "user_keywords=['烏克蘭','俄羅斯']\n",
    "cond='or'\n",
    "cate='全部'\n",
    "weeks=4\n",
    "df_query = filter_dataFrame(user_keywords, cond, cate, weeks)\n",
    "len(df_query)"
   ]
  },
  {
   "cell_type": "code",
   "execution_count": null,
   "metadata": {},
   "outputs": [],
   "source": [
    "result = get_keyword_time_based_freq(df_query)"
   ]
  },
  {
   "cell_type": "code",
   "execution_count": null,
   "metadata": {},
   "outputs": [
    {
     "data": {
      "text/plain": [
       "[{'x': '2022-03-09', 'y': 1},\n",
       " {'x': '2022-03-10', 'y': 0},\n",
       " {'x': '2022-03-11', 'y': 1},\n",
       " {'x': '2022-03-12', 'y': 0},\n",
       " {'x': '2022-03-13', 'y': 2},\n",
       " {'x': '2022-03-14', 'y': 22}]"
      ]
     },
     "execution_count": 11,
     "metadata": {},
     "output_type": "execute_result"
    }
   ],
   "source": [
    "result"
   ]
  },
  {
   "cell_type": "code",
   "execution_count": null,
   "metadata": {},
   "outputs": [
    {
     "data": {
      "text/plain": [
       "6"
      ]
     },
     "execution_count": 12,
     "metadata": {},
     "output_type": "execute_result"
    }
   ],
   "source": [
    "len(result)"
   ]
  },
  {
   "cell_type": "markdown",
   "metadata": {},
   "source": [
    "# Demonstration step by step"
   ]
  },
  {
   "cell_type": "markdown",
   "metadata": {},
   "source": [
    "# Time-based frequency\n",
    "\n",
    "    We need the daily frequency data:\n",
    "\n",
    "    [{'x': '2020-02-24', 'y': 1},\n",
    "    {'x': '2020-02-25', 'y': 0},\n",
    "    {'x': '2020-02-26', 'y': 1},\n",
    "    {'x': '2020-02-27', 'y': 1},\n",
    "    {'x': '2020-02-28', 'y': 0},\n",
    "    {'x': '2020-02-29', 'y': 0},\n",
    "    {'x': '2020-03-01', 'y': 0},\n",
    "    {'x': '2020-03-02', 'y': 2},\n",
    "    {'x': '2020-03-03', 'y': 1}]"
   ]
  },
  {
   "cell_type": "code",
   "execution_count": null,
   "metadata": {},
   "outputs": [],
   "source": []
  },
  {
   "cell_type": "markdown",
   "metadata": {},
   "source": [
    "## Assign frequency value of 1 to each news\n",
    "\n",
    "        date_index  freq\n",
    "    0\t2020-03-20\t1\n",
    "    1\t2020-03-20\t1\n",
    "    2\t2020-03-13\t1\n",
    "    3\t2020-03-19\t1\n",
    "    4\t2020-03-17\t1"
   ]
  },
  {
   "cell_type": "code",
   "execution_count": null,
   "metadata": {},
   "outputs": [],
   "source": [
    "# done with one line:\n",
    "query_freq = pd.DataFrame({'date_index':pd.to_datetime( df_query.date ),'freq':[1 for _ in range(len(df_query))]})"
   ]
  },
  {
   "cell_type": "code",
   "execution_count": null,
   "metadata": {},
   "outputs": [
    {
     "data": {
      "text/html": [
       "<div>\n",
       "<style scoped>\n",
       "    .dataframe tbody tr th:only-of-type {\n",
       "        vertical-align: middle;\n",
       "    }\n",
       "\n",
       "    .dataframe tbody tr th {\n",
       "        vertical-align: top;\n",
       "    }\n",
       "\n",
       "    .dataframe thead th {\n",
       "        text-align: right;\n",
       "    }\n",
       "</style>\n",
       "<table border=\"1\" class=\"dataframe\">\n",
       "  <thead>\n",
       "    <tr style=\"text-align: right;\">\n",
       "      <th></th>\n",
       "      <th>date_index</th>\n",
       "      <th>freq</th>\n",
       "    </tr>\n",
       "  </thead>\n",
       "  <tbody>\n",
       "    <tr>\n",
       "      <th>0</th>\n",
       "      <td>2022-03-14</td>\n",
       "      <td>1</td>\n",
       "    </tr>\n",
       "    <tr>\n",
       "      <th>11</th>\n",
       "      <td>2022-03-14</td>\n",
       "      <td>1</td>\n",
       "    </tr>\n",
       "    <tr>\n",
       "      <th>19</th>\n",
       "      <td>2022-03-14</td>\n",
       "      <td>1</td>\n",
       "    </tr>\n",
       "    <tr>\n",
       "      <th>22</th>\n",
       "      <td>2022-03-11</td>\n",
       "      <td>1</td>\n",
       "    </tr>\n",
       "    <tr>\n",
       "      <th>33</th>\n",
       "      <td>2022-03-09</td>\n",
       "      <td>1</td>\n",
       "    </tr>\n",
       "    <tr>\n",
       "      <th>56</th>\n",
       "      <td>2022-03-13</td>\n",
       "      <td>1</td>\n",
       "    </tr>\n",
       "    <tr>\n",
       "      <th>61</th>\n",
       "      <td>2022-03-14</td>\n",
       "      <td>1</td>\n",
       "    </tr>\n",
       "    <tr>\n",
       "      <th>75</th>\n",
       "      <td>2022-03-14</td>\n",
       "      <td>1</td>\n",
       "    </tr>\n",
       "    <tr>\n",
       "      <th>84</th>\n",
       "      <td>2022-03-14</td>\n",
       "      <td>1</td>\n",
       "    </tr>\n",
       "    <tr>\n",
       "      <th>88</th>\n",
       "      <td>2022-03-14</td>\n",
       "      <td>1</td>\n",
       "    </tr>\n",
       "    <tr>\n",
       "      <th>98</th>\n",
       "      <td>2022-03-14</td>\n",
       "      <td>1</td>\n",
       "    </tr>\n",
       "    <tr>\n",
       "      <th>107</th>\n",
       "      <td>2022-03-14</td>\n",
       "      <td>1</td>\n",
       "    </tr>\n",
       "    <tr>\n",
       "      <th>110</th>\n",
       "      <td>2022-03-14</td>\n",
       "      <td>1</td>\n",
       "    </tr>\n",
       "    <tr>\n",
       "      <th>140</th>\n",
       "      <td>2022-03-14</td>\n",
       "      <td>1</td>\n",
       "    </tr>\n",
       "    <tr>\n",
       "      <th>141</th>\n",
       "      <td>2022-03-14</td>\n",
       "      <td>1</td>\n",
       "    </tr>\n",
       "    <tr>\n",
       "      <th>142</th>\n",
       "      <td>2022-03-14</td>\n",
       "      <td>1</td>\n",
       "    </tr>\n",
       "    <tr>\n",
       "      <th>143</th>\n",
       "      <td>2022-03-14</td>\n",
       "      <td>1</td>\n",
       "    </tr>\n",
       "    <tr>\n",
       "      <th>144</th>\n",
       "      <td>2022-03-14</td>\n",
       "      <td>1</td>\n",
       "    </tr>\n",
       "    <tr>\n",
       "      <th>149</th>\n",
       "      <td>2022-03-14</td>\n",
       "      <td>1</td>\n",
       "    </tr>\n",
       "    <tr>\n",
       "      <th>151</th>\n",
       "      <td>2022-03-14</td>\n",
       "      <td>1</td>\n",
       "    </tr>\n",
       "    <tr>\n",
       "      <th>152</th>\n",
       "      <td>2022-03-14</td>\n",
       "      <td>1</td>\n",
       "    </tr>\n",
       "    <tr>\n",
       "      <th>179</th>\n",
       "      <td>2022-03-14</td>\n",
       "      <td>1</td>\n",
       "    </tr>\n",
       "    <tr>\n",
       "      <th>184</th>\n",
       "      <td>2022-03-14</td>\n",
       "      <td>1</td>\n",
       "    </tr>\n",
       "    <tr>\n",
       "      <th>191</th>\n",
       "      <td>2022-03-13</td>\n",
       "      <td>1</td>\n",
       "    </tr>\n",
       "    <tr>\n",
       "      <th>195</th>\n",
       "      <td>2022-03-14</td>\n",
       "      <td>1</td>\n",
       "    </tr>\n",
       "    <tr>\n",
       "      <th>204</th>\n",
       "      <td>2022-03-14</td>\n",
       "      <td>1</td>\n",
       "    </tr>\n",
       "  </tbody>\n",
       "</table>\n",
       "</div>"
      ],
      "text/plain": [
       "    date_index  freq\n",
       "0   2022-03-14     1\n",
       "11  2022-03-14     1\n",
       "19  2022-03-14     1\n",
       "22  2022-03-11     1\n",
       "33  2022-03-09     1\n",
       "56  2022-03-13     1\n",
       "61  2022-03-14     1\n",
       "75  2022-03-14     1\n",
       "84  2022-03-14     1\n",
       "88  2022-03-14     1\n",
       "98  2022-03-14     1\n",
       "107 2022-03-14     1\n",
       "110 2022-03-14     1\n",
       "140 2022-03-14     1\n",
       "141 2022-03-14     1\n",
       "142 2022-03-14     1\n",
       "143 2022-03-14     1\n",
       "144 2022-03-14     1\n",
       "149 2022-03-14     1\n",
       "151 2022-03-14     1\n",
       "152 2022-03-14     1\n",
       "179 2022-03-14     1\n",
       "184 2022-03-14     1\n",
       "191 2022-03-13     1\n",
       "195 2022-03-14     1\n",
       "204 2022-03-14     1"
      ]
     },
     "execution_count": 14,
     "metadata": {},
     "output_type": "execute_result"
    }
   ],
   "source": [
    "query_freq"
   ]
  },
  {
   "cell_type": "markdown",
   "metadata": {},
   "source": [
    "### How to make it?"
   ]
  },
  {
   "cell_type": "code",
   "execution_count": null,
   "metadata": {},
   "outputs": [
    {
     "data": {
      "text/plain": [
       "{'date_index': 0     2022-03-14\n",
       " 11    2022-03-14\n",
       " 19    2022-03-14\n",
       " 22    2022-03-11\n",
       " 33    2022-03-09\n",
       " 56    2022-03-13\n",
       " 61    2022-03-14\n",
       " 75    2022-03-14\n",
       " 84    2022-03-14\n",
       " 88    2022-03-14\n",
       " 98    2022-03-14\n",
       " 107   2022-03-14\n",
       " 110   2022-03-14\n",
       " 140   2022-03-14\n",
       " 141   2022-03-14\n",
       " 142   2022-03-14\n",
       " 143   2022-03-14\n",
       " 144   2022-03-14\n",
       " 149   2022-03-14\n",
       " 151   2022-03-14\n",
       " 152   2022-03-14\n",
       " 179   2022-03-14\n",
       " 184   2022-03-14\n",
       " 191   2022-03-13\n",
       " 195   2022-03-14\n",
       " 204   2022-03-14\n",
       " Name: date, dtype: datetime64[ns],\n",
       " 'freq': [1,\n",
       "  1,\n",
       "  1,\n",
       "  1,\n",
       "  1,\n",
       "  1,\n",
       "  1,\n",
       "  1,\n",
       "  1,\n",
       "  1,\n",
       "  1,\n",
       "  1,\n",
       "  1,\n",
       "  1,\n",
       "  1,\n",
       "  1,\n",
       "  1,\n",
       "  1,\n",
       "  1,\n",
       "  1,\n",
       "  1,\n",
       "  1,\n",
       "  1,\n",
       "  1,\n",
       "  1,\n",
       "  1]}"
      ]
     },
     "execution_count": 15,
     "metadata": {},
     "output_type": "execute_result"
    }
   ],
   "source": [
    "{'date_index':pd.to_datetime( df_query.date ),'freq':[1 for _ in range(len(df_query))]}"
   ]
  },
  {
   "cell_type": "code",
   "execution_count": null,
   "metadata": {
    "scrolled": true
   },
   "outputs": [
    {
     "data": {
      "text/plain": [
       "0      2022-03-14\n",
       "11     2022-03-14\n",
       "19     2022-03-14\n",
       "22     2022-03-11\n",
       "33     2022-03-09\n",
       "56     2022-03-13\n",
       "61     2022-03-14\n",
       "75     2022-03-14\n",
       "84     2022-03-14\n",
       "88     2022-03-14\n",
       "98     2022-03-14\n",
       "107    2022-03-14\n",
       "110    2022-03-14\n",
       "140    2022-03-14\n",
       "141    2022-03-14\n",
       "142    2022-03-14\n",
       "143    2022-03-14\n",
       "144    2022-03-14\n",
       "149    2022-03-14\n",
       "151    2022-03-14\n",
       "152    2022-03-14\n",
       "179    2022-03-14\n",
       "184    2022-03-14\n",
       "191    2022-03-13\n",
       "195    2022-03-14\n",
       "204    2022-03-14\n",
       "Name: date, dtype: object"
      ]
     },
     "execution_count": 16,
     "metadata": {},
     "output_type": "execute_result"
    }
   ],
   "source": [
    "df_query.date # date is string format"
   ]
  },
  {
   "cell_type": "code",
   "execution_count": null,
   "metadata": {},
   "outputs": [
    {
     "data": {
      "text/plain": [
       "0     2022-03-14\n",
       "11    2022-03-14\n",
       "19    2022-03-14\n",
       "22    2022-03-11\n",
       "33    2022-03-09\n",
       "56    2022-03-13\n",
       "61    2022-03-14\n",
       "75    2022-03-14\n",
       "84    2022-03-14\n",
       "88    2022-03-14\n",
       "98    2022-03-14\n",
       "107   2022-03-14\n",
       "110   2022-03-14\n",
       "140   2022-03-14\n",
       "141   2022-03-14\n",
       "142   2022-03-14\n",
       "143   2022-03-14\n",
       "144   2022-03-14\n",
       "149   2022-03-14\n",
       "151   2022-03-14\n",
       "152   2022-03-14\n",
       "179   2022-03-14\n",
       "184   2022-03-14\n",
       "191   2022-03-13\n",
       "195   2022-03-14\n",
       "204   2022-03-14\n",
       "Name: date, dtype: datetime64[ns]"
      ]
     },
     "execution_count": 17,
     "metadata": {},
     "output_type": "execute_result"
    }
   ],
   "source": [
    "# convert to datetime format\n",
    "pd.to_datetime( df_query.date )"
   ]
  },
  {
   "cell_type": "code",
   "execution_count": null,
   "metadata": {},
   "outputs": [
    {
     "data": {
      "text/plain": [
       "[1, 1, 1, 1, 1, 1, 1, 1, 1, 1, 1, 1, 1, 1, 1, 1, 1, 1, 1, 1, 1, 1, 1, 1, 1, 1]"
      ]
     },
     "execution_count": 18,
     "metadata": {},
     "output_type": "execute_result"
    }
   ],
   "source": [
    "[1 for _ in range(len(df_query))]"
   ]
  },
  {
   "cell_type": "code",
   "execution_count": null,
   "metadata": {},
   "outputs": [
    {
     "data": {
      "text/plain": [
       "{'date_index': 0     2022-03-14\n",
       " 11    2022-03-14\n",
       " 19    2022-03-14\n",
       " 22    2022-03-11\n",
       " 33    2022-03-09\n",
       " 56    2022-03-13\n",
       " 61    2022-03-14\n",
       " 75    2022-03-14\n",
       " 84    2022-03-14\n",
       " 88    2022-03-14\n",
       " 98    2022-03-14\n",
       " 107   2022-03-14\n",
       " 110   2022-03-14\n",
       " 140   2022-03-14\n",
       " 141   2022-03-14\n",
       " 142   2022-03-14\n",
       " 143   2022-03-14\n",
       " 144   2022-03-14\n",
       " 149   2022-03-14\n",
       " 151   2022-03-14\n",
       " 152   2022-03-14\n",
       " 179   2022-03-14\n",
       " 184   2022-03-14\n",
       " 191   2022-03-13\n",
       " 195   2022-03-14\n",
       " 204   2022-03-14\n",
       " Name: date, dtype: datetime64[ns],\n",
       " 'freq': [1,\n",
       "  1,\n",
       "  1,\n",
       "  1,\n",
       "  1,\n",
       "  1,\n",
       "  1,\n",
       "  1,\n",
       "  1,\n",
       "  1,\n",
       "  1,\n",
       "  1,\n",
       "  1,\n",
       "  1,\n",
       "  1,\n",
       "  1,\n",
       "  1,\n",
       "  1,\n",
       "  1,\n",
       "  1,\n",
       "  1,\n",
       "  1,\n",
       "  1,\n",
       "  1,\n",
       "  1,\n",
       "  1]}"
      ]
     },
     "execution_count": 19,
     "metadata": {},
     "output_type": "execute_result"
    }
   ],
   "source": [
    "# dict format \n",
    "{'date_index':pd.to_datetime( df_query.date ),'freq':[1 for _ in range(len(df_query))]}"
   ]
  },
  {
   "cell_type": "code",
   "execution_count": null,
   "metadata": {},
   "outputs": [
    {
     "data": {
      "text/html": [
       "<div>\n",
       "<style scoped>\n",
       "    .dataframe tbody tr th:only-of-type {\n",
       "        vertical-align: middle;\n",
       "    }\n",
       "\n",
       "    .dataframe tbody tr th {\n",
       "        vertical-align: top;\n",
       "    }\n",
       "\n",
       "    .dataframe thead th {\n",
       "        text-align: right;\n",
       "    }\n",
       "</style>\n",
       "<table border=\"1\" class=\"dataframe\">\n",
       "  <thead>\n",
       "    <tr style=\"text-align: right;\">\n",
       "      <th></th>\n",
       "      <th>date_index</th>\n",
       "      <th>freq</th>\n",
       "    </tr>\n",
       "  </thead>\n",
       "  <tbody>\n",
       "    <tr>\n",
       "      <th>0</th>\n",
       "      <td>2022-03-14</td>\n",
       "      <td>1</td>\n",
       "    </tr>\n",
       "    <tr>\n",
       "      <th>11</th>\n",
       "      <td>2022-03-14</td>\n",
       "      <td>1</td>\n",
       "    </tr>\n",
       "    <tr>\n",
       "      <th>19</th>\n",
       "      <td>2022-03-14</td>\n",
       "      <td>1</td>\n",
       "    </tr>\n",
       "    <tr>\n",
       "      <th>22</th>\n",
       "      <td>2022-03-11</td>\n",
       "      <td>1</td>\n",
       "    </tr>\n",
       "    <tr>\n",
       "      <th>33</th>\n",
       "      <td>2022-03-09</td>\n",
       "      <td>1</td>\n",
       "    </tr>\n",
       "    <tr>\n",
       "      <th>56</th>\n",
       "      <td>2022-03-13</td>\n",
       "      <td>1</td>\n",
       "    </tr>\n",
       "    <tr>\n",
       "      <th>61</th>\n",
       "      <td>2022-03-14</td>\n",
       "      <td>1</td>\n",
       "    </tr>\n",
       "    <tr>\n",
       "      <th>75</th>\n",
       "      <td>2022-03-14</td>\n",
       "      <td>1</td>\n",
       "    </tr>\n",
       "    <tr>\n",
       "      <th>84</th>\n",
       "      <td>2022-03-14</td>\n",
       "      <td>1</td>\n",
       "    </tr>\n",
       "    <tr>\n",
       "      <th>88</th>\n",
       "      <td>2022-03-14</td>\n",
       "      <td>1</td>\n",
       "    </tr>\n",
       "    <tr>\n",
       "      <th>98</th>\n",
       "      <td>2022-03-14</td>\n",
       "      <td>1</td>\n",
       "    </tr>\n",
       "    <tr>\n",
       "      <th>107</th>\n",
       "      <td>2022-03-14</td>\n",
       "      <td>1</td>\n",
       "    </tr>\n",
       "    <tr>\n",
       "      <th>110</th>\n",
       "      <td>2022-03-14</td>\n",
       "      <td>1</td>\n",
       "    </tr>\n",
       "    <tr>\n",
       "      <th>140</th>\n",
       "      <td>2022-03-14</td>\n",
       "      <td>1</td>\n",
       "    </tr>\n",
       "    <tr>\n",
       "      <th>141</th>\n",
       "      <td>2022-03-14</td>\n",
       "      <td>1</td>\n",
       "    </tr>\n",
       "    <tr>\n",
       "      <th>142</th>\n",
       "      <td>2022-03-14</td>\n",
       "      <td>1</td>\n",
       "    </tr>\n",
       "    <tr>\n",
       "      <th>143</th>\n",
       "      <td>2022-03-14</td>\n",
       "      <td>1</td>\n",
       "    </tr>\n",
       "    <tr>\n",
       "      <th>144</th>\n",
       "      <td>2022-03-14</td>\n",
       "      <td>1</td>\n",
       "    </tr>\n",
       "    <tr>\n",
       "      <th>149</th>\n",
       "      <td>2022-03-14</td>\n",
       "      <td>1</td>\n",
       "    </tr>\n",
       "    <tr>\n",
       "      <th>151</th>\n",
       "      <td>2022-03-14</td>\n",
       "      <td>1</td>\n",
       "    </tr>\n",
       "    <tr>\n",
       "      <th>152</th>\n",
       "      <td>2022-03-14</td>\n",
       "      <td>1</td>\n",
       "    </tr>\n",
       "    <tr>\n",
       "      <th>179</th>\n",
       "      <td>2022-03-14</td>\n",
       "      <td>1</td>\n",
       "    </tr>\n",
       "    <tr>\n",
       "      <th>184</th>\n",
       "      <td>2022-03-14</td>\n",
       "      <td>1</td>\n",
       "    </tr>\n",
       "    <tr>\n",
       "      <th>191</th>\n",
       "      <td>2022-03-13</td>\n",
       "      <td>1</td>\n",
       "    </tr>\n",
       "    <tr>\n",
       "      <th>195</th>\n",
       "      <td>2022-03-14</td>\n",
       "      <td>1</td>\n",
       "    </tr>\n",
       "    <tr>\n",
       "      <th>204</th>\n",
       "      <td>2022-03-14</td>\n",
       "      <td>1</td>\n",
       "    </tr>\n",
       "  </tbody>\n",
       "</table>\n",
       "</div>"
      ],
      "text/plain": [
       "    date_index  freq\n",
       "0   2022-03-14     1\n",
       "11  2022-03-14     1\n",
       "19  2022-03-14     1\n",
       "22  2022-03-11     1\n",
       "33  2022-03-09     1\n",
       "56  2022-03-13     1\n",
       "61  2022-03-14     1\n",
       "75  2022-03-14     1\n",
       "84  2022-03-14     1\n",
       "88  2022-03-14     1\n",
       "98  2022-03-14     1\n",
       "107 2022-03-14     1\n",
       "110 2022-03-14     1\n",
       "140 2022-03-14     1\n",
       "141 2022-03-14     1\n",
       "142 2022-03-14     1\n",
       "143 2022-03-14     1\n",
       "144 2022-03-14     1\n",
       "149 2022-03-14     1\n",
       "151 2022-03-14     1\n",
       "152 2022-03-14     1\n",
       "179 2022-03-14     1\n",
       "184 2022-03-14     1\n",
       "191 2022-03-13     1\n",
       "195 2022-03-14     1\n",
       "204 2022-03-14     1"
      ]
     },
     "execution_count": 20,
     "metadata": {},
     "output_type": "execute_result"
    }
   ],
   "source": [
    "# conver to dataframe\n",
    "pd.DataFrame({'date_index':pd.to_datetime( df_query.date ),'freq':[1 for _ in range(len(df_query))]})"
   ]
  },
  {
   "cell_type": "code",
   "execution_count": null,
   "metadata": {},
   "outputs": [],
   "source": []
  },
  {
   "cell_type": "markdown",
   "metadata": {},
   "source": [
    "## Daily frequency"
   ]
  },
  {
   "cell_type": "markdown",
   "metadata": {},
   "source": [
    "### We use pd.Grouper(). It is very powerful."
   ]
  },
  {
   "cell_type": "code",
   "execution_count": null,
   "metadata": {},
   "outputs": [
    {
     "data": {
      "text/html": [
       "<div>\n",
       "<style scoped>\n",
       "    .dataframe tbody tr th:only-of-type {\n",
       "        vertical-align: middle;\n",
       "    }\n",
       "\n",
       "    .dataframe tbody tr th {\n",
       "        vertical-align: top;\n",
       "    }\n",
       "\n",
       "    .dataframe thead th {\n",
       "        text-align: right;\n",
       "    }\n",
       "</style>\n",
       "<table border=\"1\" class=\"dataframe\">\n",
       "  <thead>\n",
       "    <tr style=\"text-align: right;\">\n",
       "      <th></th>\n",
       "      <th>freq</th>\n",
       "    </tr>\n",
       "    <tr>\n",
       "      <th>date_index</th>\n",
       "      <th></th>\n",
       "    </tr>\n",
       "  </thead>\n",
       "  <tbody>\n",
       "    <tr>\n",
       "      <th>2022-03-09</th>\n",
       "      <td>1</td>\n",
       "    </tr>\n",
       "    <tr>\n",
       "      <th>2022-03-10</th>\n",
       "      <td>0</td>\n",
       "    </tr>\n",
       "    <tr>\n",
       "      <th>2022-03-11</th>\n",
       "      <td>1</td>\n",
       "    </tr>\n",
       "    <tr>\n",
       "      <th>2022-03-12</th>\n",
       "      <td>0</td>\n",
       "    </tr>\n",
       "    <tr>\n",
       "      <th>2022-03-13</th>\n",
       "      <td>2</td>\n",
       "    </tr>\n",
       "    <tr>\n",
       "      <th>2022-03-14</th>\n",
       "      <td>22</td>\n",
       "    </tr>\n",
       "  </tbody>\n",
       "</table>\n",
       "</div>"
      ],
      "text/plain": [
       "            freq\n",
       "date_index      \n",
       "2022-03-09     1\n",
       "2022-03-10     0\n",
       "2022-03-11     1\n",
       "2022-03-12     0\n",
       "2022-03-13     2\n",
       "2022-03-14    22"
      ]
     },
     "execution_count": 21,
     "metadata": {},
     "output_type": "execute_result"
    }
   ],
   "source": [
    "query_freq.groupby(pd.Grouper(key='date_index',freq='D')).sum()"
   ]
  },
  {
   "cell_type": "code",
   "execution_count": null,
   "metadata": {},
   "outputs": [
    {
     "data": {
      "text/plain": [
       "TimeGrouper(key='date_index', freq=<Day>, axis=0, sort=True, closed='left', label='left', how='mean', convention='e', origin='start_day')"
      ]
     },
     "execution_count": 22,
     "metadata": {},
     "output_type": "execute_result"
    }
   ],
   "source": [
    "pd.Grouper(key='date_index',freq='D')"
   ]
  },
  {
   "cell_type": "code",
   "execution_count": null,
   "metadata": {},
   "outputs": [],
   "source": []
  },
  {
   "cell_type": "markdown",
   "metadata": {},
   "source": [
    "## Week-based frequency"
   ]
  },
  {
   "cell_type": "code",
   "execution_count": null,
   "metadata": {},
   "outputs": [
    {
     "data": {
      "text/html": [
       "<div>\n",
       "<style scoped>\n",
       "    .dataframe tbody tr th:only-of-type {\n",
       "        vertical-align: middle;\n",
       "    }\n",
       "\n",
       "    .dataframe tbody tr th {\n",
       "        vertical-align: top;\n",
       "    }\n",
       "\n",
       "    .dataframe thead th {\n",
       "        text-align: right;\n",
       "    }\n",
       "</style>\n",
       "<table border=\"1\" class=\"dataframe\">\n",
       "  <thead>\n",
       "    <tr style=\"text-align: right;\">\n",
       "      <th></th>\n",
       "      <th>freq</th>\n",
       "    </tr>\n",
       "    <tr>\n",
       "      <th>date_index</th>\n",
       "      <th></th>\n",
       "    </tr>\n",
       "  </thead>\n",
       "  <tbody>\n",
       "    <tr>\n",
       "      <th>2022-03-13</th>\n",
       "      <td>4</td>\n",
       "    </tr>\n",
       "    <tr>\n",
       "      <th>2022-03-20</th>\n",
       "      <td>22</td>\n",
       "    </tr>\n",
       "  </tbody>\n",
       "</table>\n",
       "</div>"
      ],
      "text/plain": [
       "            freq\n",
       "date_index      \n",
       "2022-03-13     4\n",
       "2022-03-20    22"
      ]
     },
     "execution_count": 23,
     "metadata": {},
     "output_type": "execute_result"
    }
   ],
   "source": [
    "query_freq.groupby(pd.Grouper(key='date_index',freq='W')).sum()"
   ]
  },
  {
   "cell_type": "code",
   "execution_count": null,
   "metadata": {},
   "outputs": [],
   "source": []
  },
  {
   "cell_type": "markdown",
   "metadata": {},
   "source": [
    "## draw freqency line chart"
   ]
  },
  {
   "cell_type": "code",
   "execution_count": null,
   "metadata": {},
   "outputs": [],
   "source": [
    "# data = query_freq.groupby(pd.Grouper(key='date_index',freq='D')).sum()[['freq']]\n",
    "data = query_freq.groupby(pd.Grouper(key='date_index',freq='D')).sum()[['freq']]"
   ]
  },
  {
   "cell_type": "code",
   "execution_count": null,
   "metadata": {},
   "outputs": [
    {
     "data": {
      "text/html": [
       "<div>\n",
       "<style scoped>\n",
       "    .dataframe tbody tr th:only-of-type {\n",
       "        vertical-align: middle;\n",
       "    }\n",
       "\n",
       "    .dataframe tbody tr th {\n",
       "        vertical-align: top;\n",
       "    }\n",
       "\n",
       "    .dataframe thead th {\n",
       "        text-align: right;\n",
       "    }\n",
       "</style>\n",
       "<table border=\"1\" class=\"dataframe\">\n",
       "  <thead>\n",
       "    <tr style=\"text-align: right;\">\n",
       "      <th></th>\n",
       "      <th>freq</th>\n",
       "    </tr>\n",
       "    <tr>\n",
       "      <th>date_index</th>\n",
       "      <th></th>\n",
       "    </tr>\n",
       "  </thead>\n",
       "  <tbody>\n",
       "    <tr>\n",
       "      <th>2022-03-09</th>\n",
       "      <td>1</td>\n",
       "    </tr>\n",
       "    <tr>\n",
       "      <th>2022-03-10</th>\n",
       "      <td>0</td>\n",
       "    </tr>\n",
       "    <tr>\n",
       "      <th>2022-03-11</th>\n",
       "      <td>1</td>\n",
       "    </tr>\n",
       "    <tr>\n",
       "      <th>2022-03-12</th>\n",
       "      <td>0</td>\n",
       "    </tr>\n",
       "    <tr>\n",
       "      <th>2022-03-13</th>\n",
       "      <td>2</td>\n",
       "    </tr>\n",
       "    <tr>\n",
       "      <th>2022-03-14</th>\n",
       "      <td>22</td>\n",
       "    </tr>\n",
       "  </tbody>\n",
       "</table>\n",
       "</div>"
      ],
      "text/plain": [
       "            freq\n",
       "date_index      \n",
       "2022-03-09     1\n",
       "2022-03-10     0\n",
       "2022-03-11     1\n",
       "2022-03-12     0\n",
       "2022-03-13     2\n",
       "2022-03-14    22"
      ]
     },
     "execution_count": 25,
     "metadata": {},
     "output_type": "execute_result"
    }
   ],
   "source": [
    "data"
   ]
  },
  {
   "cell_type": "code",
   "execution_count": null,
   "metadata": {},
   "outputs": [],
   "source": []
  },
  {
   "cell_type": "code",
   "execution_count": null,
   "metadata": {},
   "outputs": [
    {
     "data": {
      "text/plain": [
       "pandas.core.frame.DataFrame"
      ]
     },
     "execution_count": 26,
     "metadata": {},
     "output_type": "execute_result"
    }
   ],
   "source": [
    "type(data)"
   ]
  },
  {
   "cell_type": "code",
   "execution_count": null,
   "metadata": {},
   "outputs": [],
   "source": [
    "%matplotlib inline\n",
    "import matplotlib.pyplot as plt"
   ]
  },
  {
   "cell_type": "code",
   "execution_count": null,
   "metadata": {},
   "outputs": [
    {
     "data": {
      "text/plain": [
       "<AxesSubplot:xlabel='date_index'>"
      ]
     },
     "execution_count": 28,
     "metadata": {},
     "output_type": "execute_result"
    },
    {
     "data": {
      "image/png": "[encoded data removed]",
      "text/plain": [
       "<Figure size 432x288 with 1 Axes>"
      ]
     },
     "metadata": {
      "needs_background": "light"
     },
     "output_type": "display_data"
    }
   ],
   "source": [
    "data.plot()"
   ]
  },
  {
   "cell_type": "code",
   "execution_count": null,
   "metadata": {},
   "outputs": [],
   "source": []
  },
  {
   "cell_type": "markdown",
   "metadata": {},
   "source": [
    "## Prepare data format for JavaScrip line chart on Django website"
   ]
  },
  {
   "cell_type": "code",
   "execution_count": null,
   "metadata": {},
   "outputs": [
    {
     "data": {
      "text/html": [
       "<div>\n",
       "<style scoped>\n",
       "    .dataframe tbody tr th:only-of-type {\n",
       "        vertical-align: middle;\n",
       "    }\n",
       "\n",
       "    .dataframe tbody tr th {\n",
       "        vertical-align: top;\n",
       "    }\n",
       "\n",
       "    .dataframe thead th {\n",
       "        text-align: right;\n",
       "    }\n",
       "</style>\n",
       "<table border=\"1\" class=\"dataframe\">\n",
       "  <thead>\n",
       "    <tr style=\"text-align: right;\">\n",
       "      <th></th>\n",
       "      <th>freq</th>\n",
       "    </tr>\n",
       "    <tr>\n",
       "      <th>date_index</th>\n",
       "      <th></th>\n",
       "    </tr>\n",
       "  </thead>\n",
       "  <tbody>\n",
       "    <tr>\n",
       "      <th>2022-03-09</th>\n",
       "      <td>1</td>\n",
       "    </tr>\n",
       "    <tr>\n",
       "      <th>2022-03-10</th>\n",
       "      <td>0</td>\n",
       "    </tr>\n",
       "  </tbody>\n",
       "</table>\n",
       "</div>"
      ],
      "text/plain": [
       "            freq\n",
       "date_index      \n",
       "2022-03-09     1\n",
       "2022-03-10     0"
      ]
     },
     "execution_count": 29,
     "metadata": {},
     "output_type": "execute_result"
    }
   ],
   "source": [
    "data.head(2)"
   ]
  },
  {
   "cell_type": "code",
   "execution_count": null,
   "metadata": {},
   "outputs": [],
   "source": [
    "time_data=[]\n",
    "for i, date_idx in enumerate(data.index):\n",
    "    row = {'x':date_idx.strftime('%Y-%m-%d'),'y':int(data.iloc[i].freq)}\n",
    "    time_data.append(row)"
   ]
  },
  {
   "cell_type": "code",
   "execution_count": null,
   "metadata": {},
   "outputs": [
    {
     "data": {
      "text/plain": [
       "[{'x': '2022-03-09', 'y': 1},\n",
       " {'x': '2022-03-10', 'y': 0},\n",
       " {'x': '2022-03-11', 'y': 1},\n",
       " {'x': '2022-03-12', 'y': 0},\n",
       " {'x': '2022-03-13', 'y': 2},\n",
       " {'x': '2022-03-14', 'y': 22}]"
      ]
     },
     "execution_count": 31,
     "metadata": {},
     "output_type": "execute_result"
    }
   ],
   "source": [
    "time_data"
   ]
  },
  {
   "cell_type": "code",
   "execution_count": null,
   "metadata": {},
   "outputs": [],
   "source": []
  },
  {
   "cell_type": "code",
   "execution_count": null,
   "metadata": {},
   "outputs": [],
   "source": []
  },
  {
   "cell_type": "markdown",
   "metadata": {},
   "source": [
    "# All-in-one function: Get time-based keyword frequency"
   ]
  },
  {
   "cell_type": "code",
   "execution_count": null,
   "metadata": {},
   "outputs": [],
   "source": []
  },
  {
   "cell_type": "markdown",
   "metadata": {},
   "source": [
    "# views.py for app_user_keyword"
   ]
  },
  {
   "cell_type": "raw",
   "metadata": {},
   "source": [
    "from django.shortcuts import render\n",
    "import pandas as pd\n",
    "from django.http import JsonResponse\n",
    "from django.views.decorators.csrf import csrf_exempt\n",
    "from datetime import datetime, timedelta\n",
    "\n",
    "# (1) we can load data using read_csv()\n",
    "# df is a global variable\n",
    "# df = pd.read_csv('dataset/cna_news_preprocessed.csv', sep='|')\n",
    "\n",
    "# (2) we can load data using reload_df_data() function\n",
    "def reload_df_data():\n",
    "    # make df be a global variable\n",
    "    global  df\n",
    "    df = pd.read_csv('dataset/cna_news_preprocessed.csv', sep='|')\n",
    "\n",
    "# We should reload df when necessary\n",
    "reload_df_data() \n",
    "\n",
    "def home(request):\n",
    "    return render(request, 'app_user_keyword/home.html')\n",
    "\n",
    "# When POST is used, make this function be exempted from the csrf \n",
    "@csrf_exempt\n",
    "def api_get_top_userkey(request):\n",
    "    # (1) get keywords, category, condition, and weeks passed from frontend\n",
    "    userkey = request.POST['userkey']\n",
    "    cate = request.POST['cate']\n",
    "    cond = request.POST['cond']\n",
    "    weeks = int(request.POST['weeks'])\n",
    "    key = userkey.split()\n",
    "    \n",
    "    # (2) make df_query global, so it can be used by other functions\n",
    "    global  df_query \n",
    "\n",
    "    # (3) filter dataframe\n",
    "    df_query = filter_dataFrame(key, cond, cate,weeks)\n",
    "    #print(len(df_query))\n",
    "\n",
    "    # (4) get frequency data\n",
    "    key_freq_cat, key_occurrence_cat = count_keyword(df_query, key)\n",
    "    print(key_occurrence_cat)\n",
    "    \n",
    "    # (5) get line chart data\n",
    "    # key_time_freq = [\n",
    "    # '{\"x\": \"2019-03-07\", \"y\": 2}',\n",
    "    # '{\"x\": \"2019-03-08\", \"y\": 2}',\n",
    "    # '{\"x\": \"2019-03-09\", \"y\": 13}']\n",
    "    key_time_freq = get_keyword_time_based_freq(df_query)\n",
    "\n",
    "    # (6) response all data to frontend home page\n",
    "    response = {\n",
    "    'key_occurrence_cat': key_occurrence_cat,\n",
    "    'key_freq_cat': key_freq_cat,\n",
    "    'key_time_freq': key_time_freq, }\n",
    "\n",
    "    return JsonResponse(response)\n",
    "\n",
    "def filter_dataFrame(user_keywords, cond, cate, weeks):\n",
    "\n",
    "    # end date: the date of the latest record of news\n",
    "    end_date = df.date.max()\n",
    "    \n",
    "    # start date\n",
    "    start_date = (datetime.strptime(end_date, '%Y-%m-%d').date() - timedelta(weeks=weeks)).strftime('%Y-%m-%d')\n",
    "\n",
    "    # proceed filtering\n",
    "    if (cate == \"全部\") & (cond == 'and'):\n",
    "        query_df = df[(df.date >= start_date) & (df.date <= end_date) \n",
    "            & df.tokens_v2.apply(lambda text: all((qk in text) for qk in user_keywords))]\n",
    "    elif (cate == \"全部\") & (cond == 'or'):\n",
    "        query_df = df[(df['date'] >= start_date) & (df['date'] <= end_date) \n",
    "            & df.tokens_v2.apply(lambda text: any((qk in text) for qk in user_keywords))]\n",
    "    elif (cond == 'and'):\n",
    "        query_df = df[(df.category == cate) \n",
    "            & (df.date >= start_date) & (df.date <= end_date) \n",
    "            & df.tokens_v2.apply(lambda text: all((qk in text) for qk in user_keywords))]\n",
    "    elif (cond == 'or'):\n",
    "        query_df = df[(df.category == cate) \n",
    "            & (df['date'] >= start_date) & (df['date'] <= end_date) \n",
    "            & df.tokens_v2.apply(lambda text: any((qk in text) for qk in user_keywords))]\n",
    "    return query_df\n",
    "\n",
    "\n",
    "# ** How many pieces of news were the keyword(s) mentioned in?\n",
    "# ** How many times were the keyword(s) mentioned?\n",
    "\n",
    "# For the df_query, count the occurence and frequency for every category:\n",
    "# (1) cate_occurence={}  number of pieces containing the keywords\n",
    "# (2) cate_freq={}       number of times the keywords were mentioned\n",
    "\n",
    "news_categories = ['全部','政治', '科技', '運動', '證卷', '產經', '娛樂', '生活', '國際', '社會', '文化', '兩岸']\n",
    "\n",
    "def count_keyword(query_df, user_keywords):\n",
    "    cate_occurence={}\n",
    "    cate_freq={}\n",
    "\n",
    "    for cate in news_categories:\n",
    "        cate_occurence[cate]=0\n",
    "        cate_freq[cate]=0\n",
    "\n",
    "    for idx, row in query_df.iterrows():\n",
    "        # count number of news\n",
    "        cate_occurence[row.category] += 1\n",
    "        cate_occurence['全部'] += 1\n",
    "        \n",
    "        # count user keyword frequency by checking every word in tokens_v2\n",
    "        tokens = eval(row.tokens_v2)\n",
    "        freq =  len([word for word in tokens if (word in user_keywords)])\n",
    "        cate_freq[row.category] += freq\n",
    "        cate_freq['全部'] += freq\n",
    "        \n",
    "    return cate_freq, cate_occurence\n",
    "\n",
    "def get_keyword_time_based_freq(df_query):\n",
    "    date_samples = df_query.date\n",
    "    query_freq = pd.DataFrame({'date_index': pd.to_datetime(date_samples), 'freq': [1 for _ in range(len(df_query))]})\n",
    "    data = query_freq.groupby(pd.Grouper(key='date_index', freq='D')).sum()\n",
    "    time_data = []\n",
    "    for i, idx in enumerate(data.index):\n",
    "        row = {'x': idx.strftime('%Y-%m-%d'), 'y': int(data.iloc[i].freq)}\n",
    "        time_data.append(row)\n",
    "    return time_data\n",
    "\n",
    "print(\"app_user_keyword was loaded!\")\n",
    "\n"
   ]
  },
  {
   "cell_type": "code",
   "execution_count": null,
   "metadata": {},
   "outputs": [],
   "source": []
  },
  {
   "cell_type": "code",
   "execution_count": null,
   "metadata": {},
   "outputs": [],
   "source": []
  }
 ],
 "metadata": {
  "kernelspec": {
   "display_name": "Python 3",
   "language": "python",
   "name": "python3"
  },
  "language_info": {
   "codemirror_mode": {
    "name": "ipython",
    "version": 3
   },
   "file_extension": ".py",
   "mimetype": "text/x-python",
   "name": "python",
   "nbconvert_exporter": "python",
   "pygments_lexer": "ipython3",
   "version": "3.8.12"
  },
  "toc": {
   "base_numbering": 1,
   "nav_menu": {},
   "number_sections": true,
   "sideBar": true,
   "skip_h1_title": false,
   "title_cell": "Table of Contents",
   "title_sidebar": "Contents",
   "toc_cell": false,
   "toc_position": {},
   "toc_section_display": true,
   "toc_window_display": true
  }
 },
 "nbformat": 4,
 "nbformat_minor": 2
}
