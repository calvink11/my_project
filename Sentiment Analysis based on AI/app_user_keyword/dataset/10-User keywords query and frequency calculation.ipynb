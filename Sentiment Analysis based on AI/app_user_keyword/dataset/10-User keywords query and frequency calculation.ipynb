{
 "cells": [
  {
   "cell_type": "markdown",
   "metadata": {},
   "source": [
    "# User keyword query\n",
    "\n",
    "    Input 1: user query keywords\n",
    "    Input 2: condition--and, or\n",
    "\n",
    "    Output: frequency of the keywords\n",
    "    (1): How many times are the keywords mentioned? 這個關鍵字被提到多少次?\n",
    "    (2): How many pieces of news are the keywords mentioned in? 有幾篇新聞提到這個關鍵字?\n",
    "\n",
    "    First news: ['肺炎','疫情', '肺炎']\n",
    "    Second news:['陳時中','指揮中心','肺炎','陳時中']\n",
    "\n",
    "    肺炎: \n",
    "    (1) '肺炎' are mentioned three times.  ==> frequency is 3\n",
    "    (2) Two pieces of news mention '肺炎'. ==> occurence is 2\n",
    "\n",
    "    陳時中: \n",
    "    (1) '陳時中' are mentioned two times.  ==> frequency is 2\n",
    "    (2) One pieces of news mention '陳時中'. ==> occurence is 1\n",
    "    \n"
   ]
  },
  {
   "cell_type": "markdown",
   "metadata": {},
   "source": [
    "# Delete hh:mm of the date column"
   ]
  },
  {
   "cell_type": "code",
   "execution_count": 1,
   "metadata": {},
   "outputs": [],
   "source": [
    "import pandas as pd\n",
    "df = pd.read_csv('./now_news_preprocessed.csv',sep='|')"
   ]
  },
  {
   "cell_type": "code",
   "execution_count": 2,
   "metadata": {},
   "outputs": [
    {
     "data": {
      "text/html": [
       "<div>\n",
       "<style scoped>\n",
       "    .dataframe tbody tr th:only-of-type {\n",
       "        vertical-align: middle;\n",
       "    }\n",
       "\n",
       "    .dataframe tbody tr th {\n",
       "        vertical-align: top;\n",
       "    }\n",
       "\n",
       "    .dataframe thead th {\n",
       "        text-align: right;\n",
       "    }\n",
       "</style>\n",
       "<table border=\"1\" class=\"dataframe\">\n",
       "  <thead>\n",
       "    <tr style=\"text-align: right;\">\n",
       "      <th></th>\n",
       "      <th>item_id</th>\n",
       "      <th>date</th>\n",
       "      <th>category</th>\n",
       "      <th>title</th>\n",
       "      <th>content</th>\n",
       "      <th>sentiment</th>\n",
       "      <th>summary</th>\n",
       "      <th>top_key_freq</th>\n",
       "      <th>tokens</th>\n",
       "      <th>tokens_v2</th>\n",
       "      <th>entities</th>\n",
       "      <th>token_pos</th>\n",
       "      <th>link</th>\n",
       "      <th>photo_link</th>\n",
       "    </tr>\n",
       "  </thead>\n",
       "  <tbody>\n",
       "    <tr>\n",
       "      <th>0</th>\n",
       "      <td>column/_20220503_1</td>\n",
       "      <td>2022-05-03 23:10</td>\n",
       "      <td>焦點</td>\n",
       "      <td>\\r\\n</td>\n",
       "      <td>一名陳姓男子今天晚間騎機車行經花蓮壽豐台11丙線11公里處南下車道時，疑因下雨視線不良撞上馬...</td>\n",
       "      <td>0.0</td>\n",
       "      <td>['疑因下雨視線不良撞上在馬路行走的牛隻', '花蓮縣消防局救護車獲報到場時', '疑因下雨...</td>\n",
       "      <td>[('牛隻', 4), ('男子', 3), ('飼主', 3), ('機車', 2), (...</td>\n",
       "      <td>['一', '名', '陳姓', '男子', '今天', '晚間', '騎', '機車', ...</td>\n",
       "      <td>['陳姓', '男子', '機車', '花蓮', '壽豐台', '南下', '車道', '疑...</td>\n",
       "      <td>[NerToken(word='陳', ner='PERSON', idx=(2, 3)),...</td>\n",
       "      <td>[('一', 'Neu'), ('名', 'Nf'), ('陳姓', 'Nb'), ('男子...</td>\n",
       "      <td>https://www.nownews.com/news/5793893</td>\n",
       "      <td>https://media.nownews.com/nn_media/thumbnail/2...</td>\n",
       "    </tr>\n",
       "  </tbody>\n",
       "</table>\n",
       "</div>"
      ],
      "text/plain": [
       "              item_id              date category title  \\\n",
       "0  column/_20220503_1  2022-05-03 23:10       焦點  \\r\\n   \n",
       "\n",
       "                                             content  sentiment  \\\n",
       "0  一名陳姓男子今天晚間騎機車行經花蓮壽豐台11丙線11公里處南下車道時，疑因下雨視線不良撞上馬...        0.0   \n",
       "\n",
       "                                             summary  \\\n",
       "0  ['疑因下雨視線不良撞上在馬路行走的牛隻', '花蓮縣消防局救護車獲報到場時', '疑因下雨...   \n",
       "\n",
       "                                        top_key_freq  \\\n",
       "0  [('牛隻', 4), ('男子', 3), ('飼主', 3), ('機車', 2), (...   \n",
       "\n",
       "                                              tokens  \\\n",
       "0  ['一', '名', '陳姓', '男子', '今天', '晚間', '騎', '機車', ...   \n",
       "\n",
       "                                           tokens_v2  \\\n",
       "0  ['陳姓', '男子', '機車', '花蓮', '壽豐台', '南下', '車道', '疑...   \n",
       "\n",
       "                                            entities  \\\n",
       "0  [NerToken(word='陳', ner='PERSON', idx=(2, 3)),...   \n",
       "\n",
       "                                           token_pos  \\\n",
       "0  [('一', 'Neu'), ('名', 'Nf'), ('陳姓', 'Nb'), ('男子...   \n",
       "\n",
       "                                   link  \\\n",
       "0  https://www.nownews.com/news/5793893   \n",
       "\n",
       "                                          photo_link  \n",
       "0  https://media.nownews.com/nn_media/thumbnail/2...  "
      ]
     },
     "execution_count": 2,
     "metadata": {},
     "output_type": "execute_result"
    }
   ],
   "source": [
    "df.head(1)"
   ]
  },
  {
   "cell_type": "code",
   "execution_count": 3,
   "metadata": {
    "scrolled": true
   },
   "outputs": [
    {
     "data": {
      "text/plain": [
       "(3741, 14)"
      ]
     },
     "execution_count": 3,
     "metadata": {},
     "output_type": "execute_result"
    }
   ],
   "source": [
    "df.shape"
   ]
  },
  {
   "cell_type": "markdown",
   "metadata": {},
   "source": [
    "### Conver date format\n",
    "\n",
    "    The format of news date contains \"hour:minute\"  information in this csv file.\n",
    "    We need only the date informtion. So we must remove the \"hour:minute\" in advance.\n",
    "\n",
    "    We should have done it in the crawler tutorial. \n",
    "    \n",
    "    # get date and convert it with the format of  \"2022-04-20\"\n",
    "    date_and_time = item.find('div', {'class':\"date\"}).text\n",
    "    dt = datetime.strptime(date_and_time, '%Y/%m/%d %H:%M')\n",
    "    # conver to the format of  \"2022-04-20\"\n",
    "    news_date_str = dt.strftime(\"%Y-%m-%d\") # keep only date, remove the time."
   ]
  },
  {
   "cell_type": "code",
   "execution_count": 4,
   "metadata": {},
   "outputs": [],
   "source": [
    "from datetime import datetime"
   ]
  },
  {
   "cell_type": "code",
   "execution_count": 5,
   "metadata": {},
   "outputs": [
    {
     "data": {
      "text/plain": [
       "'2022-05-03 23:10'"
      ]
     },
     "execution_count": 5,
     "metadata": {},
     "output_type": "execute_result"
    }
   ],
   "source": [
    "df.date[0]"
   ]
  },
  {
   "cell_type": "code",
   "execution_count": 9,
   "metadata": {},
   "outputs": [],
   "source": [
    "# Convert to new format without hour and minute infomation\n",
    "dt = datetime.strptime('2022-05-03 23:10', '%Y-%m-%d %H:%M')"
   ]
  },
  {
   "cell_type": "code",
   "execution_count": 10,
   "metadata": {},
   "outputs": [
    {
     "data": {
      "text/plain": [
       "datetime.datetime(2022, 5, 3, 23, 10)"
      ]
     },
     "execution_count": 10,
     "metadata": {},
     "output_type": "execute_result"
    }
   ],
   "source": [
    "dt"
   ]
  },
  {
   "cell_type": "code",
   "execution_count": 11,
   "metadata": {},
   "outputs": [
    {
     "data": {
      "text/plain": [
       "'2022-05-03'"
      ]
     },
     "execution_count": 11,
     "metadata": {},
     "output_type": "execute_result"
    }
   ],
   "source": [
    "dt.strftime('%Y-%m-%d')"
   ]
  },
  {
   "cell_type": "code",
   "execution_count": 12,
   "metadata": {},
   "outputs": [
    {
     "data": {
      "text/plain": [
       "'2022-05-03'"
      ]
     },
     "execution_count": 12,
     "metadata": {},
     "output_type": "execute_result"
    }
   ],
   "source": [
    "dt.strptime('2022-05-03 23:10','%Y-%m-%d %H:%M').strftime('%Y-%m-%d')"
   ]
  },
  {
   "cell_type": "code",
   "execution_count": 13,
   "metadata": {},
   "outputs": [
    {
     "ename": "ValueError",
     "evalue": "time data 'date' does not match format '%Y-%m-%d %H:%M'",
     "output_type": "error",
     "traceback": [
      "\u001b[1;31m---------------------------------------------------------------------------\u001b[0m",
      "\u001b[1;31mValueError\u001b[0m                                Traceback (most recent call last)",
      "\u001b[1;32mc:\\Users\\Calvin\\OneDrive - 國立高雄科技大學\\大數據分析實務\\B110118302_江浩賢\\app_user_keyword\\dataset\\10-User keywords query and frequency calculation.ipynb Cell 13'\u001b[0m in \u001b[0;36m<module>\u001b[1;34m\u001b[0m\n\u001b[1;32m----> <a href='vscode-notebook-cell:/c%3A/Users/Calvin/OneDrive%20-%20%E5%9C%8B%E7%AB%8B%E9%AB%98%E9%9B%84%E7%A7%91%E6%8A%80%E5%A4%A7%E5%AD%B8/%E5%A4%A7%E6%95%B8%E6%93%9A%E5%88%86%E6%9E%90%E5%AF%A6%E5%8B%99/B110118302_%E6%B1%9F%E6%B5%A9%E8%B3%A2/app_user_keyword/dataset/10-User%20keywords%20query%20and%20frequency%20calculation.ipynb#ch0000010?line=0'>1</a>\u001b[0m [datetime\u001b[39m.\u001b[39mstrptime(date,\u001b[39m'\u001b[39m\u001b[39m%\u001b[39m\u001b[39mY-\u001b[39m\u001b[39m%\u001b[39m\u001b[39mm-\u001b[39m\u001b[39m%d\u001b[39;00m\u001b[39m \u001b[39m\u001b[39m%\u001b[39m\u001b[39mH:\u001b[39m\u001b[39m%\u001b[39m\u001b[39mM\u001b[39m\u001b[39m'\u001b[39m)\u001b[39m.\u001b[39mstrftime(\u001b[39m'\u001b[39m\u001b[39m%\u001b[39m\u001b[39mY-\u001b[39m\u001b[39m%\u001b[39m\u001b[39mm-\u001b[39m\u001b[39m%d\u001b[39;00m\u001b[39m'\u001b[39m) \u001b[39mfor\u001b[39;00m date \u001b[39min\u001b[39;00m df\u001b[39m.\u001b[39mdate]\n",
      "\u001b[1;32mc:\\Users\\Calvin\\OneDrive - 國立高雄科技大學\\大數據分析實務\\B110118302_江浩賢\\app_user_keyword\\dataset\\10-User keywords query and frequency calculation.ipynb Cell 13'\u001b[0m in \u001b[0;36m<listcomp>\u001b[1;34m(.0)\u001b[0m\n\u001b[1;32m----> <a href='vscode-notebook-cell:/c%3A/Users/Calvin/OneDrive%20-%20%E5%9C%8B%E7%AB%8B%E9%AB%98%E9%9B%84%E7%A7%91%E6%8A%80%E5%A4%A7%E5%AD%B8/%E5%A4%A7%E6%95%B8%E6%93%9A%E5%88%86%E6%9E%90%E5%AF%A6%E5%8B%99/B110118302_%E6%B1%9F%E6%B5%A9%E8%B3%A2/app_user_keyword/dataset/10-User%20keywords%20query%20and%20frequency%20calculation.ipynb#ch0000010?line=0'>1</a>\u001b[0m [datetime\u001b[39m.\u001b[39;49mstrptime(date,\u001b[39m'\u001b[39;49m\u001b[39m%\u001b[39;49m\u001b[39mY-\u001b[39;49m\u001b[39m%\u001b[39;49m\u001b[39mm-\u001b[39;49m\u001b[39m%d\u001b[39;49;00m\u001b[39m \u001b[39;49m\u001b[39m%\u001b[39;49m\u001b[39mH:\u001b[39;49m\u001b[39m%\u001b[39;49m\u001b[39mM\u001b[39;49m\u001b[39m'\u001b[39;49m)\u001b[39m.\u001b[39mstrftime(\u001b[39m'\u001b[39m\u001b[39m%\u001b[39m\u001b[39mY-\u001b[39m\u001b[39m%\u001b[39m\u001b[39mm-\u001b[39m\u001b[39m%d\u001b[39;00m\u001b[39m'\u001b[39m) \u001b[39mfor\u001b[39;00m date \u001b[39min\u001b[39;00m df\u001b[39m.\u001b[39mdate]\n",
      "File \u001b[1;32md:\\anaconda3\\envs\\ai23\\lib\\_strptime.py:568\u001b[0m, in \u001b[0;36m_strptime_datetime\u001b[1;34m(cls, data_string, format)\u001b[0m\n\u001b[0;32m    <a href='file:///d%3A/anaconda3/envs/ai23/lib/_strptime.py?line=564'>565</a>\u001b[0m \u001b[39mdef\u001b[39;00m \u001b[39m_strptime_datetime\u001b[39m(\u001b[39mcls\u001b[39m, data_string, \u001b[39mformat\u001b[39m\u001b[39m=\u001b[39m\u001b[39m\"\u001b[39m\u001b[39m%a\u001b[39;00m\u001b[39m \u001b[39m\u001b[39m%\u001b[39m\u001b[39mb \u001b[39m\u001b[39m%d\u001b[39;00m\u001b[39m \u001b[39m\u001b[39m%\u001b[39m\u001b[39mH:\u001b[39m\u001b[39m%\u001b[39m\u001b[39mM:\u001b[39m\u001b[39m%\u001b[39m\u001b[39mS \u001b[39m\u001b[39m%\u001b[39m\u001b[39mY\u001b[39m\u001b[39m\"\u001b[39m):\n\u001b[0;32m    <a href='file:///d%3A/anaconda3/envs/ai23/lib/_strptime.py?line=565'>566</a>\u001b[0m     \u001b[39m\"\"\"Return a class cls instance based on the input string and the\u001b[39;00m\n\u001b[0;32m    <a href='file:///d%3A/anaconda3/envs/ai23/lib/_strptime.py?line=566'>567</a>\u001b[0m \u001b[39m    format string.\"\"\"\u001b[39;00m\n\u001b[1;32m--> <a href='file:///d%3A/anaconda3/envs/ai23/lib/_strptime.py?line=567'>568</a>\u001b[0m     tt, fraction, gmtoff_fraction \u001b[39m=\u001b[39m _strptime(data_string, \u001b[39mformat\u001b[39;49m)\n\u001b[0;32m    <a href='file:///d%3A/anaconda3/envs/ai23/lib/_strptime.py?line=568'>569</a>\u001b[0m     tzname, gmtoff \u001b[39m=\u001b[39m tt[\u001b[39m-\u001b[39m\u001b[39m2\u001b[39m:]\n\u001b[0;32m    <a href='file:///d%3A/anaconda3/envs/ai23/lib/_strptime.py?line=569'>570</a>\u001b[0m     args \u001b[39m=\u001b[39m tt[:\u001b[39m6\u001b[39m] \u001b[39m+\u001b[39m (fraction,)\n",
      "File \u001b[1;32md:\\anaconda3\\envs\\ai23\\lib\\_strptime.py:349\u001b[0m, in \u001b[0;36m_strptime\u001b[1;34m(data_string, format)\u001b[0m\n\u001b[0;32m    <a href='file:///d%3A/anaconda3/envs/ai23/lib/_strptime.py?line=346'>347</a>\u001b[0m found \u001b[39m=\u001b[39m format_regex\u001b[39m.\u001b[39mmatch(data_string)\n\u001b[0;32m    <a href='file:///d%3A/anaconda3/envs/ai23/lib/_strptime.py?line=347'>348</a>\u001b[0m \u001b[39mif\u001b[39;00m \u001b[39mnot\u001b[39;00m found:\n\u001b[1;32m--> <a href='file:///d%3A/anaconda3/envs/ai23/lib/_strptime.py?line=348'>349</a>\u001b[0m     \u001b[39mraise\u001b[39;00m \u001b[39mValueError\u001b[39;00m(\u001b[39m\"\u001b[39m\u001b[39mtime data \u001b[39m\u001b[39m%r\u001b[39;00m\u001b[39m does not match format \u001b[39m\u001b[39m%r\u001b[39;00m\u001b[39m\"\u001b[39m \u001b[39m%\u001b[39m\n\u001b[0;32m    <a href='file:///d%3A/anaconda3/envs/ai23/lib/_strptime.py?line=349'>350</a>\u001b[0m                      (data_string, \u001b[39mformat\u001b[39m))\n\u001b[0;32m    <a href='file:///d%3A/anaconda3/envs/ai23/lib/_strptime.py?line=350'>351</a>\u001b[0m \u001b[39mif\u001b[39;00m \u001b[39mlen\u001b[39m(data_string) \u001b[39m!=\u001b[39m found\u001b[39m.\u001b[39mend():\n\u001b[0;32m    <a href='file:///d%3A/anaconda3/envs/ai23/lib/_strptime.py?line=351'>352</a>\u001b[0m     \u001b[39mraise\u001b[39;00m \u001b[39mValueError\u001b[39;00m(\u001b[39m\"\u001b[39m\u001b[39munconverted data remains: \u001b[39m\u001b[39m%s\u001b[39;00m\u001b[39m\"\u001b[39m \u001b[39m%\u001b[39m\n\u001b[0;32m    <a href='file:///d%3A/anaconda3/envs/ai23/lib/_strptime.py?line=352'>353</a>\u001b[0m                       data_string[found\u001b[39m.\u001b[39mend():])\n",
      "\u001b[1;31mValueError\u001b[0m: time data 'date' does not match format '%Y-%m-%d %H:%M'"
     ]
    }
   ],
   "source": [
    "[datetime.strptime(date,'%Y-%m-%d %H:%M').strftime('%Y-%m-%d') for date in df.date]"
   ]
  },
  {
   "cell_type": "code",
   "execution_count": 13,
   "metadata": {},
   "outputs": [
    {
     "ename": "ValueError",
     "evalue": "time data 'date' does not match format '%Y-%m-%d %H:%M'",
     "output_type": "error",
     "traceback": [
      "\u001b[1;31m---------------------------------------------------------------------------\u001b[0m",
      "\u001b[1;31mValueError\u001b[0m                                Traceback (most recent call last)",
      "\u001b[1;32mc:\\Users\\Calvin\\OneDrive - 國立高雄科技大學\\大數據分析實務\\B110118302_江浩賢\\app_user_keyword\\dataset\\10-User keywords query and frequency calculation.ipynb Cell 14'\u001b[0m in \u001b[0;36m<module>\u001b[1;34m\u001b[0m\n\u001b[0;32m      <a href='vscode-notebook-cell:/c%3A/Users/Calvin/OneDrive%20-%20%E5%9C%8B%E7%AB%8B%E9%AB%98%E9%9B%84%E7%A7%91%E6%8A%80%E5%A4%A7%E5%AD%B8/%E5%A4%A7%E6%95%B8%E6%93%9A%E5%88%86%E6%9E%90%E5%AF%A6%E5%8B%99/B110118302_%E6%B1%9F%E6%B5%A9%E8%B3%A2/app_user_keyword/dataset/10-User%20keywords%20query%20and%20frequency%20calculation.ipynb#ch0000013?line=0'>1</a>\u001b[0m \u001b[39m# replace date column with new date\u001b[39;00m\n\u001b[1;32m----> <a href='vscode-notebook-cell:/c%3A/Users/Calvin/OneDrive%20-%20%E5%9C%8B%E7%AB%8B%E9%AB%98%E9%9B%84%E7%A7%91%E6%8A%80%E5%A4%A7%E5%AD%B8/%E5%A4%A7%E6%95%B8%E6%93%9A%E5%88%86%E6%9E%90%E5%AF%A6%E5%8B%99/B110118302_%E6%B1%9F%E6%B5%A9%E8%B3%A2/app_user_keyword/dataset/10-User%20keywords%20query%20and%20frequency%20calculation.ipynb#ch0000013?line=1'>2</a>\u001b[0m df\u001b[39m.\u001b[39mdate \u001b[39m=\u001b[39m [datetime\u001b[39m.\u001b[39mstrptime(date,\u001b[39m'\u001b[39m\u001b[39m%\u001b[39m\u001b[39mY-\u001b[39m\u001b[39m%\u001b[39m\u001b[39mm-\u001b[39m\u001b[39m%d\u001b[39;00m\u001b[39m \u001b[39m\u001b[39m%\u001b[39m\u001b[39mH:\u001b[39m\u001b[39m%\u001b[39m\u001b[39mM\u001b[39m\u001b[39m'\u001b[39m)\u001b[39m.\u001b[39mstrftime(\u001b[39m'\u001b[39m\u001b[39m%\u001b[39m\u001b[39mY-\u001b[39m\u001b[39m%\u001b[39m\u001b[39mm-\u001b[39m\u001b[39m%d\u001b[39;00m\u001b[39m'\u001b[39m) \u001b[39mfor\u001b[39;00m date \u001b[39min\u001b[39;00m df\u001b[39m.\u001b[39mdate]\n",
      "\u001b[1;32mc:\\Users\\Calvin\\OneDrive - 國立高雄科技大學\\大數據分析實務\\B110118302_江浩賢\\app_user_keyword\\dataset\\10-User keywords query and frequency calculation.ipynb Cell 14'\u001b[0m in \u001b[0;36m<listcomp>\u001b[1;34m(.0)\u001b[0m\n\u001b[0;32m      <a href='vscode-notebook-cell:/c%3A/Users/Calvin/OneDrive%20-%20%E5%9C%8B%E7%AB%8B%E9%AB%98%E9%9B%84%E7%A7%91%E6%8A%80%E5%A4%A7%E5%AD%B8/%E5%A4%A7%E6%95%B8%E6%93%9A%E5%88%86%E6%9E%90%E5%AF%A6%E5%8B%99/B110118302_%E6%B1%9F%E6%B5%A9%E8%B3%A2/app_user_keyword/dataset/10-User%20keywords%20query%20and%20frequency%20calculation.ipynb#ch0000013?line=0'>1</a>\u001b[0m \u001b[39m# replace date column with new date\u001b[39;00m\n\u001b[1;32m----> <a href='vscode-notebook-cell:/c%3A/Users/Calvin/OneDrive%20-%20%E5%9C%8B%E7%AB%8B%E9%AB%98%E9%9B%84%E7%A7%91%E6%8A%80%E5%A4%A7%E5%AD%B8/%E5%A4%A7%E6%95%B8%E6%93%9A%E5%88%86%E6%9E%90%E5%AF%A6%E5%8B%99/B110118302_%E6%B1%9F%E6%B5%A9%E8%B3%A2/app_user_keyword/dataset/10-User%20keywords%20query%20and%20frequency%20calculation.ipynb#ch0000013?line=1'>2</a>\u001b[0m df\u001b[39m.\u001b[39mdate \u001b[39m=\u001b[39m [datetime\u001b[39m.\u001b[39;49mstrptime(date,\u001b[39m'\u001b[39;49m\u001b[39m%\u001b[39;49m\u001b[39mY-\u001b[39;49m\u001b[39m%\u001b[39;49m\u001b[39mm-\u001b[39;49m\u001b[39m%d\u001b[39;49;00m\u001b[39m \u001b[39;49m\u001b[39m%\u001b[39;49m\u001b[39mH:\u001b[39;49m\u001b[39m%\u001b[39;49m\u001b[39mM\u001b[39;49m\u001b[39m'\u001b[39;49m)\u001b[39m.\u001b[39mstrftime(\u001b[39m'\u001b[39m\u001b[39m%\u001b[39m\u001b[39mY-\u001b[39m\u001b[39m%\u001b[39m\u001b[39mm-\u001b[39m\u001b[39m%d\u001b[39;00m\u001b[39m'\u001b[39m) \u001b[39mfor\u001b[39;00m date \u001b[39min\u001b[39;00m df\u001b[39m.\u001b[39mdate]\n",
      "File \u001b[1;32md:\\anaconda3\\envs\\ai23\\lib\\_strptime.py:568\u001b[0m, in \u001b[0;36m_strptime_datetime\u001b[1;34m(cls, data_string, format)\u001b[0m\n\u001b[0;32m    <a href='file:///d%3A/anaconda3/envs/ai23/lib/_strptime.py?line=564'>565</a>\u001b[0m \u001b[39mdef\u001b[39;00m \u001b[39m_strptime_datetime\u001b[39m(\u001b[39mcls\u001b[39m, data_string, \u001b[39mformat\u001b[39m\u001b[39m=\u001b[39m\u001b[39m\"\u001b[39m\u001b[39m%a\u001b[39;00m\u001b[39m \u001b[39m\u001b[39m%\u001b[39m\u001b[39mb \u001b[39m\u001b[39m%d\u001b[39;00m\u001b[39m \u001b[39m\u001b[39m%\u001b[39m\u001b[39mH:\u001b[39m\u001b[39m%\u001b[39m\u001b[39mM:\u001b[39m\u001b[39m%\u001b[39m\u001b[39mS \u001b[39m\u001b[39m%\u001b[39m\u001b[39mY\u001b[39m\u001b[39m\"\u001b[39m):\n\u001b[0;32m    <a href='file:///d%3A/anaconda3/envs/ai23/lib/_strptime.py?line=565'>566</a>\u001b[0m     \u001b[39m\"\"\"Return a class cls instance based on the input string and the\u001b[39;00m\n\u001b[0;32m    <a href='file:///d%3A/anaconda3/envs/ai23/lib/_strptime.py?line=566'>567</a>\u001b[0m \u001b[39m    format string.\"\"\"\u001b[39;00m\n\u001b[1;32m--> <a href='file:///d%3A/anaconda3/envs/ai23/lib/_strptime.py?line=567'>568</a>\u001b[0m     tt, fraction, gmtoff_fraction \u001b[39m=\u001b[39m _strptime(data_string, \u001b[39mformat\u001b[39;49m)\n\u001b[0;32m    <a href='file:///d%3A/anaconda3/envs/ai23/lib/_strptime.py?line=568'>569</a>\u001b[0m     tzname, gmtoff \u001b[39m=\u001b[39m tt[\u001b[39m-\u001b[39m\u001b[39m2\u001b[39m:]\n\u001b[0;32m    <a href='file:///d%3A/anaconda3/envs/ai23/lib/_strptime.py?line=569'>570</a>\u001b[0m     args \u001b[39m=\u001b[39m tt[:\u001b[39m6\u001b[39m] \u001b[39m+\u001b[39m (fraction,)\n",
      "File \u001b[1;32md:\\anaconda3\\envs\\ai23\\lib\\_strptime.py:349\u001b[0m, in \u001b[0;36m_strptime\u001b[1;34m(data_string, format)\u001b[0m\n\u001b[0;32m    <a href='file:///d%3A/anaconda3/envs/ai23/lib/_strptime.py?line=346'>347</a>\u001b[0m found \u001b[39m=\u001b[39m format_regex\u001b[39m.\u001b[39mmatch(data_string)\n\u001b[0;32m    <a href='file:///d%3A/anaconda3/envs/ai23/lib/_strptime.py?line=347'>348</a>\u001b[0m \u001b[39mif\u001b[39;00m \u001b[39mnot\u001b[39;00m found:\n\u001b[1;32m--> <a href='file:///d%3A/anaconda3/envs/ai23/lib/_strptime.py?line=348'>349</a>\u001b[0m     \u001b[39mraise\u001b[39;00m \u001b[39mValueError\u001b[39;00m(\u001b[39m\"\u001b[39m\u001b[39mtime data \u001b[39m\u001b[39m%r\u001b[39;00m\u001b[39m does not match format \u001b[39m\u001b[39m%r\u001b[39;00m\u001b[39m\"\u001b[39m \u001b[39m%\u001b[39m\n\u001b[0;32m    <a href='file:///d%3A/anaconda3/envs/ai23/lib/_strptime.py?line=349'>350</a>\u001b[0m                      (data_string, \u001b[39mformat\u001b[39m))\n\u001b[0;32m    <a href='file:///d%3A/anaconda3/envs/ai23/lib/_strptime.py?line=350'>351</a>\u001b[0m \u001b[39mif\u001b[39;00m \u001b[39mlen\u001b[39m(data_string) \u001b[39m!=\u001b[39m found\u001b[39m.\u001b[39mend():\n\u001b[0;32m    <a href='file:///d%3A/anaconda3/envs/ai23/lib/_strptime.py?line=351'>352</a>\u001b[0m     \u001b[39mraise\u001b[39;00m \u001b[39mValueError\u001b[39;00m(\u001b[39m\"\u001b[39m\u001b[39munconverted data remains: \u001b[39m\u001b[39m%s\u001b[39;00m\u001b[39m\"\u001b[39m \u001b[39m%\u001b[39m\n\u001b[0;32m    <a href='file:///d%3A/anaconda3/envs/ai23/lib/_strptime.py?line=352'>353</a>\u001b[0m                       data_string[found\u001b[39m.\u001b[39mend():])\n",
      "\u001b[1;31mValueError\u001b[0m: time data 'date' does not match format '%Y-%m-%d %H:%M'"
     ]
    }
   ],
   "source": [
    "# replace date column with new date\n",
    "df.date = [datetime.strptime(date,'%Y-%m-%d %H:%M').strftime('%Y-%m-%d') for date in df.date]"
   ]
  },
  {
   "cell_type": "code",
   "execution_count": null,
   "metadata": {},
   "outputs": [
    {
     "data": {
      "text/html": [
       "<div>\n",
       "<style scoped>\n",
       "    .dataframe tbody tr th:only-of-type {\n",
       "        vertical-align: middle;\n",
       "    }\n",
       "\n",
       "    .dataframe tbody tr th {\n",
       "        vertical-align: top;\n",
       "    }\n",
       "\n",
       "    .dataframe thead th {\n",
       "        text-align: right;\n",
       "    }\n",
       "</style>\n",
       "<table border=\"1\" class=\"dataframe\">\n",
       "  <thead>\n",
       "    <tr style=\"text-align: right;\">\n",
       "      <th></th>\n",
       "      <th>item_id</th>\n",
       "      <th>date</th>\n",
       "      <th>category</th>\n",
       "      <th>title</th>\n",
       "      <th>content</th>\n",
       "      <th>sentiment</th>\n",
       "      <th>summary</th>\n",
       "      <th>top_key_freq</th>\n",
       "      <th>tokens</th>\n",
       "      <th>tokens_v2</th>\n",
       "      <th>entities</th>\n",
       "      <th>token_pos</th>\n",
       "      <th>link</th>\n",
       "      <th>photo_link</th>\n",
       "    </tr>\n",
       "  </thead>\n",
       "  <tbody>\n",
       "    <tr>\n",
       "      <th>0</th>\n",
       "      <td>aipl_20220314_1</td>\n",
       "      <td>2022-03-14</td>\n",
       "      <td>政治</td>\n",
       "      <td>外交部援烏物資已募4000箱 吳釗燮感謝捐贈民眾</td>\n",
       "      <td>民眾捐贈烏克蘭的愛心物資持續湧入外交部，截至今天傍晚累計已收到約4000箱，外交部長吳釗燮中...</td>\n",
       "      <td>0.01</td>\n",
       "      <td>['外交部除感謝熱心民眾踴躍捐贈援助烏克蘭人道物資外', '親赴外交部捐贈物資的民眾約173...</td>\n",
       "      <td>[('外交部', 14), ('民眾', 7), ('物資', 7), ('烏克蘭', 5)...</td>\n",
       "      <td>['民眾', '捐贈', '烏克蘭', '的', '愛心', '物資', '持續', '湧入...</td>\n",
       "      <td>['民眾', '烏克蘭', '愛心', '物資', '外交部', '收到', '外交部長',...</td>\n",
       "      <td>[NerToken(word='烏克蘭', ner='GPE', idx=(4, 7)), ...</td>\n",
       "      <td>[('民眾', 'Na'), ('捐贈', 'VD'), ('烏克蘭', 'Nc'), ('...</td>\n",
       "      <td>https://www.cna.com.tw/news/aipl/202203140364....</td>\n",
       "      <td>https://imgcdn.cna.com.tw/www/WebPhotos/200/20...</td>\n",
       "    </tr>\n",
       "    <tr>\n",
       "      <th>1</th>\n",
       "      <td>aipl_20220314_2</td>\n",
       "      <td>2022-03-14</td>\n",
       "      <td>政治</td>\n",
       "      <td>幻象飛官獲救 空軍：掌握跳傘時機做出好示範</td>\n",
       "      <td>空軍一架幻象戰機今天失事，飛行員成功跳傘獲救，外界關注跳傘時機點。空軍表示，此次跳傘高度於幻...</td>\n",
       "      <td>0.00</td>\n",
       "      <td>['幻象機的建議跳傘高度是2000呎', '由於此次幻象飛官成功彈射', '外界關注跳傘時機...</td>\n",
       "      <td>[('戰機', 11), ('彈射', 9), ('高度', 7), ('飛官', 7), ...</td>\n",
       "      <td>['空軍', '一', '架', '幻象', '戰機', '今天', '失事', '，', ...</td>\n",
       "      <td>['空軍', '幻象', '戰機', '飛行員', '跳傘', '獲救', '時機點', '...</td>\n",
       "      <td>[NerToken(word='今天', ner='DATE', idx=(8, 10)),...</td>\n",
       "      <td>[('空軍', 'Nc'), ('一', 'Neu'), ('架', 'Nf'), ('幻象...</td>\n",
       "      <td>https://www.cna.com.tw/news/aipl/202203140354....</td>\n",
       "      <td>NaN</td>\n",
       "    </tr>\n",
       "  </tbody>\n",
       "</table>\n",
       "</div>"
      ],
      "text/plain": [
       "           item_id        date category                     title  \\\n",
       "0  aipl_20220314_1  2022-03-14       政治  外交部援烏物資已募4000箱 吳釗燮感謝捐贈民眾   \n",
       "1  aipl_20220314_2  2022-03-14       政治     幻象飛官獲救 空軍：掌握跳傘時機做出好示範   \n",
       "\n",
       "                                             content  sentiment  \\\n",
       "0  民眾捐贈烏克蘭的愛心物資持續湧入外交部，截至今天傍晚累計已收到約4000箱，外交部長吳釗燮中...       0.01   \n",
       "1  空軍一架幻象戰機今天失事，飛行員成功跳傘獲救，外界關注跳傘時機點。空軍表示，此次跳傘高度於幻...       0.00   \n",
       "\n",
       "                                             summary  \\\n",
       "0  ['外交部除感謝熱心民眾踴躍捐贈援助烏克蘭人道物資外', '親赴外交部捐贈物資的民眾約173...   \n",
       "1  ['幻象機的建議跳傘高度是2000呎', '由於此次幻象飛官成功彈射', '外界關注跳傘時機...   \n",
       "\n",
       "                                        top_key_freq  \\\n",
       "0  [('外交部', 14), ('民眾', 7), ('物資', 7), ('烏克蘭', 5)...   \n",
       "1  [('戰機', 11), ('彈射', 9), ('高度', 7), ('飛官', 7), ...   \n",
       "\n",
       "                                              tokens  \\\n",
       "0  ['民眾', '捐贈', '烏克蘭', '的', '愛心', '物資', '持續', '湧入...   \n",
       "1  ['空軍', '一', '架', '幻象', '戰機', '今天', '失事', '，', ...   \n",
       "\n",
       "                                           tokens_v2  \\\n",
       "0  ['民眾', '烏克蘭', '愛心', '物資', '外交部', '收到', '外交部長',...   \n",
       "1  ['空軍', '幻象', '戰機', '飛行員', '跳傘', '獲救', '時機點', '...   \n",
       "\n",
       "                                            entities  \\\n",
       "0  [NerToken(word='烏克蘭', ner='GPE', idx=(4, 7)), ...   \n",
       "1  [NerToken(word='今天', ner='DATE', idx=(8, 10)),...   \n",
       "\n",
       "                                           token_pos  \\\n",
       "0  [('民眾', 'Na'), ('捐贈', 'VD'), ('烏克蘭', 'Nc'), ('...   \n",
       "1  [('空軍', 'Nc'), ('一', 'Neu'), ('架', 'Nf'), ('幻象...   \n",
       "\n",
       "                                                link  \\\n",
       "0  https://www.cna.com.tw/news/aipl/202203140364....   \n",
       "1  https://www.cna.com.tw/news/aipl/202203140354....   \n",
       "\n",
       "                                          photo_link  \n",
       "0  https://imgcdn.cna.com.tw/www/WebPhotos/200/20...  \n",
       "1                                                NaN  "
      ]
     },
     "execution_count": 12,
     "metadata": {},
     "output_type": "execute_result"
    }
   ],
   "source": [
    "df.head(2)"
   ]
  },
  {
   "cell_type": "code",
   "execution_count": null,
   "metadata": {},
   "outputs": [],
   "source": [
    "# Save the modified dataset for future usage\n",
    "df.to_csv(\"./cna_news_200_preprocessed.csv\",sep='|', index=False)"
   ]
  },
  {
   "cell_type": "markdown",
   "metadata": {},
   "source": [
    "# Step 0: Load preprocessed news dataset"
   ]
  },
  {
   "cell_type": "code",
   "execution_count": null,
   "metadata": {},
   "outputs": [],
   "source": [
    "import pandas as pd\n",
    "from datetime import datetime, timedelta"
   ]
  },
  {
   "cell_type": "code",
   "execution_count": null,
   "metadata": {},
   "outputs": [],
   "source": [
    "df = pd.read_csv('./cna_news_200_preprocessed.csv',sep='|')"
   ]
  },
  {
   "cell_type": "code",
   "execution_count": null,
   "metadata": {},
   "outputs": [
    {
     "data": {
      "text/html": [
       "<div>\n",
       "<style scoped>\n",
       "    .dataframe tbody tr th:only-of-type {\n",
       "        vertical-align: middle;\n",
       "    }\n",
       "\n",
       "    .dataframe tbody tr th {\n",
       "        vertical-align: top;\n",
       "    }\n",
       "\n",
       "    .dataframe thead th {\n",
       "        text-align: right;\n",
       "    }\n",
       "</style>\n",
       "<table border=\"1\" class=\"dataframe\">\n",
       "  <thead>\n",
       "    <tr style=\"text-align: right;\">\n",
       "      <th></th>\n",
       "      <th>item_id</th>\n",
       "      <th>date</th>\n",
       "      <th>category</th>\n",
       "      <th>title</th>\n",
       "      <th>content</th>\n",
       "      <th>sentiment</th>\n",
       "      <th>summary</th>\n",
       "      <th>top_key_freq</th>\n",
       "      <th>tokens</th>\n",
       "      <th>tokens_v2</th>\n",
       "      <th>entities</th>\n",
       "      <th>token_pos</th>\n",
       "      <th>link</th>\n",
       "      <th>photo_link</th>\n",
       "    </tr>\n",
       "  </thead>\n",
       "  <tbody>\n",
       "    <tr>\n",
       "      <th>0</th>\n",
       "      <td>aipl_20220314_1</td>\n",
       "      <td>2022-03-14</td>\n",
       "      <td>政治</td>\n",
       "      <td>外交部援烏物資已募4000箱 吳釗燮感謝捐贈民眾</td>\n",
       "      <td>民眾捐贈烏克蘭的愛心物資持續湧入外交部，截至今天傍晚累計已收到約4000箱，外交部長吳釗燮中...</td>\n",
       "      <td>0.01</td>\n",
       "      <td>['外交部除感謝熱心民眾踴躍捐贈援助烏克蘭人道物資外', '親赴外交部捐贈物資的民眾約173...</td>\n",
       "      <td>[('外交部', 14), ('民眾', 7), ('物資', 7), ('烏克蘭', 5)...</td>\n",
       "      <td>['民眾', '捐贈', '烏克蘭', '的', '愛心', '物資', '持續', '湧入...</td>\n",
       "      <td>['民眾', '烏克蘭', '愛心', '物資', '外交部', '收到', '外交部長',...</td>\n",
       "      <td>[NerToken(word='烏克蘭', ner='GPE', idx=(4, 7)), ...</td>\n",
       "      <td>[('民眾', 'Na'), ('捐贈', 'VD'), ('烏克蘭', 'Nc'), ('...</td>\n",
       "      <td>https://www.cna.com.tw/news/aipl/202203140364....</td>\n",
       "      <td>https://imgcdn.cna.com.tw/www/WebPhotos/200/20...</td>\n",
       "    </tr>\n",
       "  </tbody>\n",
       "</table>\n",
       "</div>"
      ],
      "text/plain": [
       "           item_id        date category                     title  \\\n",
       "0  aipl_20220314_1  2022-03-14       政治  外交部援烏物資已募4000箱 吳釗燮感謝捐贈民眾   \n",
       "\n",
       "                                             content  sentiment  \\\n",
       "0  民眾捐贈烏克蘭的愛心物資持續湧入外交部，截至今天傍晚累計已收到約4000箱，外交部長吳釗燮中...       0.01   \n",
       "\n",
       "                                             summary  \\\n",
       "0  ['外交部除感謝熱心民眾踴躍捐贈援助烏克蘭人道物資外', '親赴外交部捐贈物資的民眾約173...   \n",
       "\n",
       "                                        top_key_freq  \\\n",
       "0  [('外交部', 14), ('民眾', 7), ('物資', 7), ('烏克蘭', 5)...   \n",
       "\n",
       "                                              tokens  \\\n",
       "0  ['民眾', '捐贈', '烏克蘭', '的', '愛心', '物資', '持續', '湧入...   \n",
       "\n",
       "                                           tokens_v2  \\\n",
       "0  ['民眾', '烏克蘭', '愛心', '物資', '外交部', '收到', '外交部長',...   \n",
       "\n",
       "                                            entities  \\\n",
       "0  [NerToken(word='烏克蘭', ner='GPE', idx=(4, 7)), ...   \n",
       "\n",
       "                                           token_pos  \\\n",
       "0  [('民眾', 'Na'), ('捐贈', 'VD'), ('烏克蘭', 'Nc'), ('...   \n",
       "\n",
       "                                                link  \\\n",
       "0  https://www.cna.com.tw/news/aipl/202203140364....   \n",
       "\n",
       "                                          photo_link  \n",
       "0  https://imgcdn.cna.com.tw/www/WebPhotos/200/20...  "
      ]
     },
     "execution_count": 4,
     "metadata": {},
     "output_type": "execute_result"
    }
   ],
   "source": [
    "df.head(1)"
   ]
  },
  {
   "cell_type": "markdown",
   "metadata": {},
   "source": [
    "# Step 1: Select news with user input keywords, category, duration\n",
    "\n",
    "### (1)Filter data using token_v2"
   ]
  },
  {
   "cell_type": "code",
   "execution_count": null,
   "metadata": {},
   "outputs": [],
   "source": [
    "# Searching keywords from \"token_v2\" column\n",
    "def filter_dataFrame(user_keywords, cond, cate, weeks):\n",
    "\n",
    "    # end date: the date of the latest record of news\n",
    "    end_date = df.date.max()\n",
    "    \n",
    "    # start date\n",
    "    start_date = (datetime.strptime(end_date, '%Y-%m-%d').date() - timedelta(weeks=weeks)).strftime('%Y-%m-%d')\n",
    "\n",
    "    # proceed filtering\n",
    "    if (cate == \"全部\") & (cond == 'and'):\n",
    "        query_df = df[(df.date >= start_date) & (df.date <= end_date) \n",
    "            & df.tokens_v2.apply(lambda text: all((qk in text) for qk in user_keywords))]\n",
    "    elif (cate == \"全部\") & (cond == 'or'):\n",
    "        query_df = df[(df['date'] >= start_date) & (df['date'] <= end_date) \n",
    "            & df.tokens_v2.apply(lambda text: any((qk in text) for qk in user_keywords))]\n",
    "    elif (cond == 'and'):\n",
    "        query_df = df[(df.category == cate) \n",
    "            & (df.date >= start_date) & (df.date <= end_date) \n",
    "            & df.tokens_v2.apply(lambda text: all((qk in text) for qk in user_keywords))]\n",
    "    elif (cond == 'or'):\n",
    "        query_df = df[(df.category == cate) \n",
    "            & (df['date'] >= start_date) & (df['date'] <= end_date) \n",
    "            & df.tokens_v2.apply(lambda text: any((qk in text) for qk in user_keywords))]\n",
    "    return query_df"
   ]
  },
  {
   "cell_type": "markdown",
   "metadata": {},
   "source": [
    "### (2)Search keywords from \"content\" column"
   ]
  },
  {
   "cell_type": "code",
   "execution_count": null,
   "metadata": {},
   "outputs": [],
   "source": [
    "# Searching keywords from \"content\" column\n",
    "# Here this function uses df.content column, while filter_dataFrame() uses df.tokens_v2\n",
    "def filter_dataFrame_fullText(user_keywords, cond, cate, weeks):\n",
    "\n",
    "    # end date: the date of the latest record of news\n",
    "    end_date = df.date.max()\n",
    "    \n",
    "    # start date\n",
    "    start_date = (datetime.strptime(end_date, '%Y-%m-%d').date() - timedelta(weeks=weeks)).strftime('%Y-%m-%d')\n",
    "\n",
    "    # proceed filtering\n",
    "    if (cate == \"全部\") & (cond == 'and'):\n",
    "        df_query = df[(df.date >= start_date) & (df.date <= end_date) \n",
    "            & df.content.apply(lambda text: all((qk in text) for qk in user_keywords))]\n",
    "    elif (cate == \"全部\") & (cond == 'or'):\n",
    "        df_query = df[(df['date'] >= start_date) & (df['date'] <= end_date) \n",
    "            & df.content.apply(lambda text: any((qk in text) for qk in user_keywords))]\n",
    "    elif (cond == 'and'):\n",
    "        df_query = df[(df.category == cate) \n",
    "            & (df.date >= start_date) & (df.date <= end_date) \n",
    "            & df.content.apply(lambda text: all((qk in text) for qk in user_keywords))]\n",
    "    elif (cond == 'or'):\n",
    "        df_query = df[(df.category == cate) \n",
    "            & (df['date'] >= start_date) & (df['date'] <= end_date) \n",
    "            & df.content.apply(lambda text: any((qk in text) for qk in user_keywords))]\n",
    "\n",
    "    return df_query"
   ]
  },
  {
   "cell_type": "code",
   "execution_count": null,
   "metadata": {},
   "outputs": [
    {
     "data": {
      "text/plain": [
       "17"
      ]
     },
     "execution_count": 5,
     "metadata": {},
     "output_type": "execute_result"
    }
   ],
   "source": [
    "user_keywords=['烏克蘭','俄羅斯']\n",
    "cond='and'\n",
    "cate='全部'\n",
    "weeks=4\n",
    "df_query = filter_dataFrame(user_keywords, cond, cate, weeks)\n",
    "len(df_query)"
   ]
  },
  {
   "cell_type": "code",
   "execution_count": null,
   "metadata": {},
   "outputs": [
    {
     "data": {
      "text/plain": [
       "8"
      ]
     },
     "execution_count": 6,
     "metadata": {},
     "output_type": "execute_result"
    }
   ],
   "source": [
    "user_keywords=['烏克蘭','俄羅斯']\n",
    "cond='and'\n",
    "cate='國際'\n",
    "weeks=4\n",
    "df_query = filter_dataFrame(user_keywords, cond, cate, weeks)\n",
    "len(df_query)"
   ]
  },
  {
   "cell_type": "code",
   "execution_count": null,
   "metadata": {},
   "outputs": [
    {
     "data": {
      "text/plain": [
       "3"
      ]
     },
     "execution_count": 7,
     "metadata": {},
     "output_type": "execute_result"
    }
   ],
   "source": [
    "user_keywords=['烏克蘭','俄羅斯']\n",
    "cond='or'\n",
    "cate='政治'\n",
    "weeks=4\n",
    "df_query = filter_dataFrame(user_keywords, cond, cate, weeks)\n",
    "len(df_query)"
   ]
  },
  {
   "cell_type": "code",
   "execution_count": null,
   "metadata": {},
   "outputs": [
    {
     "data": {
      "text/html": [
       "<div>\n",
       "<style scoped>\n",
       "    .dataframe tbody tr th:only-of-type {\n",
       "        vertical-align: middle;\n",
       "    }\n",
       "\n",
       "    .dataframe tbody tr th {\n",
       "        vertical-align: top;\n",
       "    }\n",
       "\n",
       "    .dataframe thead th {\n",
       "        text-align: right;\n",
       "    }\n",
       "</style>\n",
       "<table border=\"1\" class=\"dataframe\">\n",
       "  <thead>\n",
       "    <tr style=\"text-align: right;\">\n",
       "      <th></th>\n",
       "      <th>item_id</th>\n",
       "      <th>date</th>\n",
       "      <th>category</th>\n",
       "      <th>title</th>\n",
       "      <th>content</th>\n",
       "      <th>sentiment</th>\n",
       "      <th>summary</th>\n",
       "      <th>top_key_freq</th>\n",
       "      <th>tokens</th>\n",
       "      <th>tokens_v2</th>\n",
       "      <th>entities</th>\n",
       "      <th>token_pos</th>\n",
       "      <th>link</th>\n",
       "      <th>photo_link</th>\n",
       "    </tr>\n",
       "  </thead>\n",
       "  <tbody>\n",
       "    <tr>\n",
       "      <th>0</th>\n",
       "      <td>aipl_20220314_1</td>\n",
       "      <td>2022-03-14</td>\n",
       "      <td>政治</td>\n",
       "      <td>外交部援烏物資已募4000箱 吳釗燮感謝捐贈民眾</td>\n",
       "      <td>民眾捐贈烏克蘭的愛心物資持續湧入外交部，截至今天傍晚累計已收到約4000箱，外交部長吳釗燮中...</td>\n",
       "      <td>0.01</td>\n",
       "      <td>['外交部除感謝熱心民眾踴躍捐贈援助烏克蘭人道物資外', '親赴外交部捐贈物資的民眾約173...</td>\n",
       "      <td>[('外交部', 14), ('民眾', 7), ('物資', 7), ('烏克蘭', 5)...</td>\n",
       "      <td>['民眾', '捐贈', '烏克蘭', '的', '愛心', '物資', '持續', '湧入...</td>\n",
       "      <td>['民眾', '烏克蘭', '愛心', '物資', '外交部', '收到', '外交部長',...</td>\n",
       "      <td>[NerToken(word='烏克蘭', ner='GPE', idx=(4, 7)), ...</td>\n",
       "      <td>[('民眾', 'Na'), ('捐贈', 'VD'), ('烏克蘭', 'Nc'), ('...</td>\n",
       "      <td>https://www.cna.com.tw/news/aipl/202203140364....</td>\n",
       "      <td>https://imgcdn.cna.com.tw/www/WebPhotos/200/20...</td>\n",
       "    </tr>\n",
       "  </tbody>\n",
       "</table>\n",
       "</div>"
      ],
      "text/plain": [
       "           item_id        date category                     title  \\\n",
       "0  aipl_20220314_1  2022-03-14       政治  外交部援烏物資已募4000箱 吳釗燮感謝捐贈民眾   \n",
       "\n",
       "                                             content  sentiment  \\\n",
       "0  民眾捐贈烏克蘭的愛心物資持續湧入外交部，截至今天傍晚累計已收到約4000箱，外交部長吳釗燮中...       0.01   \n",
       "\n",
       "                                             summary  \\\n",
       "0  ['外交部除感謝熱心民眾踴躍捐贈援助烏克蘭人道物資外', '親赴外交部捐贈物資的民眾約173...   \n",
       "\n",
       "                                        top_key_freq  \\\n",
       "0  [('外交部', 14), ('民眾', 7), ('物資', 7), ('烏克蘭', 5)...   \n",
       "\n",
       "                                              tokens  \\\n",
       "0  ['民眾', '捐贈', '烏克蘭', '的', '愛心', '物資', '持續', '湧入...   \n",
       "\n",
       "                                           tokens_v2  \\\n",
       "0  ['民眾', '烏克蘭', '愛心', '物資', '外交部', '收到', '外交部長',...   \n",
       "\n",
       "                                            entities  \\\n",
       "0  [NerToken(word='烏克蘭', ner='GPE', idx=(4, 7)), ...   \n",
       "\n",
       "                                           token_pos  \\\n",
       "0  [('民眾', 'Na'), ('捐贈', 'VD'), ('烏克蘭', 'Nc'), ('...   \n",
       "\n",
       "                                                link  \\\n",
       "0  https://www.cna.com.tw/news/aipl/202203140364....   \n",
       "\n",
       "                                          photo_link  \n",
       "0  https://imgcdn.cna.com.tw/www/WebPhotos/200/20...  "
      ]
     },
     "execution_count": 8,
     "metadata": {},
     "output_type": "execute_result"
    }
   ],
   "source": [
    "df_query.head(1)"
   ]
  },
  {
   "cell_type": "code",
   "execution_count": null,
   "metadata": {},
   "outputs": [],
   "source": []
  },
  {
   "cell_type": "markdown",
   "metadata": {},
   "source": [
    "# Step 2: calculate frequency and occurence"
   ]
  },
  {
   "cell_type": "code",
   "execution_count": null,
   "metadata": {},
   "outputs": [],
   "source": [
    "# For the query_df, count the occurence and frequency for each category.\n",
    "\n",
    "# (1) cate_occurence={}  被多少篇新聞報導 How many pieces of news contain the keywords.\n",
    "# (2) cate_freq={}       被提到多少次? How many times are the keywords mentioned\n",
    "\n",
    "\n",
    "news_categories = ['政治', '科技', '運動', '證卷', '產經', '娛樂', '生活', '國際', '社會', '文化', '兩岸', '全部']\n",
    "\n",
    "def count_keyword(query_df, user_keywords):\n",
    "    cate_occurence={}\n",
    "    cate_freq={}\n",
    "\n",
    "    for cate in news_categories:\n",
    "        cate_occurence[cate]=0\n",
    "        cate_freq[cate]=0\n",
    "\n",
    "    for idx, row in query_df.iterrows():\n",
    "        # count number of news\n",
    "        cate_occurence[row.category] += 1\n",
    "        cate_occurence['全部'] += 1\n",
    "        \n",
    "        # count user keyword frequency by checking every word in tokens_v2\n",
    "        tokens = eval(row.tokens_v2)\n",
    "        freq =  len([word for word in tokens if (word in user_keywords)])\n",
    "        cate_freq[row.category] += freq\n",
    "        cate_freq['全部'] += freq\n",
    "        \n",
    "    return cate_freq, cate_occurence"
   ]
  },
  {
   "cell_type": "code",
   "execution_count": null,
   "metadata": {},
   "outputs": [
    {
     "data": {
      "text/plain": [
       "({'政治': 13,\n",
       "  '科技': 21,\n",
       "  '運動': 3,\n",
       "  '證卷': 2,\n",
       "  '產經': 15,\n",
       "  '娛樂': 4,\n",
       "  '生活': 0,\n",
       "  '國際': 46,\n",
       "  '社會': 0,\n",
       "  '文化': 14,\n",
       "  '兩岸': 24,\n",
       "  '全部': 142},\n",
       " {'政治': 3,\n",
       "  '科技': 2,\n",
       "  '運動': 1,\n",
       "  '證卷': 2,\n",
       "  '產經': 3,\n",
       "  '娛樂': 2,\n",
       "  '生活': 0,\n",
       "  '國際': 8,\n",
       "  '社會': 0,\n",
       "  '文化': 3,\n",
       "  '兩岸': 2,\n",
       "  '全部': 26})"
      ]
     },
     "execution_count": 10,
     "metadata": {},
     "output_type": "execute_result"
    }
   ],
   "source": [
    "user_keywords=['烏克蘭','俄羅斯']\n",
    "cond='or'\n",
    "cate='全部'\n",
    "weeks=4\n",
    "# Step 1 fitering data\n",
    "df_query = filter_dataFrame(user_keywords, cond, cate, weeks)\n",
    "len(df_query)\n",
    "\n",
    "# Step 2: calculating frequency and occurence\n",
    "count_keyword(df_query, user_keywords)"
   ]
  },
  {
   "cell_type": "markdown",
   "metadata": {
    "_cell_guid": "f338bfd0-8985-6edf-95c0-ac529ce73d69"
   },
   "source": [
    "# Demonstrate step by step\n",
    "\n",
    "How many news are related to \"烏克蘭\" ?\n",
    "\n",
    "    How many pieces of news mentioned \"烏克蘭\"\n",
    "    How many pieces of news are related to \"烏克蘭\"?\n",
    "\n",
    "    You can calculate and get the answer from the following fields: tokens, tokens_v2, or content. (Get very similar results)\n",
    "\n",
    "    We use \"tokens_v2\" because it contains only some important keywords which were selected in the pre-process step.\n",
    "\n",
    "    \n",
    "A flexible appraoch for And OR condiction\n",
    "\n",
    "        User all()  any()\n",
    "        df = pd.DataFrame({'col': [\"apple is delicious\",\n",
    "                                \"banana is delicious\",\n",
    "                                \"apple and banana both are delicious\"]})\n",
    "\n",
    "        targets = ['apple', 'banana']\n",
    "\n",
    "        # Any word from `targets` are present in sentence.\n",
    "        >>> df.col.apply(lambda sentence: any(word in sentence for word in targets))\n",
    "        0    True\n",
    "        1    True\n",
    "        2    True\n",
    "        Name: col, dtype: bool\n",
    "\n",
    "        # All words from `targets` are present in sentence.\n",
    "        >>> df.col.apply(lambda sentence: all(word in sentence for word in targets))\n",
    "        0    False\n",
    "        1    False\n",
    "        2     True\n",
    "        Name: col, dtype: bool"
   ]
  },
  {
   "cell_type": "code",
   "execution_count": null,
   "metadata": {},
   "outputs": [],
   "source": []
  },
  {
   "cell_type": "markdown",
   "metadata": {},
   "source": [
    "## and &, or | "
   ]
  },
  {
   "cell_type": "code",
   "execution_count": null,
   "metadata": {},
   "outputs": [
    {
     "data": {
      "text/plain": [
       "True"
      ]
     },
     "execution_count": 11,
     "metadata": {},
     "output_type": "execute_result"
    }
   ],
   "source": [
    "True & True"
   ]
  },
  {
   "cell_type": "code",
   "execution_count": null,
   "metadata": {},
   "outputs": [
    {
     "data": {
      "text/plain": [
       "False"
      ]
     },
     "execution_count": 12,
     "metadata": {},
     "output_type": "execute_result"
    }
   ],
   "source": [
    "True & False"
   ]
  },
  {
   "cell_type": "code",
   "execution_count": null,
   "metadata": {},
   "outputs": [
    {
     "data": {
      "text/plain": [
       "True"
      ]
     },
     "execution_count": 13,
     "metadata": {},
     "output_type": "execute_result"
    }
   ],
   "source": [
    "True | True"
   ]
  },
  {
   "cell_type": "code",
   "execution_count": null,
   "metadata": {},
   "outputs": [
    {
     "data": {
      "text/plain": [
       "True"
      ]
     },
     "execution_count": 14,
     "metadata": {},
     "output_type": "execute_result"
    }
   ],
   "source": [
    "True | False"
   ]
  },
  {
   "cell_type": "markdown",
   "metadata": {},
   "source": [
    "## \"in\" is very powerful in Python!"
   ]
  },
  {
   "cell_type": "markdown",
   "metadata": {},
   "source": [
    "#### in a string"
   ]
  },
  {
   "cell_type": "code",
   "execution_count": null,
   "metadata": {},
   "outputs": [],
   "source": [
    "text = '武漢烏克蘭疫情全球延燒，國防部2月針對29個疫情高風險國家地區勸阻官兵前往（包括過境）。'"
   ]
  },
  {
   "cell_type": "code",
   "execution_count": null,
   "metadata": {},
   "outputs": [
    {
     "data": {
      "text/plain": [
       "False"
      ]
     },
     "execution_count": 16,
     "metadata": {},
     "output_type": "execute_result"
    }
   ],
   "source": [
    "'台灣' in text"
   ]
  },
  {
   "cell_type": "code",
   "execution_count": null,
   "metadata": {},
   "outputs": [
    {
     "data": {
      "text/plain": [
       "True"
      ]
     },
     "execution_count": 17,
     "metadata": {},
     "output_type": "execute_result"
    }
   ],
   "source": [
    "'烏克蘭' in text"
   ]
  },
  {
   "cell_type": "code",
   "execution_count": null,
   "metadata": {
    "scrolled": true
   },
   "outputs": [
    {
     "data": {
      "text/plain": [
       "False"
      ]
     },
     "execution_count": 18,
     "metadata": {},
     "output_type": "execute_result"
    }
   ],
   "source": [
    "# & and\n",
    "('台灣' in text)  & ('烏克蘭' in text)"
   ]
  },
  {
   "cell_type": "code",
   "execution_count": null,
   "metadata": {
    "scrolled": true
   },
   "outputs": [
    {
     "data": {
      "text/plain": [
       "False"
      ]
     },
     "execution_count": 19,
     "metadata": {},
     "output_type": "execute_result"
    }
   ],
   "source": [
    "# & and\n",
    "('台灣' in text) and ('烏克蘭' in text)"
   ]
  },
  {
   "cell_type": "code",
   "execution_count": null,
   "metadata": {},
   "outputs": [
    {
     "data": {
      "text/plain": [
       "True"
      ]
     },
     "execution_count": 20,
     "metadata": {},
     "output_type": "execute_result"
    }
   ],
   "source": [
    "('台灣' in text)  | ('烏克蘭' in text)"
   ]
  },
  {
   "cell_type": "code",
   "execution_count": null,
   "metadata": {},
   "outputs": [
    {
     "data": {
      "text/plain": [
       "True"
      ]
     },
     "execution_count": 21,
     "metadata": {},
     "output_type": "execute_result"
    }
   ],
   "source": [
    "('台灣' in text)  or ('烏克蘭' in text)"
   ]
  },
  {
   "cell_type": "code",
   "execution_count": null,
   "metadata": {},
   "outputs": [],
   "source": [
    "# This is also a string.\n",
    "text = \"['武漢', '烏克蘭', '疫情', '全球', '延燒', '國防部', '疫情', '高風險', '國家', '地區', '官兵', '過境', '國防部', '政策', '全球', '國家', '地區', '轄下', '單位']\""
   ]
  },
  {
   "cell_type": "code",
   "execution_count": null,
   "metadata": {},
   "outputs": [
    {
     "data": {
      "text/plain": [
       "True"
      ]
     },
     "execution_count": 23,
     "metadata": {},
     "output_type": "execute_result"
    }
   ],
   "source": [
    "'烏克蘭' in text"
   ]
  },
  {
   "cell_type": "code",
   "execution_count": null,
   "metadata": {},
   "outputs": [
    {
     "data": {
      "text/plain": [
       "False"
      ]
     },
     "execution_count": 24,
     "metadata": {},
     "output_type": "execute_result"
    }
   ],
   "source": [
    "'台灣' in text"
   ]
  },
  {
   "cell_type": "code",
   "execution_count": null,
   "metadata": {
    "scrolled": true
   },
   "outputs": [
    {
     "data": {
      "text/plain": [
       "False"
      ]
     },
     "execution_count": 25,
     "metadata": {},
     "output_type": "execute_result"
    }
   ],
   "source": [
    "('台灣' in text)  & ('烏克蘭' in text)"
   ]
  },
  {
   "cell_type": "code",
   "execution_count": null,
   "metadata": {},
   "outputs": [
    {
     "data": {
      "text/plain": [
       "True"
      ]
     },
     "execution_count": 26,
     "metadata": {},
     "output_type": "execute_result"
    }
   ],
   "source": [
    "('台灣' in text)  | ('烏克蘭' in text)"
   ]
  },
  {
   "cell_type": "markdown",
   "metadata": {},
   "source": [
    "#### in a list"
   ]
  },
  {
   "cell_type": "code",
   "execution_count": null,
   "metadata": {},
   "outputs": [
    {
     "data": {
      "text/plain": [
       "True"
      ]
     },
     "execution_count": 27,
     "metadata": {},
     "output_type": "execute_result"
    }
   ],
   "source": [
    "user_keyword=['烏克蘭','台灣']\n",
    "'烏克蘭' in user_keyword"
   ]
  },
  {
   "cell_type": "code",
   "execution_count": null,
   "metadata": {},
   "outputs": [],
   "source": []
  },
  {
   "cell_type": "code",
   "execution_count": null,
   "metadata": {},
   "outputs": [
    {
     "data": {
      "text/plain": [
       "'民眾捐贈烏克蘭的愛心物資持續湧入外交部，截至今天傍晚累計已收到約4000箱，外交部長吳釗燮中午親自到現場為協助整理物資的志工加油，並對捐贈民眾表達感謝。外交部晚間發布新聞稿指出，外交部從7日開始向民間募集捐贈烏克蘭難民的物資，獲得熱烈響應，親赴外交部捐贈物資的民眾約1730人，加上郵寄包裹，目前約已收到4000箱物資，品項以醫療口罩、毛毯、女性衛生用品、尿片、餅乾等為主，募集活動將持續到18日。外交部表示，為了感謝捐贈民眾，與在現場辛苦分類整理的志工、外交部人員，吳釗燮今天中午特別前往外交部西側門地下停車場視察，吳釗燮與在場的慈濟等民間慈善組織志工，以及其他自發到場幫忙的善心人士親切互動，對於也有烏克蘭旅台人士自願擔任義工在現場協助，吳釗燮特別致意慰問。根據外交部提供的照片，到場幫忙的烏克蘭志工是極為關心家鄉情勢的網紅佳娜。外交部再度提醒有意捐贈物資的民眾，捐贈物品請依照外交部網站所公布的清單為限，切勿捐贈或郵寄二手物品或衣物。送到外交部的捐贈物品務必為全新物品、未拆封包裝、有效期至少6個月以上，以免造成整理及後續轉運捐贈的困擾。募集截止時間是3月18日下午5時以前，民眾可以用面送或郵寄清單所列的20類物品及 14 類藥品至外交部。外交部除感謝熱心民眾踴躍捐贈援助烏克蘭人道物資外，也感謝許多志工義務幫忙、貢獻己力。外交部對各界人士奉獻時間與精神投入國際人道援助，表達最高的敬意。'"
      ]
     },
     "execution_count": 28,
     "metadata": {},
     "output_type": "execute_result"
    }
   ],
   "source": [
    "# Check out the first news\n",
    "df.content[0]"
   ]
  },
  {
   "cell_type": "code",
   "execution_count": null,
   "metadata": {},
   "outputs": [
    {
     "data": {
      "text/plain": [
       "True"
      ]
     },
     "execution_count": 29,
     "metadata": {},
     "output_type": "execute_result"
    }
   ],
   "source": [
    "qk = '烏克蘭'\n",
    "text = df.content[0]\n",
    "qk in text"
   ]
  },
  {
   "cell_type": "code",
   "execution_count": null,
   "metadata": {},
   "outputs": [
    {
     "data": {
      "text/plain": [
       "True"
      ]
     },
     "execution_count": 30,
     "metadata": {},
     "output_type": "execute_result"
    }
   ],
   "source": [
    "qk = '外交部'\n",
    "text = df.content[0]\n",
    "qk in text"
   ]
  },
  {
   "cell_type": "code",
   "execution_count": null,
   "metadata": {},
   "outputs": [
    {
     "data": {
      "text/plain": [
       "False"
      ]
     },
     "execution_count": 31,
     "metadata": {},
     "output_type": "execute_result"
    }
   ],
   "source": [
    "qk = '台灣'\n",
    "text = df.content[0]\n",
    "qk in text"
   ]
  },
  {
   "cell_type": "code",
   "execution_count": null,
   "metadata": {},
   "outputs": [
    {
     "data": {
      "text/plain": [
       "True"
      ]
     },
     "execution_count": 32,
     "metadata": {},
     "output_type": "execute_result"
    }
   ],
   "source": [
    "text = df.content[0]\n",
    "('烏克蘭' in text) & ('外交部' in text )"
   ]
  },
  {
   "cell_type": "markdown",
   "metadata": {},
   "source": [
    "### Another \"in\" in Python. It is used for \"for\" loop."
   ]
  },
  {
   "cell_type": "code",
   "execution_count": null,
   "metadata": {},
   "outputs": [
    {
     "data": {
      "text/plain": [
       "[True, True]"
      ]
     },
     "execution_count": 33,
     "metadata": {},
     "output_type": "execute_result"
    }
   ],
   "source": [
    "user_keywords = ['烏克蘭','外交部']\n",
    "text = df.content[0]\n",
    "[(qk in text) for qk in user_keywords]"
   ]
  },
  {
   "cell_type": "code",
   "execution_count": null,
   "metadata": {},
   "outputs": [
    {
     "data": {
      "text/plain": [
       "[True, False]"
      ]
     },
     "execution_count": 34,
     "metadata": {},
     "output_type": "execute_result"
    }
   ],
   "source": [
    "user_keywords = ['烏克蘭','台灣']\n",
    "text = df.content[0]\n",
    "[(qk in text) for qk in user_keywords]"
   ]
  },
  {
   "cell_type": "code",
   "execution_count": null,
   "metadata": {},
   "outputs": [],
   "source": []
  },
  {
   "cell_type": "markdown",
   "metadata": {},
   "source": [
    "### all() any() \n",
    "\n",
    "    How to perform logical opertion with several conditions? 如何針對很多項去做邏輯運算?\n",
    "\n",
    "    all(): perform \"and\" logical opertion \n",
    "    any(): perform \"or\" logical opertion"
   ]
  },
  {
   "cell_type": "code",
   "execution_count": null,
   "metadata": {},
   "outputs": [
    {
     "data": {
      "text/plain": [
       "True"
      ]
     },
     "execution_count": 35,
     "metadata": {},
     "output_type": "execute_result"
    }
   ],
   "source": [
    "all( [True, True] )"
   ]
  },
  {
   "cell_type": "code",
   "execution_count": null,
   "metadata": {},
   "outputs": [
    {
     "data": {
      "text/plain": [
       "True"
      ]
     },
     "execution_count": 36,
     "metadata": {},
     "output_type": "execute_result"
    }
   ],
   "source": [
    "any( [True, True] )"
   ]
  },
  {
   "cell_type": "code",
   "execution_count": null,
   "metadata": {},
   "outputs": [
    {
     "data": {
      "text/plain": [
       "False"
      ]
     },
     "execution_count": 37,
     "metadata": {},
     "output_type": "execute_result"
    }
   ],
   "source": [
    "all( [True, False] )"
   ]
  },
  {
   "cell_type": "code",
   "execution_count": null,
   "metadata": {},
   "outputs": [
    {
     "data": {
      "text/plain": [
       "True"
      ]
     },
     "execution_count": 38,
     "metadata": {},
     "output_type": "execute_result"
    }
   ],
   "source": [
    "any( [True, False] )"
   ]
  },
  {
   "cell_type": "code",
   "execution_count": null,
   "metadata": {},
   "outputs": [],
   "source": []
  },
  {
   "cell_type": "code",
   "execution_count": null,
   "metadata": {},
   "outputs": [
    {
     "data": {
      "text/plain": [
       "['烏克蘭', '國防部']"
      ]
     },
     "execution_count": 39,
     "metadata": {},
     "output_type": "execute_result"
    }
   ],
   "source": [
    "user_keywords = ['烏克蘭','國防部']\n",
    "[word for word in user_keywords]"
   ]
  },
  {
   "cell_type": "code",
   "execution_count": null,
   "metadata": {},
   "outputs": [
    {
     "data": {
      "text/plain": [
       "[True, True]"
      ]
     },
     "execution_count": 40,
     "metadata": {},
     "output_type": "execute_result"
    }
   ],
   "source": [
    "user_keywords=['烏克蘭','國防部']\n",
    "text = '武漢烏克蘭疫情全球延燒，國防部2月針對29個疫情高風險國家地區勸阻官兵前往（包括過境）。'\n",
    "[(word in text) for word in user_keywords]"
   ]
  },
  {
   "cell_type": "code",
   "execution_count": null,
   "metadata": {},
   "outputs": [
    {
     "data": {
      "text/plain": [
       "[True, True]"
      ]
     },
     "execution_count": 41,
     "metadata": {},
     "output_type": "execute_result"
    }
   ],
   "source": [
    "user_keywords=['烏克蘭','國防部']\n",
    "text = '武漢烏克蘭疫情全球延燒，國防部2月針對29個疫情高風險國家地區勸阻官兵前往（包括過境）。'\n",
    "[word in text for word in user_keywords] # () can be removed"
   ]
  },
  {
   "cell_type": "code",
   "execution_count": null,
   "metadata": {},
   "outputs": [
    {
     "data": {
      "text/plain": [
       "True"
      ]
     },
     "execution_count": 42,
     "metadata": {},
     "output_type": "execute_result"
    }
   ],
   "source": [
    "user_keywords=['烏克蘭','國防部']\n",
    "text = '武漢烏克蘭疫情全球延燒，國防部2月針對29個疫情高風險國家地區勸阻官兵前往（包括過境）。'\n",
    "all([word in text for word in user_keywords])"
   ]
  },
  {
   "cell_type": "code",
   "execution_count": null,
   "metadata": {},
   "outputs": [
    {
     "data": {
      "text/plain": [
       "True"
      ]
     },
     "execution_count": 43,
     "metadata": {},
     "output_type": "execute_result"
    }
   ],
   "source": [
    "user_keywords=['烏克蘭','國防部']\n",
    "text = '武漢烏克蘭疫情全球延燒，國防部2月針對29個疫情高風險國家地區勸阻官兵前往（包括過境）。'\n",
    "all(word in text for word in user_keywords) # square brackets [] can be removed"
   ]
  },
  {
   "cell_type": "code",
   "execution_count": null,
   "metadata": {},
   "outputs": [],
   "source": []
  },
  {
   "cell_type": "code",
   "execution_count": null,
   "metadata": {},
   "outputs": [
    {
     "name": "stdout",
     "output_type": "stream",
     "text": [
      "[True, True]\n"
     ]
    },
    {
     "data": {
      "text/plain": [
       "True"
      ]
     },
     "execution_count": 44,
     "metadata": {},
     "output_type": "execute_result"
    }
   ],
   "source": [
    "# Check out the first news\n",
    "user_keywords = ['烏克蘭','外交部']\n",
    "text = df.content[0]\n",
    "print([(qk in text) for qk in user_keywords])\n",
    "all((qk in text) for qk in user_keywords)"
   ]
  },
  {
   "cell_type": "code",
   "execution_count": null,
   "metadata": {},
   "outputs": [
    {
     "data": {
      "text/plain": [
       "True"
      ]
     },
     "execution_count": 45,
     "metadata": {},
     "output_type": "execute_result"
    }
   ],
   "source": [
    "user_keywords = ['烏克蘭','外交部']\n",
    "text = df.content[0]\n",
    "any((qk in text) for qk in user_keywords)"
   ]
  },
  {
   "cell_type": "code",
   "execution_count": null,
   "metadata": {},
   "outputs": [
    {
     "data": {
      "text/plain": [
       "[True, False]"
      ]
     },
     "execution_count": 46,
     "metadata": {},
     "output_type": "execute_result"
    }
   ],
   "source": [
    "user_keywords = ['烏克蘭','台灣']\n",
    "text = df.content[0]\n",
    "[(qk in text) for qk in user_keywords]"
   ]
  },
  {
   "cell_type": "code",
   "execution_count": null,
   "metadata": {},
   "outputs": [
    {
     "data": {
      "text/plain": [
       "False"
      ]
     },
     "execution_count": 47,
     "metadata": {},
     "output_type": "execute_result"
    }
   ],
   "source": [
    "user_keywords = ['烏克蘭','台灣']\n",
    "text = df.content[0]\n",
    "all((qk in text) for qk in user_keywords)"
   ]
  },
  {
   "cell_type": "code",
   "execution_count": null,
   "metadata": {},
   "outputs": [
    {
     "data": {
      "text/plain": [
       "True"
      ]
     },
     "execution_count": 48,
     "metadata": {},
     "output_type": "execute_result"
    }
   ],
   "source": [
    "user_keywords = ['烏克蘭','台灣']\n",
    "text = df.content[0]\n",
    "any((qk in text) for qk in user_keywords)"
   ]
  },
  {
   "cell_type": "markdown",
   "metadata": {},
   "source": [
    "## Using apply() and lambda function\n",
    "\n",
    "How to check out keyword occurency for every news?"
   ]
  },
  {
   "cell_type": "code",
   "execution_count": null,
   "metadata": {},
   "outputs": [
    {
     "data": {
      "text/plain": [
       "0       True\n",
       "1      False\n",
       "2      False\n",
       "3      False\n",
       "4      False\n",
       "       ...  \n",
       "208    False\n",
       "209    False\n",
       "210    False\n",
       "211    False\n",
       "212    False\n",
       "Name: content, Length: 213, dtype: bool"
      ]
     },
     "execution_count": 49,
     "metadata": {},
     "output_type": "execute_result"
    }
   ],
   "source": [
    "# Use apply() and lambda function\n",
    "user_keywords = ['烏克蘭','外交部']\n",
    "df.content.apply(lambda text: all([(qk in text) for qk in user_keywords]))"
   ]
  },
  {
   "cell_type": "code",
   "execution_count": null,
   "metadata": {},
   "outputs": [],
   "source": [
    "user_keywords = ['烏克蘭','外交部']"
   ]
  },
  {
   "cell_type": "code",
   "execution_count": null,
   "metadata": {},
   "outputs": [
    {
     "data": {
      "text/plain": [
       "['烏克蘭', '外交部']"
      ]
     },
     "execution_count": 51,
     "metadata": {},
     "output_type": "execute_result"
    }
   ],
   "source": [
    "[qk for qk in user_keywords]"
   ]
  },
  {
   "cell_type": "code",
   "execution_count": null,
   "metadata": {},
   "outputs": [
    {
     "data": {
      "text/plain": [
       "[True, True]"
      ]
     },
     "execution_count": 52,
     "metadata": {},
     "output_type": "execute_result"
    }
   ],
   "source": [
    "[(qk in text) for qk in user_keywords]"
   ]
  },
  {
   "cell_type": "code",
   "execution_count": null,
   "metadata": {},
   "outputs": [
    {
     "data": {
      "text/plain": [
       "True"
      ]
     },
     "execution_count": 53,
     "metadata": {},
     "output_type": "execute_result"
    }
   ],
   "source": [
    "# \n",
    "all([(qk in text) for qk in user_keywords])"
   ]
  },
  {
   "cell_type": "code",
   "execution_count": null,
   "metadata": {},
   "outputs": [
    {
     "data": {
      "text/plain": [
       "True"
      ]
     },
     "execution_count": 54,
     "metadata": {},
     "output_type": "execute_result"
    }
   ],
   "source": [
    "# Square brackets can be removed\n",
    "all((qk in text) for qk in user_keywords)"
   ]
  },
  {
   "cell_type": "code",
   "execution_count": null,
   "metadata": {},
   "outputs": [
    {
     "data": {
      "text/plain": [
       "7"
      ]
     },
     "execution_count": 55,
     "metadata": {},
     "output_type": "execute_result"
    }
   ],
   "source": [
    "len(df[df.tokens_v2.apply(lambda text: all([word in text for word in user_keyword]))])"
   ]
  },
  {
   "cell_type": "markdown",
   "metadata": {},
   "source": [
    "### lambda: how does it work?\n",
    "lambda is a function with only one line"
   ]
  },
  {
   "cell_type": "code",
   "execution_count": null,
   "metadata": {},
   "outputs": [],
   "source": [
    "func = lambda x: x+5"
   ]
  },
  {
   "cell_type": "code",
   "execution_count": null,
   "metadata": {},
   "outputs": [
    {
     "data": {
      "text/plain": [
       "7"
      ]
     },
     "execution_count": 57,
     "metadata": {},
     "output_type": "execute_result"
    }
   ],
   "source": [
    "func(2)"
   ]
  },
  {
   "cell_type": "code",
   "execution_count": null,
   "metadata": {},
   "outputs": [],
   "source": [
    "numbers=[1,2,3]"
   ]
  },
  {
   "cell_type": "code",
   "execution_count": null,
   "metadata": {},
   "outputs": [
    {
     "data": {
      "text/plain": [
       "[6, 7, 8]"
      ]
     },
     "execution_count": 59,
     "metadata": {},
     "output_type": "execute_result"
    }
   ],
   "source": [
    "[func(x) for x in numbers]"
   ]
  },
  {
   "cell_type": "code",
   "execution_count": null,
   "metadata": {},
   "outputs": [],
   "source": []
  },
  {
   "cell_type": "code",
   "execution_count": null,
   "metadata": {},
   "outputs": [
    {
     "data": {
      "text/plain": [
       "[6, 7, 8]"
      ]
     },
     "execution_count": 60,
     "metadata": {},
     "output_type": "execute_result"
    }
   ],
   "source": [
    "numbers=[1,2,3]\n",
    "list(map(func, numbers))"
   ]
  },
  {
   "cell_type": "code",
   "execution_count": null,
   "metadata": {},
   "outputs": [
    {
     "data": {
      "text/plain": [
       "[6, 7, 8]"
      ]
     },
     "execution_count": 61,
     "metadata": {},
     "output_type": "execute_result"
    }
   ],
   "source": [
    "numbers=[1,2,3]\n",
    "list(map(lambda x: x+5, numbers))"
   ]
  },
  {
   "cell_type": "code",
   "execution_count": null,
   "metadata": {},
   "outputs": [],
   "source": []
  },
  {
   "cell_type": "markdown",
   "metadata": {},
   "source": [
    "### How to use pandas apply()?"
   ]
  },
  {
   "cell_type": "code",
   "execution_count": null,
   "metadata": {},
   "outputs": [],
   "source": [
    "df_test = pd.DataFrame([1,2,3], columns=['number'])"
   ]
  },
  {
   "cell_type": "code",
   "execution_count": null,
   "metadata": {},
   "outputs": [
    {
     "data": {
      "text/html": [
       "<div>\n",
       "<style scoped>\n",
       "    .dataframe tbody tr th:only-of-type {\n",
       "        vertical-align: middle;\n",
       "    }\n",
       "\n",
       "    .dataframe tbody tr th {\n",
       "        vertical-align: top;\n",
       "    }\n",
       "\n",
       "    .dataframe thead th {\n",
       "        text-align: right;\n",
       "    }\n",
       "</style>\n",
       "<table border=\"1\" class=\"dataframe\">\n",
       "  <thead>\n",
       "    <tr style=\"text-align: right;\">\n",
       "      <th></th>\n",
       "      <th>number</th>\n",
       "    </tr>\n",
       "  </thead>\n",
       "  <tbody>\n",
       "    <tr>\n",
       "      <th>0</th>\n",
       "      <td>1</td>\n",
       "    </tr>\n",
       "    <tr>\n",
       "      <th>1</th>\n",
       "      <td>2</td>\n",
       "    </tr>\n",
       "    <tr>\n",
       "      <th>2</th>\n",
       "      <td>3</td>\n",
       "    </tr>\n",
       "  </tbody>\n",
       "</table>\n",
       "</div>"
      ],
      "text/plain": [
       "   number\n",
       "0       1\n",
       "1       2\n",
       "2       3"
      ]
     },
     "execution_count": 63,
     "metadata": {},
     "output_type": "execute_result"
    }
   ],
   "source": [
    "df_test"
   ]
  },
  {
   "cell_type": "code",
   "execution_count": null,
   "metadata": {},
   "outputs": [
    {
     "data": {
      "text/plain": [
       "0    6\n",
       "1    7\n",
       "2    8\n",
       "Name: number, dtype: int64"
      ]
     },
     "execution_count": 64,
     "metadata": {},
     "output_type": "execute_result"
    }
   ],
   "source": [
    "df_test.number.apply(lambda x: x+5) # add 5 for each element in df_test.number"
   ]
  },
  {
   "cell_type": "code",
   "execution_count": null,
   "metadata": {},
   "outputs": [],
   "source": []
  },
  {
   "cell_type": "markdown",
   "metadata": {},
   "source": [
    "# Function of fitering news\n",
    "\n",
    "Put them all togather!"
   ]
  },
  {
   "cell_type": "code",
   "execution_count": null,
   "metadata": {},
   "outputs": [],
   "source": [
    "def filter_dataFrame(user_keywords, cond, cate, weeks):\n",
    "\n",
    "    # end date: the date of the latest record of news\n",
    "    end_date = df.date.max()\n",
    "    \n",
    "    # start date\n",
    "    start_date = (datetime.strptime(end_date, '%Y-%m-%d').date() - timedelta(weeks=weeks)).strftime('%Y-%m-%d')\n",
    "\n",
    "    # proceed filtering\n",
    "    if (cate == \"全部\") & (cond == 'and'):\n",
    "        query_df = df[(df.date >= start_date) & (df.date <= end_date) \n",
    "            & df.tokens_v2.apply(lambda text: all((qk in text) for qk in user_keywords))]\n",
    "    elif (cate == \"全部\") & (cond == 'or'):\n",
    "        query_df = df[(df['date'] >= start_date) & (df['date'] <= end_date) \n",
    "            & df.tokens_v2.apply(lambda text: any((qk in text) for qk in user_keywords))]\n",
    "    elif (cond == 'and'):\n",
    "        query_df = df[(df.category == cate) \n",
    "            & (df.date >= start_date) & (df.date <= end_date) \n",
    "            & df.tokens_v2.apply(lambda text: all((qk in text) for qk in user_keywords))]\n",
    "    elif (cond == 'or'):\n",
    "        query_df = df[(df.category == cate) \n",
    "            & (df['date'] >= start_date) & (df['date'] <= end_date) \n",
    "            & df.tokens_v2.apply(lambda text: any((qk in text) for qk in user_keywords))]\n",
    "    return query_df"
   ]
  },
  {
   "cell_type": "markdown",
   "metadata": {},
   "source": [
    "### For \"politics\" category 政治類"
   ]
  },
  {
   "cell_type": "code",
   "execution_count": null,
   "metadata": {},
   "outputs": [],
   "source": [
    "user_keywords=['烏克蘭','台灣']\n",
    "cond='and'\n",
    "cate='政治'\n",
    "weeks=2\n",
    "df_query = filter_dataFrame(user_keywords, cond, cate, weeks)"
   ]
  },
  {
   "cell_type": "code",
   "execution_count": null,
   "metadata": {},
   "outputs": [],
   "source": [
    "# end date: the date of the latest record of news\n",
    "end_date = df.date.max()\n",
    "\n",
    "# start date\n",
    "start_date = (datetime.strptime(end_date, '%Y-%m-%d').date() - timedelta(weeks=weeks)).strftime('%Y-%m-%d')"
   ]
  },
  {
   "cell_type": "code",
   "execution_count": null,
   "metadata": {},
   "outputs": [],
   "source": [
    "user_keywords=['烏克蘭','台灣']\n",
    "cond='and'\n",
    "cate='政治'\n",
    "weeks=2"
   ]
  },
  {
   "cell_type": "code",
   "execution_count": null,
   "metadata": {},
   "outputs": [
    {
     "data": {
      "text/plain": [
       "2"
      ]
     },
     "execution_count": 69,
     "metadata": {},
     "output_type": "execute_result"
    }
   ],
   "source": [
    "query_df = df[(\n",
    "    df.category == cate)   # category\n",
    "    & (df.date >= start_date) & (df.date <= end_date) # duration\n",
    "    & df.tokens_v2.apply(lambda row: all((qk in row) for qk in user_keywords)) # user keywords\n",
    "    ]\n",
    "len(query_df)"
   ]
  },
  {
   "cell_type": "markdown",
   "metadata": {},
   "source": [
    "### For \"全部\"\"All\" category"
   ]
  },
  {
   "cell_type": "code",
   "execution_count": null,
   "metadata": {},
   "outputs": [],
   "source": [
    "user_keywords=['烏克蘭','台灣']\n",
    "cond='and'\n",
    "cate='全部'\n",
    "weeks=2"
   ]
  },
  {
   "cell_type": "code",
   "execution_count": null,
   "metadata": {},
   "outputs": [],
   "source": [
    "if (cate == \"全部\") & (cond == 'and'):\n",
    "    query_df = df[\n",
    "        (df.date >= start_date) & (df.date <= end_date) \n",
    "        & df.tokens_v2.apply(lambda row: all((qk in row) for qk in user_keywords))\n",
    "        ]\n",
    "elif (cate == \"全部\") & (cond == 'or'):\n",
    "    query_df = df[\n",
    "        (df['date'] >= start_date) & (df['date'] <= end_date) \n",
    "        & df.tokens_v2.apply(lambda row: any((qk in row) for qk in user_keywords))]"
   ]
  },
  {
   "cell_type": "code",
   "execution_count": null,
   "metadata": {},
   "outputs": [
    {
     "data": {
      "text/plain": [
       "7"
      ]
     },
     "execution_count": 72,
     "metadata": {},
     "output_type": "execute_result"
    }
   ],
   "source": [
    "len(query_df)"
   ]
  },
  {
   "cell_type": "markdown",
   "metadata": {},
   "source": [
    "# Function of count_keyword() to calculate frequency and occurence"
   ]
  },
  {
   "cell_type": "code",
   "execution_count": null,
   "metadata": {},
   "outputs": [],
   "source": [
    "# For the query_df, count the occurence and frequency for each category.\n",
    "\n",
    "# (1) cate_occurence={}  被多少篇新聞報導\n",
    "# (2) cate_freq={}       被提到多少次?How many times were the keywords mentioned\n",
    "\n",
    "\n",
    "news_categories = ['政治', '科技', '運動', '證卷', '產經', '娛樂', '生活', '國際', '社會', '文化', '兩岸', '全部']\n",
    "\n",
    "def count_keyword(query_df, user_keywords):\n",
    "    cate_occurence={}\n",
    "    cate_freq={}\n",
    "\n",
    "    for cate in news_categories:\n",
    "        cate_occurence[cate]=0\n",
    "        cate_freq[cate]=0\n",
    "\n",
    "    for idx, row in query_df.iterrows():\n",
    "        # count number of news\n",
    "        cate_occurence[row.category] += 1 # add 1 to its category's occurence\n",
    "        cate_occurence['全部'] += 1\n",
    "        \n",
    "        # count user keyword frequency by checking every word in tokens_v2\n",
    "        tokens = eval(row.tokens_v2) # count frequency\n",
    "        freq =  len([word for word in tokens if (word in user_keywords)]) # how manay times?\n",
    "        cate_freq[row.category] += freq\n",
    "        cate_freq['全部'] += freq\n",
    "        \n",
    "    return cate_freq, cate_occurence"
   ]
  },
  {
   "cell_type": "code",
   "execution_count": null,
   "metadata": {},
   "outputs": [
    {
     "data": {
      "text/plain": [
       "({'政治': 14,\n",
       "  '科技': 0,\n",
       "  '運動': 0,\n",
       "  '證卷': 0,\n",
       "  '產經': 0,\n",
       "  '娛樂': 0,\n",
       "  '生活': 0,\n",
       "  '國際': 0,\n",
       "  '社會': 0,\n",
       "  '文化': 0,\n",
       "  '兩岸': 0,\n",
       "  '全部': 14},\n",
       " {'政治': 2,\n",
       "  '科技': 0,\n",
       "  '運動': 0,\n",
       "  '證卷': 0,\n",
       "  '產經': 0,\n",
       "  '娛樂': 0,\n",
       "  '生活': 0,\n",
       "  '國際': 0,\n",
       "  '社會': 0,\n",
       "  '文化': 0,\n",
       "  '兩岸': 0,\n",
       "  '全部': 2})"
      ]
     },
     "execution_count": 74,
     "metadata": {},
     "output_type": "execute_result"
    }
   ],
   "source": [
    "\n",
    "user_keywords=['烏克蘭','台灣']\n",
    "count_keyword(df_query, user_keywords)"
   ]
  },
  {
   "cell_type": "markdown",
   "metadata": {},
   "source": [
    "## Show these codes step by step by yourself"
   ]
  },
  {
   "cell_type": "code",
   "execution_count": null,
   "metadata": {},
   "outputs": [],
   "source": [
    "user_keywords=['烏克蘭','外交部']\n",
    "cond='and'\n",
    "cate='全部'\n",
    "weeks=2\n",
    "df_query = filter_dataFrame(user_keywords, cond, cate, weeks)\n",
    "\n",
    "# count user keyword frequency by checking every word in tokens_v2\n",
    "tokens = eval(df_query.tokens_v2[0]) # count frequency\n",
    "freq =  len([word for word in tokens if (word in user_keywords)]) # how manay times?"
   ]
  },
  {
   "cell_type": "code",
   "execution_count": null,
   "metadata": {},
   "outputs": [
    {
     "data": {
      "text/plain": [
       "['民眾',\n",
       " '烏克蘭',\n",
       " '愛心',\n",
       " '物資',\n",
       " '外交部',\n",
       " '收到',\n",
       " '外交部長',\n",
       " '吳釗燮',\n",
       " '現場',\n",
       " '協助',\n",
       " '整理',\n",
       " '物資',\n",
       " '志工',\n",
       " '加油',\n",
       " '民眾',\n",
       " '表達',\n",
       " '外交部',\n",
       " '發布',\n",
       " '新聞稿',\n",
       " '外交部',\n",
       " '民間',\n",
       " '募集',\n",
       " '烏克蘭',\n",
       " '難民',\n",
       " '物資',\n",
       " '響應',\n",
       " '外交部',\n",
       " '物資',\n",
       " '民眾',\n",
       " '包裹',\n",
       " '收到',\n",
       " '物資',\n",
       " '品項',\n",
       " '醫療',\n",
       " '口罩',\n",
       " '毛毯',\n",
       " '女性',\n",
       " '衛生',\n",
       " '用品',\n",
       " '尿片',\n",
       " '餅乾',\n",
       " '募集',\n",
       " '活動',\n",
       " '外交部',\n",
       " '民眾',\n",
       " '現場',\n",
       " '分類',\n",
       " '整理',\n",
       " '志工',\n",
       " '外交部',\n",
       " '人員',\n",
       " '吳釗燮',\n",
       " '外交部',\n",
       " '地下',\n",
       " '停車場',\n",
       " '吳釗燮',\n",
       " '在場',\n",
       " '慈濟',\n",
       " '民間',\n",
       " '組織',\n",
       " '志工',\n",
       " '自發',\n",
       " '到場',\n",
       " '幫忙',\n",
       " '善心',\n",
       " '人士',\n",
       " '互動',\n",
       " '烏克蘭',\n",
       " '人士',\n",
       " '義工',\n",
       " '現場',\n",
       " '協助',\n",
       " '吳釗燮',\n",
       " '致意',\n",
       " '慰問',\n",
       " '外交部',\n",
       " '照片',\n",
       " '到場',\n",
       " '幫忙',\n",
       " '烏克蘭',\n",
       " '志工',\n",
       " '家鄉',\n",
       " '情勢',\n",
       " '網紅佳娜',\n",
       " '外交部',\n",
       " '物資',\n",
       " '民眾',\n",
       " '物品',\n",
       " '外交部',\n",
       " '網站',\n",
       " '清單',\n",
       " '物品',\n",
       " '衣物',\n",
       " '外交部',\n",
       " '物品',\n",
       " '物品',\n",
       " '拆封',\n",
       " '包裝',\n",
       " '有效期',\n",
       " '整理',\n",
       " '轉運',\n",
       " '困擾',\n",
       " '時間',\n",
       " '民眾',\n",
       " '清單',\n",
       " '藥品',\n",
       " '外交部',\n",
       " '外交部',\n",
       " '民眾',\n",
       " '援助',\n",
       " '烏克蘭',\n",
       " '人道',\n",
       " '物資',\n",
       " '志工',\n",
       " '幫忙',\n",
       " '貢獻',\n",
       " '外交部',\n",
       " '各界',\n",
       " '人士',\n",
       " '時間',\n",
       " '精神',\n",
       " '投入',\n",
       " '國際',\n",
       " '人道',\n",
       " '援助',\n",
       " '表達',\n",
       " '敬意']"
      ]
     },
     "execution_count": 76,
     "metadata": {},
     "output_type": "execute_result"
    }
   ],
   "source": [
    "tokens"
   ]
  },
  {
   "cell_type": "code",
   "execution_count": null,
   "metadata": {},
   "outputs": [
    {
     "data": {
      "text/plain": [
       "19"
      ]
     },
     "execution_count": 77,
     "metadata": {},
     "output_type": "execute_result"
    }
   ],
   "source": [
    "freq"
   ]
  },
  {
   "cell_type": "code",
   "execution_count": null,
   "metadata": {},
   "outputs": [],
   "source": []
  },
  {
   "cell_type": "markdown",
   "metadata": {},
   "source": [
    "## Now we can conveniently call those functions"
   ]
  },
  {
   "cell_type": "code",
   "execution_count": null,
   "metadata": {},
   "outputs": [],
   "source": [
    "user_keywords=['烏克蘭','台灣']\n",
    "cond='or'\n",
    "cate='全部'\n",
    "weeks=2\n",
    "df_query = filter_dataFrame(user_keywords, cond, cate, weeks)"
   ]
  },
  {
   "cell_type": "code",
   "execution_count": null,
   "metadata": {},
   "outputs": [
    {
     "data": {
      "text/plain": [
       "91"
      ]
     },
     "execution_count": 79,
     "metadata": {},
     "output_type": "execute_result"
    }
   ],
   "source": [
    "len(df_query)"
   ]
  },
  {
   "cell_type": "code",
   "execution_count": null,
   "metadata": {},
   "outputs": [
    {
     "data": {
      "text/plain": [
       "({'政治': 50,\n",
       "  '科技': 37,\n",
       "  '運動': 14,\n",
       "  '證卷': 27,\n",
       "  '產經': 34,\n",
       "  '娛樂': 16,\n",
       "  '生活': 7,\n",
       "  '國際': 32,\n",
       "  '社會': 8,\n",
       "  '文化': 51,\n",
       "  '兩岸': 11,\n",
       "  '全部': 287},\n",
       " {'政治': 10,\n",
       "  '科技': 11,\n",
       "  '運動': 10,\n",
       "  '證卷': 7,\n",
       "  '產經': 9,\n",
       "  '娛樂': 8,\n",
       "  '生活': 5,\n",
       "  '國際': 9,\n",
       "  '社會': 5,\n",
       "  '文化': 14,\n",
       "  '兩岸': 3,\n",
       "  '全部': 91})"
      ]
     },
     "execution_count": 80,
     "metadata": {},
     "output_type": "execute_result"
    }
   ],
   "source": [
    "count_keyword(df_query, user_keywords)"
   ]
  },
  {
   "cell_type": "code",
   "execution_count": null,
   "metadata": {},
   "outputs": [],
   "source": [
    "user_keywords=['烏克蘭','台灣']\n",
    "cond='and'\n",
    "cate='政治'\n",
    "weeks=2\n",
    "df_query = filter_dataFrame(user_keywords, cond, cate, weeks)"
   ]
  },
  {
   "cell_type": "code",
   "execution_count": null,
   "metadata": {},
   "outputs": [
    {
     "data": {
      "text/plain": [
       "2"
      ]
     },
     "execution_count": 82,
     "metadata": {},
     "output_type": "execute_result"
    }
   ],
   "source": [
    "len(df_query)"
   ]
  },
  {
   "cell_type": "code",
   "execution_count": null,
   "metadata": {},
   "outputs": [
    {
     "data": {
      "text/plain": [
       "({'政治': 14,\n",
       "  '科技': 0,\n",
       "  '運動': 0,\n",
       "  '證卷': 0,\n",
       "  '產經': 0,\n",
       "  '娛樂': 0,\n",
       "  '生活': 0,\n",
       "  '國際': 0,\n",
       "  '社會': 0,\n",
       "  '文化': 0,\n",
       "  '兩岸': 0,\n",
       "  '全部': 14},\n",
       " {'政治': 2,\n",
       "  '科技': 0,\n",
       "  '運動': 0,\n",
       "  '證卷': 0,\n",
       "  '產經': 0,\n",
       "  '娛樂': 0,\n",
       "  '生活': 0,\n",
       "  '國際': 0,\n",
       "  '社會': 0,\n",
       "  '文化': 0,\n",
       "  '兩岸': 0,\n",
       "  '全部': 2})"
      ]
     },
     "execution_count": 83,
     "metadata": {},
     "output_type": "execute_result"
    }
   ],
   "source": [
    "count_keyword(df_query, user_keyword)"
   ]
  },
  {
   "cell_type": "code",
   "execution_count": null,
   "metadata": {},
   "outputs": [],
   "source": []
  },
  {
   "cell_type": "markdown",
   "metadata": {},
   "source": [
    "## Usage of apply, map (For reference)"
   ]
  },
  {
   "cell_type": "code",
   "execution_count": null,
   "metadata": {},
   "outputs": [
    {
     "data": {
      "text/html": [
       "<div>\n",
       "<style scoped>\n",
       "    .dataframe tbody tr th:only-of-type {\n",
       "        vertical-align: middle;\n",
       "    }\n",
       "\n",
       "    .dataframe tbody tr th {\n",
       "        vertical-align: top;\n",
       "    }\n",
       "\n",
       "    .dataframe thead th {\n",
       "        text-align: right;\n",
       "    }\n",
       "</style>\n",
       "<table border=\"1\" class=\"dataframe\">\n",
       "  <thead>\n",
       "    <tr style=\"text-align: right;\">\n",
       "      <th></th>\n",
       "      <th>Col 1</th>\n",
       "      <th>Col 2</th>\n",
       "      <th>Col 3</th>\n",
       "    </tr>\n",
       "  </thead>\n",
       "  <tbody>\n",
       "    <tr>\n",
       "      <th>A</th>\n",
       "      <td>3</td>\n",
       "      <td>2</td>\n",
       "      <td>8</td>\n",
       "    </tr>\n",
       "    <tr>\n",
       "      <th>B</th>\n",
       "      <td>4</td>\n",
       "      <td>3</td>\n",
       "      <td>8</td>\n",
       "    </tr>\n",
       "    <tr>\n",
       "      <th>C</th>\n",
       "      <td>5</td>\n",
       "      <td>6</td>\n",
       "      <td>9</td>\n",
       "    </tr>\n",
       "    <tr>\n",
       "      <th>D</th>\n",
       "      <td>6</td>\n",
       "      <td>4</td>\n",
       "      <td>8</td>\n",
       "    </tr>\n",
       "  </tbody>\n",
       "</table>\n",
       "</div>"
      ],
      "text/plain": [
       "   Col 1  Col 2  Col 3\n",
       "A      3      2      8\n",
       "B      4      3      8\n",
       "C      5      6      9\n",
       "D      6      4      8"
      ]
     },
     "metadata": {},
     "output_type": "display_data"
    }
   ],
   "source": [
    "# apply usage\n",
    "import pandas as pd\n",
    "\n",
    "sample_df = pd.DataFrame({\n",
    "    'Col 1': [3,4,5,6],\n",
    "    'Col 2': [2,3,6,4],\n",
    "    'Col 3': [8,8,9,8],\n",
    "\n",
    "},index=[\"A\",\"B\",\"C\",\"D\"])\n",
    "sample_df"
   ]
  },
  {
   "cell_type": "code",
   "execution_count": null,
   "metadata": {},
   "outputs": [
    {
     "data": {
      "text/html": [
       "<div>\n",
       "<style scoped>\n",
       "    .dataframe tbody tr th:only-of-type {\n",
       "        vertical-align: middle;\n",
       "    }\n",
       "\n",
       "    .dataframe tbody tr th {\n",
       "        vertical-align: top;\n",
       "    }\n",
       "\n",
       "    .dataframe thead th {\n",
       "        text-align: right;\n",
       "    }\n",
       "</style>\n",
       "<table border=\"1\" class=\"dataframe\">\n",
       "  <thead>\n",
       "    <tr style=\"text-align: right;\">\n",
       "      <th></th>\n",
       "      <th>Col 1</th>\n",
       "      <th>Col 2</th>\n",
       "      <th>Col 3</th>\n",
       "    </tr>\n",
       "  </thead>\n",
       "  <tbody>\n",
       "    <tr>\n",
       "      <th>A</th>\n",
       "      <td>13</td>\n",
       "      <td>12</td>\n",
       "      <td>18</td>\n",
       "    </tr>\n",
       "    <tr>\n",
       "      <th>B</th>\n",
       "      <td>14</td>\n",
       "      <td>13</td>\n",
       "      <td>18</td>\n",
       "    </tr>\n",
       "    <tr>\n",
       "      <th>C</th>\n",
       "      <td>15</td>\n",
       "      <td>16</td>\n",
       "      <td>19</td>\n",
       "    </tr>\n",
       "    <tr>\n",
       "      <th>D</th>\n",
       "      <td>16</td>\n",
       "      <td>14</td>\n",
       "      <td>18</td>\n",
       "    </tr>\n",
       "  </tbody>\n",
       "</table>\n",
       "</div>"
      ],
      "text/plain": [
       "   Col 1  Col 2  Col 3\n",
       "A     13     12     18\n",
       "B     14     13     18\n",
       "C     15     16     19\n",
       "D     16     14     18"
      ]
     },
     "metadata": {},
     "output_type": "display_data"
    }
   ],
   "source": [
    "sample_df=sample_df.apply(lambda x: x+10)\n",
    "sample_df"
   ]
  },
  {
   "cell_type": "code",
   "execution_count": null,
   "metadata": {},
   "outputs": [
    {
     "data": {
      "text/html": [
       "<div>\n",
       "<style scoped>\n",
       "    .dataframe tbody tr th:only-of-type {\n",
       "        vertical-align: middle;\n",
       "    }\n",
       "\n",
       "    .dataframe tbody tr th {\n",
       "        vertical-align: top;\n",
       "    }\n",
       "\n",
       "    .dataframe thead th {\n",
       "        text-align: right;\n",
       "    }\n",
       "</style>\n",
       "<table border=\"1\" class=\"dataframe\">\n",
       "  <thead>\n",
       "    <tr style=\"text-align: right;\">\n",
       "      <th></th>\n",
       "      <th>Col 1</th>\n",
       "      <th>Col 2</th>\n",
       "      <th>Col 3</th>\n",
       "    </tr>\n",
       "  </thead>\n",
       "  <tbody>\n",
       "    <tr>\n",
       "      <th>A</th>\n",
       "      <td>3</td>\n",
       "      <td>12</td>\n",
       "      <td>18</td>\n",
       "    </tr>\n",
       "    <tr>\n",
       "      <th>B</th>\n",
       "      <td>4</td>\n",
       "      <td>13</td>\n",
       "      <td>18</td>\n",
       "    </tr>\n",
       "    <tr>\n",
       "      <th>C</th>\n",
       "      <td>5</td>\n",
       "      <td>16</td>\n",
       "      <td>19</td>\n",
       "    </tr>\n",
       "    <tr>\n",
       "      <th>D</th>\n",
       "      <td>6</td>\n",
       "      <td>14</td>\n",
       "      <td>18</td>\n",
       "    </tr>\n",
       "  </tbody>\n",
       "</table>\n",
       "</div>"
      ],
      "text/plain": [
       "   Col 1  Col 2  Col 3\n",
       "A      3     12     18\n",
       "B      4     13     18\n",
       "C      5     16     19\n",
       "D      6     14     18"
      ]
     },
     "metadata": {},
     "output_type": "display_data"
    }
   ],
   "source": [
    "sample_df[\"Col 1\"]=sample_df[\"Col 1\"].apply(lambda x: x-10)\n",
    "sample_df"
   ]
  },
  {
   "cell_type": "markdown",
   "metadata": {},
   "source": [
    "## Example"
   ]
  },
  {
   "cell_type": "code",
   "execution_count": null,
   "metadata": {},
   "outputs": [],
   "source": [
    "df_sample = pd.read_csv('./cna_news_preprocessed_time_format.csv',sep='|')"
   ]
  },
  {
   "cell_type": "code",
   "execution_count": null,
   "metadata": {},
   "outputs": [
    {
     "data": {
      "text/plain": [
       "0      2022-03-14\n",
       "1      2022-03-14\n",
       "2      2022-03-14\n",
       "3      2022-03-14\n",
       "4      2022-03-14\n",
       "          ...    \n",
       "208    2022-03-14\n",
       "209    2022-03-14\n",
       "210    2022-03-14\n",
       "211    2022-03-14\n",
       "212    2022-03-13\n",
       "Name: date, Length: 213, dtype: object"
      ]
     },
     "metadata": {},
     "output_type": "display_data"
    }
   ],
   "source": [
    "df_sample.date.apply(lambda date: datetime.strptime(date,'%Y/%m/%d %H:%M').strftime('%Y-%m-%d'))"
   ]
  },
  {
   "cell_type": "code",
   "execution_count": null,
   "metadata": {},
   "outputs": [],
   "source": [
    "def conve_date_time_format(date):\n",
    "    return datetime.strptime(date,'%Y/%m/%d %H:%M').strftime('%Y-%m-%d')"
   ]
  },
  {
   "cell_type": "code",
   "execution_count": null,
   "metadata": {},
   "outputs": [
    {
     "data": {
      "text/plain": [
       "0      2022-03-14\n",
       "1      2022-03-14\n",
       "2      2022-03-14\n",
       "3      2022-03-14\n",
       "4      2022-03-14\n",
       "          ...    \n",
       "208    2022-03-14\n",
       "209    2022-03-14\n",
       "210    2022-03-14\n",
       "211    2022-03-14\n",
       "212    2022-03-13\n",
       "Name: date, Length: 213, dtype: object"
      ]
     },
     "metadata": {},
     "output_type": "display_data"
    }
   ],
   "source": [
    "df_sample.date.apply(conve_date_time_format)"
   ]
  },
  {
   "cell_type": "code",
   "execution_count": null,
   "metadata": {},
   "outputs": [
    {
     "data": {
      "text/plain": [
       "0      2022-03-14\n",
       "1      2022-03-14\n",
       "2      2022-03-14\n",
       "3      2022-03-14\n",
       "4      2022-03-14\n",
       "          ...    \n",
       "208    2022-03-14\n",
       "209    2022-03-14\n",
       "210    2022-03-14\n",
       "211    2022-03-14\n",
       "212    2022-03-13\n",
       "Name: date, Length: 213, dtype: object"
      ]
     },
     "metadata": {},
     "output_type": "display_data"
    }
   ],
   "source": [
    "df_sample.date.map(conve_date_time_format)"
   ]
  },
  {
   "cell_type": "code",
   "execution_count": null,
   "metadata": {},
   "outputs": [],
   "source": []
  },
  {
   "cell_type": "code",
   "execution_count": null,
   "metadata": {},
   "outputs": [],
   "source": []
  }
 ],
 "metadata": {
  "kernelspec": {
   "display_name": "Python 3",
   "language": "python",
   "name": "python3"
  },
  "language_info": {
   "codemirror_mode": {
    "name": "ipython",
    "version": 3
   },
   "file_extension": ".py",
   "mimetype": "text/x-python",
   "name": "python",
   "nbconvert_exporter": "python",
   "pygments_lexer": "ipython3",
   "version": "3.8.12"
  },
  "toc": {
   "base_numbering": 1,
   "nav_menu": {},
   "number_sections": true,
   "sideBar": true,
   "skip_h1_title": false,
   "title_cell": "Table of Contents",
   "title_sidebar": "Contents",
   "toc_cell": false,
   "toc_position": {},
   "toc_section_display": true,
   "toc_window_display": true
  }
 },
 "nbformat": 4,
 "nbformat_minor": 2
}
