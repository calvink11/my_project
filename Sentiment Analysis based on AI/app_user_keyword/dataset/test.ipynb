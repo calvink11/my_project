{
 "cells": [
  {
   "cell_type": "code",
   "execution_count": 1,
   "metadata": {},
   "outputs": [],
   "source": [
    "import pandas as pd\n",
    "import sqlalchemy"
   ]
  },
  {
   "cell_type": "code",
   "execution_count": 2,
   "metadata": {},
   "outputs": [],
   "source": [
    "conn= sqlalchemy.create_engine('sqlite:///nownewsdata.sqlite3.db')"
   ]
  },
  {
   "cell_type": "code",
   "execution_count": 3,
   "metadata": {},
   "outputs": [],
   "source": [
    "from datetime import datetime"
   ]
  },
  {
   "cell_type": "code",
   "execution_count": 4,
   "metadata": {},
   "outputs": [],
   "source": [
    "def get_duration_date(week=7):\n",
    "    # What date is the last day?\n",
    "    # end date: the date of the last record of news\n",
    "    end_date = conn.execute(\"SELECT MAX(date) FROM now_news\").fetchall()[0][0]\n",
    "    weeks=7\n",
    "    start_date_delta = (datetime.strptime(end_date, '%Y-%m-%d').date() - timedelta(weeks=weeks)).strftime('%Y-%m-%d')\n",
    "    start_date_min = conn.execute(\"SELECT Min(date) FROM now_news\").fetchall()[0][0]\n",
    "    # set start_date as the larger one from the start_date_delta and start_date_min 開始時間選資料最早時間與周數:兩者較晚者\n",
    "    start_date = max(start_date_delta,   start_date_min)\n",
    "    # A time period of 4 weeks \n",
    "    #  \"select * from cna_news where date > '2020-02-12' AND date <= '2020-02-17'; \"\n",
    "    # statement = \"select * from cna_news where date > '{}' AND date <= '{}'\".format(start_date, end_date)\n",
    "\n",
    "    return start_date, end_date"
   ]
  },
  {
   "cell_type": "code",
   "execution_count": 5,
   "metadata": {},
   "outputs": [
    {
     "ename": "NameError",
     "evalue": "name 'weeks' is not defined",
     "output_type": "error",
     "traceback": [
      "\u001b[1;31m---------------------------------------------------------------------------\u001b[0m",
      "\u001b[1;31mNameError\u001b[0m                                 Traceback (most recent call last)",
      "\u001b[1;32mc:\\Users\\Calvin\\OneDrive - 國立高雄科技大學\\大數據分析實務\\B110118302_江浩賢\\app_user_keyword\\dataset\\test.ipynb Cell 5'\u001b[0m in \u001b[0;36m<module>\u001b[1;34m\u001b[0m\n\u001b[1;32m----> <a href='vscode-notebook-cell:/c%3A/Users/Calvin/OneDrive%20-%20%E5%9C%8B%E7%AB%8B%E9%AB%98%E9%9B%84%E7%A7%91%E6%8A%80%E5%A4%A7%E5%AD%B8/%E5%A4%A7%E6%95%B8%E6%93%9A%E5%88%86%E6%9E%90%E5%AF%A6%E5%8B%99/B110118302_%E6%B1%9F%E6%B5%A9%E8%B3%A2/app_user_keyword/dataset/test.ipynb#ch0000004?line=0'>1</a>\u001b[0m df_query \u001b[39m=\u001b[39m get_duration_date(weeks)\n\u001b[0;32m      <a href='vscode-notebook-cell:/c%3A/Users/Calvin/OneDrive%20-%20%E5%9C%8B%E7%AB%8B%E9%AB%98%E9%9B%84%E7%A7%91%E6%8A%80%E5%A4%A7%E5%AD%B8/%E5%A4%A7%E6%95%B8%E6%93%9A%E5%88%86%E6%9E%90%E5%AF%A6%E5%8B%99/B110118302_%E6%B1%9F%E6%B5%A9%E8%B3%A2/app_user_keyword/dataset/test.ipynb#ch0000004?line=1'>2</a>\u001b[0m \u001b[39mlen\u001b[39m(df_query)\n",
      "\u001b[1;31mNameError\u001b[0m: name 'weeks' is not defined"
     ]
    }
   ],
   "source": [
    "df_query = get_duration_date(weeks)\n",
    "len(df_query)"
   ]
  },
  {
   "cell_type": "code",
   "execution_count": null,
   "metadata": {},
   "outputs": [],
   "source": []
  }
 ],
 "metadata": {
  "kernelspec": {
   "display_name": "Python 3",
   "language": "python",
   "name": "python3"
  },
  "language_info": {
   "codemirror_mode": {
    "name": "ipython",
    "version": 3
   },
   "file_extension": ".py",
   "mimetype": "text/x-python",
   "name": "python",
   "nbconvert_exporter": "python",
   "pygments_lexer": "ipython3",
   "version": "3.8.12"
  },
  "orig_nbformat": 4
 },
 "nbformat": 4,
 "nbformat_minor": 2
}
